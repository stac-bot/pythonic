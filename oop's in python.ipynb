{
 "cells": [
  {
   "cell_type": "markdown",
   "metadata": {},
   "source": [
    "# #########object oriented programming ########\n",
    "\n",
    "#Class\n",
    "#A class is a blueprint for the object.\n",
    "\n",
    "#We can think of class as an sketch of a parrot with labels. It contains all the details about the name, colors, size etc.\n",
    "\n",
    "\n",
    "#Inheritance\tA process of using details from a new class without modifying existing class.\n",
    "#Encapsulation\tHiding the private details of a class from other objects.\n",
    "#Polymorphism\tA concept of using common operation in different ways for different data input."
   ]
  },
  {
   "cell_type": "markdown",
   "metadata": {},
   "source": [
    "# object\n",
    "Object\n",
    "An object (instance) is an instantiation of a class. When class is defined, only the description for the object is defined. Therefore, no memory or storage is allocated.\n",
    "\n",
    "The example for object of parrot class can be:\n",
    "\n",
    "obj = Parrot()"
   ]
  },
  {
   "cell_type": "code",
   "execution_count": 1,
   "metadata": {},
   "outputs": [],
   "source": [
    "class Animal():\n",
    "    species =\"animal\"\n",
    "    def __init__(self,name):\n",
    "        print(\"cat created\")\n",
    "        print(\"dog created\")\n",
    "        self.name=name\n",
    "        \n",
    "    def bark(self):\n",
    "        return error"
   ]
  },
  {
   "cell_type": "code",
   "execution_count": 3,
   "metadata": {},
   "outputs": [],
   "source": [
    "class Dog():\n",
    "    def __init__(self,breed,name,spots,color):\n",
    "        self.breed= breed\n",
    "        self.name= name\n",
    "        self.spots= spots\n",
    "        self.color= color\n",
    "\n",
    "my_dog=Dog(breed=\"lab\",name=\"joe\",spots=\"no spots\",color=\"greey\")\n"
   ]
  },
  {
   "cell_type": "code",
   "execution_count": 4,
   "metadata": {},
   "outputs": [
    {
     "data": {
      "text/plain": [
       "'greey'"
      ]
     },
     "execution_count": 4,
     "metadata": {},
     "output_type": "execute_result"
    }
   ],
   "source": [
    "my_dog.color"
   ]
  },
  {
   "cell_type": "code",
   "execution_count": 12,
   "metadata": {},
   "outputs": [
    {
     "ename": "IndentationError",
     "evalue": "unindent does not match any outer indentation level (<tokenize>, line 8)",
     "output_type": "error",
     "traceback": [
      "\u001b[0;36m  File \u001b[0;32m\"<tokenize>\"\u001b[0;36m, line \u001b[0;32m8\u001b[0m\n\u001b[0;31m    self.height= height\u001b[0m\n\u001b[0m    ^\u001b[0m\n\u001b[0;31mIndentationError\u001b[0m\u001b[0;31m:\u001b[0m unindent does not match any outer indentation level\n"
     ]
    }
   ],
   "source": [
    "       # creating a instance of class  is very worthy but abstract class never use instances\n",
    "    \n",
    "class Cylinder():\n",
    "    \n",
    "    pi=3.14         #class attribute  call class attribute always with [classname.(nameof the methode)]\n",
    "     \n",
    "    def __init__(self,height,radius):\n",
    "        self.height= height\n",
    "        self.radius= radius\n",
    "        \n",
    "    def volume(self):         #vo;ume methode\n",
    "        return 3.14*((self.radius)**2)*self.height\n",
    "    \n",
    "    def surface_area(self,height,radius):\n",
    "        return 2*3.14*radius*height + 2*3.14*(height)**2                     #2πrh+2πr2"
   ]
  },
  {
   "cell_type": "code",
   "execution_count": 13,
   "metadata": {},
   "outputs": [],
   "source": [
    "#inheritance\n",
    "\n",
    "class Animal():\n",
    "    \n",
    "    def __init__(self,name):\n",
    "        self.name=name\n",
    "        \n",
    "    def speak():\n",
    "        raise NOTimplementedError(\"subclass must implement this Method\") "
   ]
  },
  {
   "cell_type": "code",
   "execution_count": 16,
   "metadata": {},
   "outputs": [],
   "source": [
    "class Dog(Animal):\n",
    "    \n",
    "    def speak(self):\n",
    "        return self.name + \" says Woof!\"\n",
    "    \n",
    "    "
   ]
  },
  {
   "cell_type": "code",
   "execution_count": 17,
   "metadata": {},
   "outputs": [],
   "source": [
    "class Cat(Animal):\n",
    "    \n",
    "    def speak(self):\n",
    "        return self.name + \" says Meow\""
   ]
  },
  {
   "cell_type": "code",
   "execution_count": 18,
   "metadata": {},
   "outputs": [],
   "source": [
    "niko=Cat(\"niko\")\n",
    "isis=Dog(\"isis\")"
   ]
  },
  {
   "cell_type": "code",
   "execution_count": 20,
   "metadata": {},
   "outputs": [
    {
     "data": {
      "text/plain": [
       "'niko says Meow'"
      ]
     },
     "execution_count": 20,
     "metadata": {},
     "output_type": "execute_result"
    }
   ],
   "source": [
    "niko.speak()"
   ]
  },
  {
   "cell_type": "code",
   "execution_count": 21,
   "metadata": {},
   "outputs": [
    {
     "data": {
      "text/plain": [
       "'isis says Woof!'"
      ]
     },
     "execution_count": 21,
     "metadata": {},
     "output_type": "execute_result"
    }
   ],
   "source": [
    "isis.speak()"
   ]
  },
  {
   "cell_type": "code",
   "execution_count": 24,
   "metadata": {},
   "outputs": [
    {
     "name": "stdout",
     "output_type": "stream",
     "text": [
      "niko says Meow\n"
     ]
    }
   ],
   "source": [
    "print((niko.speak()))"
   ]
  },
  {
   "cell_type": "code",
   "execution_count": 38,
   "metadata": {},
   "outputs": [],
   "source": [
    "#problem\n",
    "\n",
    "class Line():\n",
    "    \n",
    "    def __init__(self,coordinate1,coordinate2):\n",
    "        self.coordinate1=coordinate1\n",
    "        self.coordinate2=coordinate2\n",
    "        \n",
    "    def distance(self):\n",
    "        return ((self.coordinate2)**2 - (self.coordinate1)**2)**1/2\n",
    "    \n",
    "    "
   ]
  },
  {
   "cell_type": "code",
   "execution_count": 39,
   "metadata": {},
   "outputs": [],
   "source": [
    "line1=Line(3,5)"
   ]
  },
  {
   "cell_type": "code",
   "execution_count": 40,
   "metadata": {},
   "outputs": [
    {
     "ename": "NameError",
     "evalue": "name 'coordinate2' is not defined",
     "output_type": "error",
     "traceback": [
      "\u001b[0;31m---------------------------------------------------------------------------\u001b[0m",
      "\u001b[0;31mNameError\u001b[0m                                 Traceback (most recent call last)",
      "\u001b[0;32m<ipython-input-40-fa0dd79eea3f>\u001b[0m in \u001b[0;36m<module>\u001b[0;34m\u001b[0m\n\u001b[0;32m----> 1\u001b[0;31m \u001b[0mline1\u001b[0m\u001b[0;34m.\u001b[0m\u001b[0mdistance\u001b[0m\u001b[0;34m(\u001b[0m\u001b[0;34m)\u001b[0m\u001b[0;34m\u001b[0m\u001b[0;34m\u001b[0m\u001b[0m\n\u001b[0m",
      "\u001b[0;32m<ipython-input-38-2948da6818a5>\u001b[0m in \u001b[0;36mdistance\u001b[0;34m(self)\u001b[0m\n\u001b[1;32m      8\u001b[0m \u001b[0;34m\u001b[0m\u001b[0m\n\u001b[1;32m      9\u001b[0m     \u001b[0;32mdef\u001b[0m \u001b[0mdistance\u001b[0m\u001b[0;34m(\u001b[0m\u001b[0mself\u001b[0m\u001b[0;34m)\u001b[0m\u001b[0;34m:\u001b[0m\u001b[0;34m\u001b[0m\u001b[0;34m\u001b[0m\u001b[0m\n\u001b[0;32m---> 10\u001b[0;31m         \u001b[0;32mreturn\u001b[0m \u001b[0;34m(\u001b[0m\u001b[0;34m(\u001b[0m\u001b[0mcoordinate2\u001b[0m\u001b[0;34m)\u001b[0m\u001b[0;34m**\u001b[0m\u001b[0;36m2\u001b[0m \u001b[0;34m-\u001b[0m \u001b[0;34m(\u001b[0m\u001b[0mcoordinate1\u001b[0m\u001b[0;34m)\u001b[0m\u001b[0;34m**\u001b[0m\u001b[0;36m2\u001b[0m\u001b[0;34m)\u001b[0m\u001b[0;34m**\u001b[0m\u001b[0;36m1\u001b[0m\u001b[0;34m/\u001b[0m\u001b[0;36m2\u001b[0m\u001b[0;34m\u001b[0m\u001b[0;34m\u001b[0m\u001b[0m\n\u001b[0m",
      "\u001b[0;31mNameError\u001b[0m: name 'coordinate2' is not defined"
     ]
    }
   ],
   "source": [
    "line1.distance()"
   ]
  },
  {
   "cell_type": "code",
   "execution_count": 6,
   "metadata": {},
   "outputs": [],
   "source": [
    "class My_world():\n",
    "    \n",
    "    def __init__(self,technology,years):\n",
    "        self.technology=technology\n",
    "        self.years=years\n",
    "        \n",
    "    def organiser(self):\n",
    "        print(\"jarvis is the organiser of\", self.technology)"
   ]
  },
  {
   "cell_type": "code",
   "execution_count": 7,
   "metadata": {},
   "outputs": [],
   "source": [
    "tech=My_world(technology=\"neurology\",years=2025)"
   ]
  },
  {
   "cell_type": "code",
   "execution_count": 8,
   "metadata": {},
   "outputs": [
    {
     "name": "stdout",
     "output_type": "stream",
     "text": [
      "jarvis is the organiser of neurology\n"
     ]
    }
   ],
   "source": [
    "tech.organiser()"
   ]
  },
  {
   "cell_type": "code",
   "execution_count": 11,
   "metadata": {},
   "outputs": [],
   "source": [
    "class Ask_me(My_world):\n",
    "    \n",
    "    \n",
    "    def finger(self):\n",
    "         return \"I have many eyes in my new technology\" + \" I am jarvis \"\n",
    "        \n",
    "    def password(self):\n",
    "        Enter=input()\n",
    "        if Enter == \"neurotech\":         \n",
    "            return \"access granted\"+\"\"\" |_-_-_|::::::;??????\"\"\"+ \"I have all security details\"+ \"which details shall i expose\"\n",
    "        else:\n",
    "            return \"your are fake\"\n",
    "    \n",
    "    "
   ]
  },
  {
   "cell_type": "code",
   "execution_count": 12,
   "metadata": {},
   "outputs": [],
   "source": [
    "welcome=Ask_me(technology=\"neurology\",years=2025)"
   ]
  },
  {
   "cell_type": "code",
   "execution_count": 13,
   "metadata": {},
   "outputs": [
    {
     "name": "stdout",
     "output_type": "stream",
     "text": [
      "neurotech\n"
     ]
    },
    {
     "data": {
      "text/plain": [
       "'access granted |_-_-_|::::::;??????I have all security detailswhich details shall i expose'"
      ]
     },
     "execution_count": 13,
     "metadata": {},
     "output_type": "execute_result"
    }
   ],
   "source": [
    "welcome.password()"
   ]
  },
  {
   "cell_type": "code",
   "execution_count": 88,
   "metadata": {},
   "outputs": [
    {
     "data": {
      "text/plain": [
       "2025"
      ]
     },
     "execution_count": 88,
     "metadata": {},
     "output_type": "execute_result"
    }
   ],
   "source": [
    "welcome.years"
   ]
  },
  {
   "cell_type": "markdown",
   "metadata": {},
   "source": [
    "# challenge solving"
   ]
  },
  {
   "cell_type": "code",
   "execution_count": 25,
   "metadata": {},
   "outputs": [],
   "source": [
    "#creating a account of banks\n",
    "\n",
    "class Bank_account():\n",
    "    \n",
    "    def __init__(self,owner,balance):\n",
    "        self.owner=owner\n",
    "        self.balance=balance\n",
    "        \n",
    "    def add_value(self,value):\n",
    "        self.balance= self.balance+ value\n",
    "        \n",
    "    def withdraw(self,amount):\n",
    "        if self.balance<amount:\n",
    "            return \"oop insufficient balance!\"\n",
    "        else:\n",
    "            self.balance=self.balance - amount\n",
    "         \n",
    "        \n",
    "    \n",
    "        \n",
    "        \n",
    "         "
   ]
  },
  {
   "cell_type": "code",
   "execution_count": 26,
   "metadata": {},
   "outputs": [
    {
     "ename": "SyntaxError",
     "evalue": "invalid syntax (<ipython-input-26-1a06bc1c089b>, line 1)",
     "output_type": "error",
     "traceback": [
      "\u001b[0;36m  File \u001b[0;32m\"<ipython-input-26-1a06bc1c089b>\"\u001b[0;36m, line \u001b[0;32m1\u001b[0m\n\u001b[0;31m    myaccount=Bank_account(\"Tony\",\"$\"400)\u001b[0m\n\u001b[0m                                       ^\u001b[0m\n\u001b[0;31mSyntaxError\u001b[0m\u001b[0;31m:\u001b[0m invalid syntax\n"
     ]
    }
   ],
   "source": [
    "myaccount=Bank_account(\"Tony\",\"$\"400)"
   ]
  },
  {
   "cell_type": "code",
   "execution_count": 27,
   "metadata": {},
   "outputs": [],
   "source": [
    "myaccount.add_value(200)"
   ]
  },
  {
   "cell_type": "code",
   "execution_count": 28,
   "metadata": {},
   "outputs": [
    {
     "data": {
      "text/plain": [
       "200"
      ]
     },
     "execution_count": 28,
     "metadata": {},
     "output_type": "execute_result"
    }
   ],
   "source": [
    "myaccount.balance\n"
   ]
  },
  {
   "cell_type": "code",
   "execution_count": 29,
   "metadata": {},
   "outputs": [
    {
     "data": {
      "text/plain": [
       "'oop insufficient balance!'"
      ]
     },
     "execution_count": 29,
     "metadata": {},
     "output_type": "execute_result"
    }
   ],
   "source": [
    "myaccount.withdraw(600)"
   ]
  },
  {
   "cell_type": "code",
   "execution_count": 30,
   "metadata": {},
   "outputs": [
    {
     "data": {
      "text/plain": [
       "200"
      ]
     },
     "execution_count": 30,
     "metadata": {},
     "output_type": "execute_result"
    }
   ],
   "source": [
    "myaccount.balance"
   ]
  },
  {
   "cell_type": "code",
   "execution_count": 32,
   "metadata": {},
   "outputs": [],
   "source": [
    "myaccount.add_value(10000)"
   ]
  },
  {
   "cell_type": "code",
   "execution_count": 33,
   "metadata": {},
   "outputs": [
    {
     "data": {
      "text/plain": [
       "10200"
      ]
     },
     "execution_count": 33,
     "metadata": {},
     "output_type": "execute_result"
    }
   ],
   "source": [
    "myaccount.balance"
   ]
  },
  {
   "cell_type": "code",
   "execution_count": 34,
   "metadata": {},
   "outputs": [],
   "source": [
    "from random  import randint"
   ]
  },
  {
   "cell_type": "code",
   "execution_count": 41,
   "metadata": {},
   "outputs": [
    {
     "data": {
      "text/plain": [
       "5"
      ]
     },
     "execution_count": 41,
     "metadata": {},
     "output_type": "execute_result"
    }
   ],
   "source": [
    "randint(1,100)"
   ]
  },
  {
   "cell_type": "code",
   "execution_count": 42,
   "metadata": {},
   "outputs": [],
   "source": [
    "from random import shuffle"
   ]
  },
  {
   "cell_type": "code",
   "execution_count": 33,
   "metadata": {},
   "outputs": [
    {
     "ename": "TypeError",
     "evalue": "Participant() takes no arguments",
     "output_type": "error",
     "traceback": [
      "\u001b[0;31m---------------------------------------------------------------------------\u001b[0m",
      "\u001b[0;31mTypeError\u001b[0m                                 Traceback (most recent call last)",
      "\u001b[0;32m<ipython-input-33-8e1054bb72db>\u001b[0m in \u001b[0;36m<module>\u001b[0;34m\u001b[0m\n\u001b[1;32m     14\u001b[0m         \u001b[0;32mreturn\u001b[0m \u001b[0;34m\"Name :\"\u001b[0m\u001b[0;34m,\u001b[0m \u001b[0mself\u001b[0m\u001b[0;34m.\u001b[0m\u001b[0mname\u001b[0m\u001b[0;34m,\u001b[0m \u001b[0;34m\"and number : \"\u001b[0m\u001b[0;34m,\u001b[0m \u001b[0mself\u001b[0m\u001b[0;34m.\u001b[0m\u001b[0mmember\u001b[0m\u001b[0;34m\u001b[0m\u001b[0;34m\u001b[0m\u001b[0m\n\u001b[1;32m     15\u001b[0m \u001b[0;34m\u001b[0m\u001b[0m\n\u001b[0;32m---> 16\u001b[0;31m \u001b[0mmem1\u001b[0m\u001b[0;34m=\u001b[0m\u001b[0mParticipant\u001b[0m\u001b[0;34m(\u001b[0m\u001b[0;34m'tony'\u001b[0m\u001b[0;34m,\u001b[0m\u001b[0;36m3000\u001b[0m\u001b[0;34m)\u001b[0m\u001b[0;34m\u001b[0m\u001b[0;34m\u001b[0m\u001b[0m\n\u001b[0m\u001b[1;32m     17\u001b[0m \u001b[0mmem2\u001b[0m\u001b[0;34m=\u001b[0m\u001b[0mParticipant\u001b[0m\u001b[0;34m(\u001b[0m\u001b[0;34m'paper'\u001b[0m\u001b[0;34m,\u001b[0m\u001b[0;36m4000\u001b[0m\u001b[0;34m)\u001b[0m\u001b[0;34m\u001b[0m\u001b[0;34m\u001b[0m\u001b[0m\n\u001b[1;32m     18\u001b[0m \u001b[0mmem1\u001b[0m\u001b[0;34m.\u001b[0m\u001b[0mdisplay_list\u001b[0m\u001b[0;34m(\u001b[0m\u001b[0;34m)\u001b[0m\u001b[0;34m\u001b[0m\u001b[0;34m\u001b[0m\u001b[0m\n",
      "\u001b[0;31mTypeError\u001b[0m: Participant() takes no arguments"
     ]
    }
   ],
   "source": [
    "class Participant():\n",
    "    number=0\n",
    "    \n",
    "    def _init_(self, name, member):\n",
    "        self.name=name\n",
    "        self.member=member\n",
    "        Participant.number +=1\n",
    "        \n",
    "    \n",
    "    def participants(self):\n",
    "        return \"total members %d\" %Participant.number\n",
    "    \n",
    "    def dispaly_list(self):\n",
    "        return \"Name :\", self.name, \"and number : \", self.member\n",
    "\n",
    "mem1=Participant('tony',3000)\n",
    "mem2=Participant('paper',4000)\n",
    "mem1.display_list()"
   ]
  },
  {
   "cell_type": "code",
   "execution_count": null,
   "metadata": {},
   "outputs": [],
   "source": []
  },
  {
   "cell_type": "code",
   "execution_count": 2,
   "metadata": {},
   "outputs": [
    {
     "ename": "IndentationError",
     "evalue": "unexpected indent (<ipython-input-2-521850973298>, line 22)",
     "output_type": "error",
     "traceback": [
      "\u001b[0;36m  File \u001b[0;32m\"<ipython-input-2-521850973298>\"\u001b[0;36m, line \u001b[0;32m22\u001b[0m\n\u001b[0;31m    if add==\"yes\",\"yep\",\"yaa\":\u001b[0m\n\u001b[0m    ^\u001b[0m\n\u001b[0;31mIndentationError\u001b[0m\u001b[0;31m:\u001b[0m unexpected indent\n"
     ]
    }
   ],
   "source": [
    "print(\"that's me speaking english\")\n",
    "print(\"I can just be tested by someone who knows typing\")\n",
    "\n",
    "\n",
    "class Intro():\n",
    "\t\"\"\"intorodution to my\n",
    "\t   robot \"\"\"\n",
    "\tdef __init__(self,name,lang,creater):\n",
    "           \n",
    "\t\tself.name=name\n",
    "\t\tself.lang=lang\n",
    "\t\tself.creater=creater\n",
    "\n",
    "\tdef name(self):\n",
    "\t     print(f\"{self.name} is my name!\")\n",
    "\t     print( \"would you like to share your name\")\n",
    "\t     Name = input()\n",
    "\t     return \"great name man!\" +Name\n",
    "\n",
    "\tdef lang(self):\n",
    "\t\treturn \"python\" + \"would you like me to add any\"\n",
    "\t           if add==\"yes\",\"yep\",\"yaa\":\n",
    "\t\t              which=input()\n",
    "\t\t               return which +\"is add !\"\n",
    "                else:\n",
    "\t\t   \t        print(\"think your are looking tired\")\n",
    "\n",
    "\tdef creater(self):\n",
    "\t\tprint(self.creater)\n",
    "\n",
    "print(\"ask me who is creater!\")"
   ]
  },
  {
   "cell_type": "code",
   "execution_count": 146,
   "metadata": {},
   "outputs": [
    {
     "ename": "NameError",
     "evalue": "name 'Intro' is not defined",
     "output_type": "error",
     "traceback": [
      "\u001b[0;31m---------------------------------------------------------------------------\u001b[0m",
      "\u001b[0;31mNameError\u001b[0m                                 Traceback (most recent call last)",
      "\u001b[0;32m<ipython-input-146-faca1d193c3d>\u001b[0m in \u001b[0;36m<module>\u001b[0;34m\u001b[0m\n\u001b[0;32m----> 1\u001b[0;31m \u001b[0mintro\u001b[0m\u001b[0;34m=\u001b[0m\u001b[0mIntro\u001b[0m\u001b[0;34m(\u001b[0m\u001b[0mashu\u001b[0m\u001b[0;34m,\u001b[0m\u001b[0mpython\u001b[0m\u001b[0;34m,\u001b[0m\u001b[0mtony\u001b[0m\u001b[0;34m)\u001b[0m\u001b[0;34m\u001b[0m\u001b[0;34m\u001b[0m\u001b[0m\n\u001b[0m",
      "\u001b[0;31mNameError\u001b[0m: name 'Intro' is not defined"
     ]
    }
   ],
   "source": [
    "intro=Intro(ashu,python,tony)"
   ]
  },
  {
   "cell_type": "code",
   "execution_count": 144,
   "metadata": {},
   "outputs": [
    {
     "ename": "IndentationError",
     "evalue": "unindent does not match any outer indentation level (<tokenize>, line 4)",
     "output_type": "error",
     "traceback": [
      "\u001b[0;36m  File \u001b[0;32m\"<tokenize>\"\u001b[0;36m, line \u001b[0;32m4\u001b[0m\n\u001b[0;31m    print(\"good\")\u001b[0m\n\u001b[0m    ^\u001b[0m\n\u001b[0;31mIndentationError\u001b[0m\u001b[0;31m:\u001b[0m unindent does not match any outer indentation level\n"
     ]
    }
   ],
   "source": [
    "add= input(\"shall i add lang to your ai system? \")\n",
    "if add ==\"yes\":\n",
    "\twhich=input(\"which one shall i add?\")\n",
    "      \n",
    "    \n",
    "else:\n",
    "\tprint(\"think your are looking tired\")\n"
   ]
  },
  {
   "cell_type": "code",
   "execution_count": 38,
   "metadata": {},
   "outputs": [],
   "source": [
    "def sun(x):\n",
    "    x=int(input(\"what do you think is the length of you from the sun is in term of light speed?\"))\n",
    "    \n",
    "    if x==7:\n",
    "        y=int(input(\"why would you think that \"))\n",
    "    elif y==(\"because that is it\"):\n",
    "        return \"good of you\"\n",
    "    elif print(\"bye! see some time\"):\n",
    "    \n",
    "            return \"lets play maths!\"\n",
    "            yes=input(\"do you know maths \")"
   ]
  },
  {
   "cell_type": "code",
   "execution_count": 39,
   "metadata": {},
   "outputs": [
    {
     "ename": "KeyboardInterrupt",
     "evalue": "",
     "output_type": "error",
     "traceback": [
      "\u001b[0;31m---------------------------------------------------------------------------\u001b[0m",
      "\u001b[0;31mKeyboardInterrupt\u001b[0m                         Traceback (most recent call last)",
      "\u001b[0;32m//anaconda3/lib/python3.7/site-packages/ipykernel/kernelbase.py\u001b[0m in \u001b[0;36m_input_request\u001b[0;34m(self, prompt, ident, parent, password)\u001b[0m\n\u001b[1;32m    884\u001b[0m             \u001b[0;32mtry\u001b[0m\u001b[0;34m:\u001b[0m\u001b[0;34m\u001b[0m\u001b[0;34m\u001b[0m\u001b[0m\n\u001b[0;32m--> 885\u001b[0;31m                 \u001b[0mident\u001b[0m\u001b[0;34m,\u001b[0m \u001b[0mreply\u001b[0m \u001b[0;34m=\u001b[0m \u001b[0mself\u001b[0m\u001b[0;34m.\u001b[0m\u001b[0msession\u001b[0m\u001b[0;34m.\u001b[0m\u001b[0mrecv\u001b[0m\u001b[0;34m(\u001b[0m\u001b[0mself\u001b[0m\u001b[0;34m.\u001b[0m\u001b[0mstdin_socket\u001b[0m\u001b[0;34m,\u001b[0m \u001b[0;36m0\u001b[0m\u001b[0;34m)\u001b[0m\u001b[0;34m\u001b[0m\u001b[0;34m\u001b[0m\u001b[0m\n\u001b[0m\u001b[1;32m    886\u001b[0m             \u001b[0;32mexcept\u001b[0m \u001b[0mException\u001b[0m\u001b[0;34m:\u001b[0m\u001b[0;34m\u001b[0m\u001b[0;34m\u001b[0m\u001b[0m\n",
      "\u001b[0;32m//anaconda3/lib/python3.7/site-packages/jupyter_client/session.py\u001b[0m in \u001b[0;36mrecv\u001b[0;34m(self, socket, mode, content, copy)\u001b[0m\n\u001b[1;32m    802\u001b[0m         \u001b[0;32mtry\u001b[0m\u001b[0;34m:\u001b[0m\u001b[0;34m\u001b[0m\u001b[0;34m\u001b[0m\u001b[0m\n\u001b[0;32m--> 803\u001b[0;31m             \u001b[0mmsg_list\u001b[0m \u001b[0;34m=\u001b[0m \u001b[0msocket\u001b[0m\u001b[0;34m.\u001b[0m\u001b[0mrecv_multipart\u001b[0m\u001b[0;34m(\u001b[0m\u001b[0mmode\u001b[0m\u001b[0;34m,\u001b[0m \u001b[0mcopy\u001b[0m\u001b[0;34m=\u001b[0m\u001b[0mcopy\u001b[0m\u001b[0;34m)\u001b[0m\u001b[0;34m\u001b[0m\u001b[0;34m\u001b[0m\u001b[0m\n\u001b[0m\u001b[1;32m    804\u001b[0m         \u001b[0;32mexcept\u001b[0m \u001b[0mzmq\u001b[0m\u001b[0;34m.\u001b[0m\u001b[0mZMQError\u001b[0m \u001b[0;32mas\u001b[0m \u001b[0me\u001b[0m\u001b[0;34m:\u001b[0m\u001b[0;34m\u001b[0m\u001b[0;34m\u001b[0m\u001b[0m\n",
      "\u001b[0;32m//anaconda3/lib/python3.7/site-packages/zmq/sugar/socket.py\u001b[0m in \u001b[0;36mrecv_multipart\u001b[0;34m(self, flags, copy, track)\u001b[0m\n\u001b[1;32m    469\u001b[0m         \"\"\"\n\u001b[0;32m--> 470\u001b[0;31m         \u001b[0mparts\u001b[0m \u001b[0;34m=\u001b[0m \u001b[0;34m[\u001b[0m\u001b[0mself\u001b[0m\u001b[0;34m.\u001b[0m\u001b[0mrecv\u001b[0m\u001b[0;34m(\u001b[0m\u001b[0mflags\u001b[0m\u001b[0;34m,\u001b[0m \u001b[0mcopy\u001b[0m\u001b[0;34m=\u001b[0m\u001b[0mcopy\u001b[0m\u001b[0;34m,\u001b[0m \u001b[0mtrack\u001b[0m\u001b[0;34m=\u001b[0m\u001b[0mtrack\u001b[0m\u001b[0;34m)\u001b[0m\u001b[0;34m]\u001b[0m\u001b[0;34m\u001b[0m\u001b[0;34m\u001b[0m\u001b[0m\n\u001b[0m\u001b[1;32m    471\u001b[0m         \u001b[0;31m# have first part already, only loop while more to receive\u001b[0m\u001b[0;34m\u001b[0m\u001b[0;34m\u001b[0m\u001b[0;34m\u001b[0m\u001b[0m\n",
      "\u001b[0;32mzmq/backend/cython/socket.pyx\u001b[0m in \u001b[0;36mzmq.backend.cython.socket.Socket.recv\u001b[0;34m()\u001b[0m\n",
      "\u001b[0;32mzmq/backend/cython/socket.pyx\u001b[0m in \u001b[0;36mzmq.backend.cython.socket.Socket.recv\u001b[0;34m()\u001b[0m\n",
      "\u001b[0;32mzmq/backend/cython/socket.pyx\u001b[0m in \u001b[0;36mzmq.backend.cython.socket._recv_copy\u001b[0;34m()\u001b[0m\n",
      "\u001b[0;32m//anaconda3/lib/python3.7/site-packages/zmq/backend/cython/checkrc.pxd\u001b[0m in \u001b[0;36mzmq.backend.cython.checkrc._check_rc\u001b[0;34m()\u001b[0m\n",
      "\u001b[0;31mKeyboardInterrupt\u001b[0m: ",
      "\nDuring handling of the above exception, another exception occurred:\n",
      "\u001b[0;31mKeyboardInterrupt\u001b[0m                         Traceback (most recent call last)",
      "\u001b[0;32m<ipython-input-39-b8be254a1fb7>\u001b[0m in \u001b[0;36m<module>\u001b[0;34m\u001b[0m\n\u001b[0;32m----> 1\u001b[0;31m \u001b[0msun\u001b[0m\u001b[0;34m(\u001b[0m\u001b[0;36m2\u001b[0m\u001b[0;34m)\u001b[0m\u001b[0;34m\u001b[0m\u001b[0;34m\u001b[0m\u001b[0m\n\u001b[0m",
      "\u001b[0;32m<ipython-input-38-cc7c7c3eb8bb>\u001b[0m in \u001b[0;36msun\u001b[0;34m(x)\u001b[0m\n\u001b[1;32m      1\u001b[0m \u001b[0;32mdef\u001b[0m \u001b[0msun\u001b[0m\u001b[0;34m(\u001b[0m\u001b[0mx\u001b[0m\u001b[0;34m)\u001b[0m\u001b[0;34m:\u001b[0m\u001b[0;34m\u001b[0m\u001b[0;34m\u001b[0m\u001b[0m\n\u001b[0;32m----> 2\u001b[0;31m     \u001b[0mx\u001b[0m\u001b[0;34m=\u001b[0m\u001b[0mint\u001b[0m\u001b[0;34m(\u001b[0m\u001b[0minput\u001b[0m\u001b[0;34m(\u001b[0m\u001b[0;34m\"what do you think is the length of you from the sun is in term of light speed?\"\u001b[0m\u001b[0;34m)\u001b[0m\u001b[0;34m)\u001b[0m\u001b[0;34m\u001b[0m\u001b[0;34m\u001b[0m\u001b[0m\n\u001b[0m\u001b[1;32m      3\u001b[0m \u001b[0;34m\u001b[0m\u001b[0m\n\u001b[1;32m      4\u001b[0m     \u001b[0;32mif\u001b[0m \u001b[0mx\u001b[0m\u001b[0;34m==\u001b[0m\u001b[0;36m7\u001b[0m\u001b[0;34m:\u001b[0m\u001b[0;34m\u001b[0m\u001b[0;34m\u001b[0m\u001b[0m\n\u001b[1;32m      5\u001b[0m         \u001b[0my\u001b[0m\u001b[0;34m=\u001b[0m\u001b[0mint\u001b[0m\u001b[0;34m(\u001b[0m\u001b[0minput\u001b[0m\u001b[0;34m(\u001b[0m\u001b[0;34m\"why would you think that \"\u001b[0m\u001b[0;34m)\u001b[0m\u001b[0;34m)\u001b[0m\u001b[0;34m\u001b[0m\u001b[0;34m\u001b[0m\u001b[0m\n",
      "\u001b[0;32m//anaconda3/lib/python3.7/site-packages/ipykernel/kernelbase.py\u001b[0m in \u001b[0;36mraw_input\u001b[0;34m(self, prompt)\u001b[0m\n\u001b[1;32m    858\u001b[0m             \u001b[0mself\u001b[0m\u001b[0;34m.\u001b[0m\u001b[0m_parent_ident\u001b[0m\u001b[0;34m,\u001b[0m\u001b[0;34m\u001b[0m\u001b[0;34m\u001b[0m\u001b[0m\n\u001b[1;32m    859\u001b[0m             \u001b[0mself\u001b[0m\u001b[0;34m.\u001b[0m\u001b[0m_parent_header\u001b[0m\u001b[0;34m,\u001b[0m\u001b[0;34m\u001b[0m\u001b[0;34m\u001b[0m\u001b[0m\n\u001b[0;32m--> 860\u001b[0;31m             \u001b[0mpassword\u001b[0m\u001b[0;34m=\u001b[0m\u001b[0;32mFalse\u001b[0m\u001b[0;34m,\u001b[0m\u001b[0;34m\u001b[0m\u001b[0;34m\u001b[0m\u001b[0m\n\u001b[0m\u001b[1;32m    861\u001b[0m         )\n\u001b[1;32m    862\u001b[0m \u001b[0;34m\u001b[0m\u001b[0m\n",
      "\u001b[0;32m//anaconda3/lib/python3.7/site-packages/ipykernel/kernelbase.py\u001b[0m in \u001b[0;36m_input_request\u001b[0;34m(self, prompt, ident, parent, password)\u001b[0m\n\u001b[1;32m    888\u001b[0m             \u001b[0;32mexcept\u001b[0m \u001b[0mKeyboardInterrupt\u001b[0m\u001b[0;34m:\u001b[0m\u001b[0;34m\u001b[0m\u001b[0;34m\u001b[0m\u001b[0m\n\u001b[1;32m    889\u001b[0m                 \u001b[0;31m# re-raise KeyboardInterrupt, to truncate traceback\u001b[0m\u001b[0;34m\u001b[0m\u001b[0;34m\u001b[0m\u001b[0;34m\u001b[0m\u001b[0m\n\u001b[0;32m--> 890\u001b[0;31m                 \u001b[0;32mraise\u001b[0m \u001b[0mKeyboardInterrupt\u001b[0m\u001b[0;34m\u001b[0m\u001b[0;34m\u001b[0m\u001b[0m\n\u001b[0m\u001b[1;32m    891\u001b[0m             \u001b[0;32melse\u001b[0m\u001b[0;34m:\u001b[0m\u001b[0;34m\u001b[0m\u001b[0;34m\u001b[0m\u001b[0m\n\u001b[1;32m    892\u001b[0m                 \u001b[0;32mbreak\u001b[0m\u001b[0;34m\u001b[0m\u001b[0;34m\u001b[0m\u001b[0m\n",
      "\u001b[0;31mKeyboardInterrupt\u001b[0m: "
     ]
    }
   ],
   "source": [
    "sun(2)"
   ]
  },
  {
   "cell_type": "code",
   "execution_count": 57,
   "metadata": {},
   "outputs": [
    {
     "ename": "IndentationError",
     "evalue": "unindent does not match any outer indentation level (<tokenize>, line 6)",
     "output_type": "error",
     "traceback": [
      "\u001b[0;36m  File \u001b[0;32m\"<tokenize>\"\u001b[0;36m, line \u001b[0;32m6\u001b[0m\n\u001b[0;31m    else:\u001b[0m\n\u001b[0m    ^\u001b[0m\n\u001b[0;31mIndentationError\u001b[0m\u001b[0;31m:\u001b[0m unindent does not match any outer indentation level\n"
     ]
    }
   ],
   "source": [
    "class maths():\n",
    "    \n",
    "    ask=input(\"what you want to do \\n 1.simple math cal \\n 2.linear eqution in two varilables\")\n",
    "       if ask==1:\n",
    "            return simple_math()\n",
    "        else:\n",
    "            return lin_equation()\n",
    "    \n",
    "    def __init__(self):\n",
    "        pass\n",
    "    \n",
    "        \n",
    "        \n",
    "        "
   ]
  },
  {
   "cell_type": "code",
   "execution_count": 53,
   "metadata": {},
   "outputs": [
    {
     "data": {
      "text/plain": [
       "<__main__.maths at 0x1075f4dd8>"
      ]
     },
     "execution_count": 53,
     "metadata": {},
     "output_type": "execute_result"
    }
   ],
   "source": [
    "maths()"
   ]
  },
  {
   "cell_type": "code",
   "execution_count": 63,
   "metadata": {},
   "outputs": [],
   "source": [
    "list =[x for x in range(0,100,25)]"
   ]
  },
  {
   "cell_type": "code",
   "execution_count": 64,
   "metadata": {},
   "outputs": [
    {
     "data": {
      "text/plain": [
       "[0, 25, 50, 75]"
      ]
     },
     "execution_count": 64,
     "metadata": {},
     "output_type": "execute_result"
    }
   ],
   "source": [
    "list"
   ]
  },
  {
   "cell_type": "code",
   "execution_count": 67,
   "metadata": {},
   "outputs": [
    {
     "ename": "IndexError",
     "evalue": "pop index out of range",
     "output_type": "error",
     "traceback": [
      "\u001b[0;31m---------------------------------------------------------------------------\u001b[0m",
      "\u001b[0;31mIndexError\u001b[0m                                Traceback (most recent call last)",
      "\u001b[0;32m<ipython-input-67-d06d36396d7c>\u001b[0m in \u001b[0;36m<module>\u001b[0;34m\u001b[0m\n\u001b[0;32m----> 1\u001b[0;31m \u001b[0mlist\u001b[0m\u001b[0;34m.\u001b[0m\u001b[0mpop\u001b[0m\u001b[0;34m(\u001b[0m\u001b[0;36m75\u001b[0m\u001b[0;34m)\u001b[0m\u001b[0;34m\u001b[0m\u001b[0;34m\u001b[0m\u001b[0m\n\u001b[0m",
      "\u001b[0;31mIndexError\u001b[0m: pop index out of range"
     ]
    }
   ],
   "source": [
    "list.pop(75)"
   ]
  },
  {
   "cell_type": "code",
   "execution_count": 14,
   "metadata": {},
   "outputs": [
    {
     "ename": "SyntaxError",
     "evalue": "invalid syntax (<ipython-input-14-fa23cb53fb87>, line 3)",
     "output_type": "error",
     "traceback": [
      "\u001b[0;36m  File \u001b[0;32m\"<ipython-input-14-fa23cb53fb87>\"\u001b[0;36m, line \u001b[0;32m3\u001b[0m\n\u001b[0;31m    def __init__\u001b[0m\n\u001b[0m                ^\u001b[0m\n\u001b[0;31mSyntaxError\u001b[0m\u001b[0;31m:\u001b[0m invalid syntax\n"
     ]
    }
   ],
   "source": [
    "class math():\n",
    "    \n",
    "    def __init__"
   ]
  },
  {
   "cell_type": "markdown",
   "metadata": {},
   "source": [
    "# Error handling and exception\n",
    "\n",
    "Try ,except,finally\n",
    "\n",
    "!!!!!!!Exploring built-in modules!!!!!!!!\n",
    "\n",
    "Two very important functions come in handy when exploring modules in Python - the dir and help functions.\n",
    "\n",
    "We can look for which functions are implemented in each module by using the dir function:\n",
    "\n"
   ]
  },
  {
   "cell_type": "code",
   "execution_count": 5,
   "metadata": {},
   "outputs": [],
   "source": [
    "def add(n1,n2):\n",
    "    return n1+n2\n",
    "   "
   ]
  },
  {
   "cell_type": "code",
   "execution_count": 6,
   "metadata": {},
   "outputs": [
    {
     "data": {
      "text/plain": [
       "11"
      ]
     },
     "execution_count": 6,
     "metadata": {},
     "output_type": "execute_result"
    }
   ],
   "source": [
    "add(5,6)"
   ]
  },
  {
   "cell_type": "code",
   "execution_count": 7,
   "metadata": {},
   "outputs": [
    {
     "name": "stdout",
     "output_type": "stream",
     "text": [
      "some number: 34\n"
     ]
    },
    {
     "ename": "TypeError",
     "evalue": "unsupported operand type(s) for +: 'int' and 'str'",
     "output_type": "error",
     "traceback": [
      "\u001b[0;31m---------------------------------------------------------------------------\u001b[0m",
      "\u001b[0;31mTypeError\u001b[0m                                 Traceback (most recent call last)",
      "\u001b[0;32m<ipython-input-7-ed32698010cc>\u001b[0m in \u001b[0;36m<module>\u001b[0;34m\u001b[0m\n\u001b[1;32m      1\u001b[0m \u001b[0mn1\u001b[0m\u001b[0;34m=\u001b[0m\u001b[0;36m20\u001b[0m\u001b[0;34m\u001b[0m\u001b[0;34m\u001b[0m\u001b[0m\n\u001b[1;32m      2\u001b[0m \u001b[0mn2\u001b[0m\u001b[0;34m=\u001b[0m\u001b[0minput\u001b[0m\u001b[0;34m(\u001b[0m\u001b[0;34m\"some number: \"\u001b[0m\u001b[0;34m)\u001b[0m\u001b[0;34m\u001b[0m\u001b[0;34m\u001b[0m\u001b[0m\n\u001b[0;32m----> 3\u001b[0;31m \u001b[0madd\u001b[0m\u001b[0;34m(\u001b[0m\u001b[0mn1\u001b[0m\u001b[0;34m,\u001b[0m\u001b[0mn2\u001b[0m\u001b[0;34m)\u001b[0m\u001b[0;34m\u001b[0m\u001b[0;34m\u001b[0m\u001b[0m\n\u001b[0m",
      "\u001b[0;32m<ipython-input-5-6d9cb9feba13>\u001b[0m in \u001b[0;36madd\u001b[0;34m(n1, n2)\u001b[0m\n\u001b[1;32m      1\u001b[0m \u001b[0;32mdef\u001b[0m \u001b[0madd\u001b[0m\u001b[0;34m(\u001b[0m\u001b[0mn1\u001b[0m\u001b[0;34m,\u001b[0m\u001b[0mn2\u001b[0m\u001b[0;34m)\u001b[0m\u001b[0;34m:\u001b[0m\u001b[0;34m\u001b[0m\u001b[0;34m\u001b[0m\u001b[0m\n\u001b[0;32m----> 2\u001b[0;31m     \u001b[0;32mreturn\u001b[0m \u001b[0mn1\u001b[0m\u001b[0;34m+\u001b[0m\u001b[0mn2\u001b[0m\u001b[0;34m\u001b[0m\u001b[0;34m\u001b[0m\u001b[0m\n\u001b[0m\u001b[1;32m      3\u001b[0m \u001b[0;34m\u001b[0m\u001b[0m\n",
      "\u001b[0;31mTypeError\u001b[0m: unsupported operand type(s) for +: 'int' and 'str'"
     ]
    }
   ],
   "source": [
    "n1=20\n",
    "n2=input(\"some number: \")\n",
    "add(n1,n2)"
   ]
  },
  {
   "cell_type": "code",
   "execution_count": 10,
   "metadata": {},
   "outputs": [
    {
     "name": "stdout",
     "output_type": "stream",
     "text": [
      "opps you missed int part!\n"
     ]
    }
   ],
   "source": [
    "try:\n",
    "    add(n1,n2)\n",
    "except:\n",
    "    print(\"opps you missed int part!\")\n",
    "    "
   ]
  },
  {
   "cell_type": "code",
   "execution_count": 33,
   "metadata": {},
   "outputs": [
    {
     "name": "stdout",
     "output_type": "stream",
     "text": [
      "you have input string inseated of number !\n",
      "print went well !\n"
     ]
    }
   ],
   "source": [
    " try:\n",
    "    result = n1 + n2\n",
    "    \n",
    "except:\n",
    "    print(\"you have input string inseated of number !\")\n",
    "finally:\n",
    "    print('print went well !')"
   ]
  },
  {
   "cell_type": "code",
   "execution_count": 36,
   "metadata": {},
   "outputs": [
    {
     "name": "stdout",
     "output_type": "stream",
     "text": [
      "let it be as hoped ! done well\n"
     ]
    }
   ],
   "source": [
    "try:\n",
    "    add(10,30)\n",
    "except:\n",
    "    print(\"you have input string instead of number !\")\n",
    "finally:\n",
    "    print(\"let it be as hoped ! done well\")"
   ]
  },
  {
   "cell_type": "code",
   "execution_count": 1,
   "metadata": {},
   "outputs": [
    {
     "ename": "SyntaxError",
     "evalue": "invalid syntax (<ipython-input-1-f782a7e3a772>, line 10)",
     "output_type": "error",
     "traceback": [
      "\u001b[0;36m  File \u001b[0;32m\"<ipython-input-1-f782a7e3a772>\"\u001b[0;36m, line \u001b[0;32m10\u001b[0m\n\u001b[0;31m    def ask_jarvis(self,)\u001b[0m\n\u001b[0m                         ^\u001b[0m\n\u001b[0;31mSyntaxError\u001b[0m\u001b[0;31m:\u001b[0m invalid syntax\n"
     ]
    }
   ],
   "source": [
    "class Cars():\n",
    "    \n",
    "    category=\"ferri\"\n",
    "    \n",
    "    def __init__(self,cc,clearance,colour,battery_life):\n",
    "        self.cc=cc\n",
    "        self.clearance=clearance\n",
    "        self.colour=colour\n",
    "        self.battery_life=battery_life\n",
    "    def ask_jarvis(self,)"
   ]
  },
  {
   "cell_type": "code",
   "execution_count": 2,
   "metadata": {},
   "outputs": [],
   "source": [
    "def pig_latin(word='default'):\n",
    "\n",
    "    first_letter = word[0]\n",
    "\n",
    "    if first_letter in 'aeiouAEIOU':\n",
    "\n",
    "        return word + 'ay'\n",
    "\n",
    "    else:\n",
    "\n",
    "        return word[1:] + first_letter + 'ay'"
   ]
  },
  {
   "cell_type": "code",
   "execution_count": 3,
   "metadata": {},
   "outputs": [
    {
     "data": {
      "text/plain": [
       "'efaultday'"
      ]
     },
     "execution_count": 3,
     "metadata": {},
     "output_type": "execute_result"
    }
   ],
   "source": [
    "pig_latin()"
   ]
  },
  {
   "cell_type": "code",
   "execution_count": 5,
   "metadata": {},
   "outputs": [
    {
     "name": "stdout",
     "output_type": "stream",
     "text": [
      "['__doc__', '__file__', '__loader__', '__name__', '__package__', '__spec__', 'acos', 'acosh', 'asin', 'asinh', 'atan', 'atan2', 'atanh', 'ceil', 'copysign', 'cos', 'cosh', 'degrees', 'e', 'erf', 'erfc', 'exp', 'expm1', 'fabs', 'factorial', 'floor', 'fmod', 'frexp', 'fsum', 'gamma', 'gcd', 'hypot', 'inf', 'isclose', 'isfinite', 'isinf', 'isnan', 'ldexp', 'lgamma', 'log', 'log10', 'log1p', 'log2', 'modf', 'nan', 'pi', 'pow', 'radians', 'remainder', 'sin', 'sinh', 'sqrt', 'tan', 'tanh', 'tau', 'trunc']\n"
     ]
    }
   ],
   "source": [
    "# using dir we can find what function are used in module\n",
    "import math\n",
    "print(dir(math))"
   ]
  },
  {
   "cell_type": "code",
   "execution_count": 6,
   "metadata": {},
   "outputs": [
    {
     "name": "stdout",
     "output_type": "stream",
     "text": [
      "['BPF', 'LOG4', 'NV_MAGICCONST', 'RECIP_BPF', 'Random', 'SG_MAGICCONST', 'SystemRandom', 'TWOPI', '_BuiltinMethodType', '_MethodType', '_Sequence', '_Set', '__all__', '__builtins__', '__cached__', '__doc__', '__file__', '__loader__', '__name__', '__package__', '__spec__', '_acos', '_bisect', '_ceil', '_cos', '_e', '_exp', '_inst', '_itertools', '_log', '_os', '_pi', '_random', '_sha512', '_sin', '_sqrt', '_test', '_test_generator', '_urandom', '_warn', 'betavariate', 'choice', 'choices', 'expovariate', 'gammavariate', 'gauss', 'getrandbits', 'getstate', 'lognormvariate', 'normalvariate', 'paretovariate', 'randint', 'random', 'randrange', 'sample', 'seed', 'setstate', 'shuffle', 'triangular', 'uniform', 'vonmisesvariate', 'weibullvariate']\n"
     ]
    }
   ],
   "source": [
    "import random\n",
    "print(dir(random))"
   ]
  },
  {
   "cell_type": "code",
   "execution_count": 7,
   "metadata": {},
   "outputs": [
    {
     "name": "stdout",
     "output_type": "stream",
     "text": [
      "Help on module random:\n",
      "\n",
      "NAME\n",
      "    random - Random variable generators.\n",
      "\n",
      "MODULE REFERENCE\n",
      "    https://docs.python.org/3.7/library/random\n",
      "    \n",
      "    The following documentation is automatically generated from the Python\n",
      "    source files.  It may be incomplete, incorrect or include features that\n",
      "    are considered implementation detail and may vary between Python\n",
      "    implementations.  When in doubt, consult the module reference at the\n",
      "    location listed above.\n",
      "\n",
      "DESCRIPTION\n",
      "        integers\n",
      "        --------\n",
      "               uniform within range\n",
      "    \n",
      "        sequences\n",
      "        ---------\n",
      "               pick random element\n",
      "               pick random sample\n",
      "               pick weighted random sample\n",
      "               generate random permutation\n",
      "    \n",
      "        distributions on the real line:\n",
      "        ------------------------------\n",
      "               uniform\n",
      "               triangular\n",
      "               normal (Gaussian)\n",
      "               lognormal\n",
      "               negative exponential\n",
      "               gamma\n",
      "               beta\n",
      "               pareto\n",
      "               Weibull\n",
      "    \n",
      "        distributions on the circle (angles 0 to 2pi)\n",
      "        ---------------------------------------------\n",
      "               circular uniform\n",
      "               von Mises\n",
      "    \n",
      "    General notes on the underlying Mersenne Twister core generator:\n",
      "    \n",
      "    * The period is 2**19937-1.\n",
      "    * It is one of the most extensively tested generators in existence.\n",
      "    * The random() method is implemented in C, executes in a single Python step,\n",
      "      and is, therefore, threadsafe.\n",
      "\n",
      "CLASSES\n",
      "    _random.Random(builtins.object)\n",
      "        Random\n",
      "            SystemRandom\n",
      "    \n",
      "    class Random(_random.Random)\n",
      "     |  Random(x=None)\n",
      "     |  \n",
      "     |  Random number generator base class used by bound module functions.\n",
      "     |  \n",
      "     |  Used to instantiate instances of Random to get generators that don't\n",
      "     |  share state.\n",
      "     |  \n",
      "     |  Class Random can also be subclassed if you want to use a different basic\n",
      "     |  generator of your own devising: in that case, override the following\n",
      "     |  methods:  random(), seed(), getstate(), and setstate().\n",
      "     |  Optionally, implement a getrandbits() method so that randrange()\n",
      "     |  can cover arbitrarily large ranges.\n",
      "     |  \n",
      "     |  Method resolution order:\n",
      "     |      Random\n",
      "     |      _random.Random\n",
      "     |      builtins.object\n",
      "     |  \n",
      "     |  Methods defined here:\n",
      "     |  \n",
      "     |  __getstate__(self)\n",
      "     |      # Issue 17489: Since __reduce__ was defined to fix #759889 this is no\n",
      "     |      # longer called; we leave it here because it has been here since random was\n",
      "     |      # rewritten back in 2001 and why risk breaking something.\n",
      "     |  \n",
      "     |  __init__(self, x=None)\n",
      "     |      Initialize an instance.\n",
      "     |      \n",
      "     |      Optional argument x controls seeding, as for Random.seed().\n",
      "     |  \n",
      "     |  __reduce__(self)\n",
      "     |      Helper for pickle.\n",
      "     |  \n",
      "     |  __setstate__(self, state)\n",
      "     |  \n",
      "     |  betavariate(self, alpha, beta)\n",
      "     |      Beta distribution.\n",
      "     |      \n",
      "     |      Conditions on the parameters are alpha > 0 and beta > 0.\n",
      "     |      Returned values range between 0 and 1.\n",
      "     |  \n",
      "     |  choice(self, seq)\n",
      "     |      Choose a random element from a non-empty sequence.\n",
      "     |  \n",
      "     |  choices(self, population, weights=None, *, cum_weights=None, k=1)\n",
      "     |      Return a k sized list of population elements chosen with replacement.\n",
      "     |      \n",
      "     |      If the relative weights or cumulative weights are not specified,\n",
      "     |      the selections are made with equal probability.\n",
      "     |  \n",
      "     |  expovariate(self, lambd)\n",
      "     |      Exponential distribution.\n",
      "     |      \n",
      "     |      lambd is 1.0 divided by the desired mean.  It should be\n",
      "     |      nonzero.  (The parameter would be called \"lambda\", but that is\n",
      "     |      a reserved word in Python.)  Returned values range from 0 to\n",
      "     |      positive infinity if lambd is positive, and from negative\n",
      "     |      infinity to 0 if lambd is negative.\n",
      "     |  \n",
      "     |  gammavariate(self, alpha, beta)\n",
      "     |      Gamma distribution.  Not the gamma function!\n",
      "     |      \n",
      "     |      Conditions on the parameters are alpha > 0 and beta > 0.\n",
      "     |      \n",
      "     |      The probability distribution function is:\n",
      "     |      \n",
      "     |                  x ** (alpha - 1) * math.exp(-x / beta)\n",
      "     |        pdf(x) =  --------------------------------------\n",
      "     |                    math.gamma(alpha) * beta ** alpha\n",
      "     |  \n",
      "     |  gauss(self, mu, sigma)\n",
      "     |      Gaussian distribution.\n",
      "     |      \n",
      "     |      mu is the mean, and sigma is the standard deviation.  This is\n",
      "     |      slightly faster than the normalvariate() function.\n",
      "     |      \n",
      "     |      Not thread-safe without a lock around calls.\n",
      "     |  \n",
      "     |  getstate(self)\n",
      "     |      Return internal state; can be passed to setstate() later.\n",
      "     |  \n",
      "     |  lognormvariate(self, mu, sigma)\n",
      "     |      Log normal distribution.\n",
      "     |      \n",
      "     |      If you take the natural logarithm of this distribution, you'll get a\n",
      "     |      normal distribution with mean mu and standard deviation sigma.\n",
      "     |      mu can have any value, and sigma must be greater than zero.\n",
      "     |  \n",
      "     |  normalvariate(self, mu, sigma)\n",
      "     |      Normal distribution.\n",
      "     |      \n",
      "     |      mu is the mean, and sigma is the standard deviation.\n",
      "     |  \n",
      "     |  paretovariate(self, alpha)\n",
      "     |      Pareto distribution.  alpha is the shape parameter.\n",
      "     |  \n",
      "     |  randint(self, a, b)\n",
      "     |      Return random integer in range [a, b], including both end points.\n",
      "     |  \n",
      "     |  randrange(self, start, stop=None, step=1, _int=<class 'int'>)\n",
      "     |      Choose a random item from range(start, stop[, step]).\n",
      "     |      \n",
      "     |      This fixes the problem with randint() which includes the\n",
      "     |      endpoint; in Python this is usually not what you want.\n",
      "     |  \n",
      "     |  sample(self, population, k)\n",
      "     |      Chooses k unique random elements from a population sequence or set.\n",
      "     |      \n",
      "     |      Returns a new list containing elements from the population while\n",
      "     |      leaving the original population unchanged.  The resulting list is\n",
      "     |      in selection order so that all sub-slices will also be valid random\n",
      "     |      samples.  This allows raffle winners (the sample) to be partitioned\n",
      "     |      into grand prize and second place winners (the subslices).\n",
      "     |      \n",
      "     |      Members of the population need not be hashable or unique.  If the\n",
      "     |      population contains repeats, then each occurrence is a possible\n",
      "     |      selection in the sample.\n",
      "     |      \n",
      "     |      To choose a sample in a range of integers, use range as an argument.\n",
      "     |      This is especially fast and space efficient for sampling from a\n",
      "     |      large population:   sample(range(10000000), 60)\n",
      "     |  \n",
      "     |  seed(self, a=None, version=2)\n",
      "     |      Initialize internal state from hashable object.\n",
      "     |      \n",
      "     |      None or no argument seeds from current time or from an operating\n",
      "     |      system specific randomness source if available.\n",
      "     |      \n",
      "     |      If *a* is an int, all bits are used.\n",
      "     |      \n",
      "     |      For version 2 (the default), all of the bits are used if *a* is a str,\n",
      "     |      bytes, or bytearray.  For version 1 (provided for reproducing random\n",
      "     |      sequences from older versions of Python), the algorithm for str and\n",
      "     |      bytes generates a narrower range of seeds.\n",
      "     |  \n",
      "     |  setstate(self, state)\n",
      "     |      Restore internal state from object returned by getstate().\n",
      "     |  \n",
      "     |  shuffle(self, x, random=None)\n",
      "     |      Shuffle list x in place, and return None.\n",
      "     |      \n",
      "     |      Optional argument random is a 0-argument function returning a\n",
      "     |      random float in [0.0, 1.0); if it is the default None, the\n",
      "     |      standard random.random will be used.\n",
      "     |  \n",
      "     |  triangular(self, low=0.0, high=1.0, mode=None)\n",
      "     |      Triangular distribution.\n",
      "     |      \n",
      "     |      Continuous distribution bounded by given lower and upper limits,\n",
      "     |      and having a given mode value in-between.\n",
      "     |      \n",
      "     |      http://en.wikipedia.org/wiki/Triangular_distribution\n",
      "     |  \n",
      "     |  uniform(self, a, b)\n",
      "     |      Get a random number in the range [a, b) or [a, b] depending on rounding.\n",
      "     |  \n",
      "     |  vonmisesvariate(self, mu, kappa)\n",
      "     |      Circular data distribution.\n",
      "     |      \n",
      "     |      mu is the mean angle, expressed in radians between 0 and 2*pi, and\n",
      "     |      kappa is the concentration parameter, which must be greater than or\n",
      "     |      equal to zero.  If kappa is equal to zero, this distribution reduces\n",
      "     |      to a uniform random angle over the range 0 to 2*pi.\n",
      "     |  \n",
      "     |  weibullvariate(self, alpha, beta)\n",
      "     |      Weibull distribution.\n",
      "     |      \n",
      "     |      alpha is the scale parameter and beta is the shape parameter.\n",
      "     |  \n",
      "     |  ----------------------------------------------------------------------\n",
      "     |  Data descriptors defined here:\n",
      "     |  \n",
      "     |  __dict__\n",
      "     |      dictionary for instance variables (if defined)\n",
      "     |  \n",
      "     |  __weakref__\n",
      "     |      list of weak references to the object (if defined)\n",
      "     |  \n",
      "     |  ----------------------------------------------------------------------\n",
      "     |  Data and other attributes defined here:\n",
      "     |  \n",
      "     |  VERSION = 3\n",
      "     |  \n",
      "     |  ----------------------------------------------------------------------\n",
      "     |  Methods inherited from _random.Random:\n",
      "     |  \n",
      "     |  __getattribute__(self, name, /)\n",
      "     |      Return getattr(self, name).\n",
      "     |  \n",
      "     |  getrandbits(...)\n",
      "     |      getrandbits(k) -> x.  Generates an int with k random bits.\n",
      "     |  \n",
      "     |  random(...)\n",
      "     |      random() -> x in the interval [0, 1).\n",
      "     |  \n",
      "     |  ----------------------------------------------------------------------\n",
      "     |  Static methods inherited from _random.Random:\n",
      "     |  \n",
      "     |  __new__(*args, **kwargs) from builtins.type\n",
      "     |      Create and return a new object.  See help(type) for accurate signature.\n",
      "    \n",
      "    class SystemRandom(Random)\n",
      "     |  SystemRandom(x=None)\n",
      "     |  \n",
      "     |  Alternate random number generator using sources provided\n",
      "     |  by the operating system (such as /dev/urandom on Unix or\n",
      "     |  CryptGenRandom on Windows).\n",
      "     |  \n",
      "     |   Not available on all systems (see os.urandom() for details).\n",
      "     |  \n",
      "     |  Method resolution order:\n",
      "     |      SystemRandom\n",
      "     |      Random\n",
      "     |      _random.Random\n",
      "     |      builtins.object\n",
      "     |  \n",
      "     |  Methods defined here:\n",
      "     |  \n",
      "     |  getrandbits(self, k)\n",
      "     |      getrandbits(k) -> x.  Generates an int with k random bits.\n",
      "     |  \n",
      "     |  getstate = _notimplemented(self, *args, **kwds)\n",
      "     |  \n",
      "     |  random(self)\n",
      "     |      Get the next random number in the range [0.0, 1.0).\n",
      "     |  \n",
      "     |  seed(self, *args, **kwds)\n",
      "     |      Stub method.  Not used for a system random number generator.\n",
      "     |  \n",
      "     |  setstate = _notimplemented(self, *args, **kwds)\n",
      "     |  \n",
      "     |  ----------------------------------------------------------------------\n",
      "     |  Methods inherited from Random:\n",
      "     |  \n",
      "     |  __getstate__(self)\n",
      "     |      # Issue 17489: Since __reduce__ was defined to fix #759889 this is no\n",
      "     |      # longer called; we leave it here because it has been here since random was\n",
      "     |      # rewritten back in 2001 and why risk breaking something.\n",
      "     |  \n",
      "     |  __init__(self, x=None)\n",
      "     |      Initialize an instance.\n",
      "     |      \n",
      "     |      Optional argument x controls seeding, as for Random.seed().\n",
      "     |  \n",
      "     |  __reduce__(self)\n",
      "     |      Helper for pickle.\n",
      "     |  \n",
      "     |  __setstate__(self, state)\n",
      "     |  \n",
      "     |  betavariate(self, alpha, beta)\n",
      "     |      Beta distribution.\n",
      "     |      \n",
      "     |      Conditions on the parameters are alpha > 0 and beta > 0.\n",
      "     |      Returned values range between 0 and 1.\n",
      "     |  \n",
      "     |  choice(self, seq)\n",
      "     |      Choose a random element from a non-empty sequence.\n",
      "     |  \n",
      "     |  choices(self, population, weights=None, *, cum_weights=None, k=1)\n",
      "     |      Return a k sized list of population elements chosen with replacement.\n",
      "     |      \n",
      "     |      If the relative weights or cumulative weights are not specified,\n",
      "     |      the selections are made with equal probability.\n",
      "     |  \n",
      "     |  expovariate(self, lambd)\n",
      "     |      Exponential distribution.\n",
      "     |      \n",
      "     |      lambd is 1.0 divided by the desired mean.  It should be\n",
      "     |      nonzero.  (The parameter would be called \"lambda\", but that is\n",
      "     |      a reserved word in Python.)  Returned values range from 0 to\n",
      "     |      positive infinity if lambd is positive, and from negative\n",
      "     |      infinity to 0 if lambd is negative.\n",
      "     |  \n",
      "     |  gammavariate(self, alpha, beta)\n",
      "     |      Gamma distribution.  Not the gamma function!\n",
      "     |      \n",
      "     |      Conditions on the parameters are alpha > 0 and beta > 0.\n",
      "     |      \n",
      "     |      The probability distribution function is:\n",
      "     |      \n",
      "     |                  x ** (alpha - 1) * math.exp(-x / beta)\n",
      "     |        pdf(x) =  --------------------------------------\n",
      "     |                    math.gamma(alpha) * beta ** alpha\n",
      "     |  \n",
      "     |  gauss(self, mu, sigma)\n",
      "     |      Gaussian distribution.\n",
      "     |      \n",
      "     |      mu is the mean, and sigma is the standard deviation.  This is\n",
      "     |      slightly faster than the normalvariate() function.\n",
      "     |      \n",
      "     |      Not thread-safe without a lock around calls.\n",
      "     |  \n",
      "     |  lognormvariate(self, mu, sigma)\n",
      "     |      Log normal distribution.\n",
      "     |      \n",
      "     |      If you take the natural logarithm of this distribution, you'll get a\n",
      "     |      normal distribution with mean mu and standard deviation sigma.\n",
      "     |      mu can have any value, and sigma must be greater than zero.\n",
      "     |  \n",
      "     |  normalvariate(self, mu, sigma)\n",
      "     |      Normal distribution.\n",
      "     |      \n",
      "     |      mu is the mean, and sigma is the standard deviation.\n",
      "     |  \n",
      "     |  paretovariate(self, alpha)\n",
      "     |      Pareto distribution.  alpha is the shape parameter.\n",
      "     |  \n",
      "     |  randint(self, a, b)\n",
      "     |      Return random integer in range [a, b], including both end points.\n",
      "     |  \n",
      "     |  randrange(self, start, stop=None, step=1, _int=<class 'int'>)\n",
      "     |      Choose a random item from range(start, stop[, step]).\n",
      "     |      \n",
      "     |      This fixes the problem with randint() which includes the\n",
      "     |      endpoint; in Python this is usually not what you want.\n",
      "     |  \n",
      "     |  sample(self, population, k)\n",
      "     |      Chooses k unique random elements from a population sequence or set.\n",
      "     |      \n",
      "     |      Returns a new list containing elements from the population while\n",
      "     |      leaving the original population unchanged.  The resulting list is\n",
      "     |      in selection order so that all sub-slices will also be valid random\n",
      "     |      samples.  This allows raffle winners (the sample) to be partitioned\n",
      "     |      into grand prize and second place winners (the subslices).\n",
      "     |      \n",
      "     |      Members of the population need not be hashable or unique.  If the\n",
      "     |      population contains repeats, then each occurrence is a possible\n",
      "     |      selection in the sample.\n",
      "     |      \n",
      "     |      To choose a sample in a range of integers, use range as an argument.\n",
      "     |      This is especially fast and space efficient for sampling from a\n",
      "     |      large population:   sample(range(10000000), 60)\n",
      "     |  \n",
      "     |  shuffle(self, x, random=None)\n",
      "     |      Shuffle list x in place, and return None.\n",
      "     |      \n",
      "     |      Optional argument random is a 0-argument function returning a\n",
      "     |      random float in [0.0, 1.0); if it is the default None, the\n",
      "     |      standard random.random will be used.\n",
      "     |  \n",
      "     |  triangular(self, low=0.0, high=1.0, mode=None)\n",
      "     |      Triangular distribution.\n",
      "     |      \n",
      "     |      Continuous distribution bounded by given lower and upper limits,\n",
      "     |      and having a given mode value in-between.\n",
      "     |      \n",
      "     |      http://en.wikipedia.org/wiki/Triangular_distribution\n",
      "     |  \n",
      "     |  uniform(self, a, b)\n",
      "     |      Get a random number in the range [a, b) or [a, b] depending on rounding.\n",
      "     |  \n",
      "     |  vonmisesvariate(self, mu, kappa)\n",
      "     |      Circular data distribution.\n",
      "     |      \n",
      "     |      mu is the mean angle, expressed in radians between 0 and 2*pi, and\n",
      "     |      kappa is the concentration parameter, which must be greater than or\n",
      "     |      equal to zero.  If kappa is equal to zero, this distribution reduces\n",
      "     |      to a uniform random angle over the range 0 to 2*pi.\n",
      "     |  \n",
      "     |  weibullvariate(self, alpha, beta)\n",
      "     |      Weibull distribution.\n",
      "     |      \n",
      "     |      alpha is the scale parameter and beta is the shape parameter.\n",
      "     |  \n",
      "     |  ----------------------------------------------------------------------\n",
      "     |  Data descriptors inherited from Random:\n",
      "     |  \n",
      "     |  __dict__\n",
      "     |      dictionary for instance variables (if defined)\n",
      "     |  \n",
      "     |  __weakref__\n",
      "     |      list of weak references to the object (if defined)\n",
      "     |  \n",
      "     |  ----------------------------------------------------------------------\n",
      "     |  Data and other attributes inherited from Random:\n",
      "     |  \n",
      "     |  VERSION = 3\n",
      "     |  \n",
      "     |  ----------------------------------------------------------------------\n",
      "     |  Methods inherited from _random.Random:\n",
      "     |  \n",
      "     |  __getattribute__(self, name, /)\n",
      "     |      Return getattr(self, name).\n",
      "     |  \n",
      "     |  ----------------------------------------------------------------------\n",
      "     |  Static methods inherited from _random.Random:\n",
      "     |  \n",
      "     |  __new__(*args, **kwargs) from builtins.type\n",
      "     |      Create and return a new object.  See help(type) for accurate signature.\n",
      "\n",
      "FUNCTIONS\n",
      "    betavariate(alpha, beta) method of Random instance\n",
      "        Beta distribution.\n",
      "        \n",
      "        Conditions on the parameters are alpha > 0 and beta > 0.\n",
      "        Returned values range between 0 and 1.\n",
      "    \n",
      "    choice(seq) method of Random instance\n",
      "        Choose a random element from a non-empty sequence.\n",
      "    \n",
      "    choices(population, weights=None, *, cum_weights=None, k=1) method of Random instance\n",
      "        Return a k sized list of population elements chosen with replacement.\n",
      "        \n",
      "        If the relative weights or cumulative weights are not specified,\n",
      "        the selections are made with equal probability.\n",
      "    \n",
      "    expovariate(lambd) method of Random instance\n",
      "        Exponential distribution.\n",
      "        \n",
      "        lambd is 1.0 divided by the desired mean.  It should be\n",
      "        nonzero.  (The parameter would be called \"lambda\", but that is\n",
      "        a reserved word in Python.)  Returned values range from 0 to\n",
      "        positive infinity if lambd is positive, and from negative\n",
      "        infinity to 0 if lambd is negative.\n",
      "    \n",
      "    gammavariate(alpha, beta) method of Random instance\n",
      "        Gamma distribution.  Not the gamma function!\n",
      "        \n",
      "        Conditions on the parameters are alpha > 0 and beta > 0.\n",
      "        \n",
      "        The probability distribution function is:\n",
      "        \n",
      "                    x ** (alpha - 1) * math.exp(-x / beta)\n",
      "          pdf(x) =  --------------------------------------\n",
      "                      math.gamma(alpha) * beta ** alpha\n",
      "    \n",
      "    gauss(mu, sigma) method of Random instance\n",
      "        Gaussian distribution.\n",
      "        \n",
      "        mu is the mean, and sigma is the standard deviation.  This is\n",
      "        slightly faster than the normalvariate() function.\n",
      "        \n",
      "        Not thread-safe without a lock around calls.\n",
      "    \n",
      "    getrandbits(...) method of Random instance\n",
      "        getrandbits(k) -> x.  Generates an int with k random bits.\n",
      "    \n",
      "    getstate() method of Random instance\n",
      "        Return internal state; can be passed to setstate() later.\n",
      "    \n",
      "    lognormvariate(mu, sigma) method of Random instance\n",
      "        Log normal distribution.\n",
      "        \n",
      "        If you take the natural logarithm of this distribution, you'll get a\n",
      "        normal distribution with mean mu and standard deviation sigma.\n",
      "        mu can have any value, and sigma must be greater than zero.\n",
      "    \n",
      "    normalvariate(mu, sigma) method of Random instance\n",
      "        Normal distribution.\n",
      "        \n",
      "        mu is the mean, and sigma is the standard deviation.\n",
      "    \n",
      "    paretovariate(alpha) method of Random instance\n",
      "        Pareto distribution.  alpha is the shape parameter.\n",
      "    \n",
      "    randint(a, b) method of Random instance\n",
      "        Return random integer in range [a, b], including both end points.\n",
      "    \n",
      "    random(...) method of Random instance\n",
      "        random() -> x in the interval [0, 1).\n",
      "    \n",
      "    randrange(start, stop=None, step=1, _int=<class 'int'>) method of Random instance\n",
      "        Choose a random item from range(start, stop[, step]).\n",
      "        \n",
      "        This fixes the problem with randint() which includes the\n",
      "        endpoint; in Python this is usually not what you want.\n",
      "    \n",
      "    sample(population, k) method of Random instance\n",
      "        Chooses k unique random elements from a population sequence or set.\n",
      "        \n",
      "        Returns a new list containing elements from the population while\n",
      "        leaving the original population unchanged.  The resulting list is\n",
      "        in selection order so that all sub-slices will also be valid random\n",
      "        samples.  This allows raffle winners (the sample) to be partitioned\n",
      "        into grand prize and second place winners (the subslices).\n",
      "        \n",
      "        Members of the population need not be hashable or unique.  If the\n",
      "        population contains repeats, then each occurrence is a possible\n",
      "        selection in the sample.\n",
      "        \n",
      "        To choose a sample in a range of integers, use range as an argument.\n",
      "        This is especially fast and space efficient for sampling from a\n",
      "        large population:   sample(range(10000000), 60)\n",
      "    \n",
      "    seed(a=None, version=2) method of Random instance\n",
      "        Initialize internal state from hashable object.\n",
      "        \n",
      "        None or no argument seeds from current time or from an operating\n",
      "        system specific randomness source if available.\n",
      "        \n",
      "        If *a* is an int, all bits are used.\n",
      "        \n",
      "        For version 2 (the default), all of the bits are used if *a* is a str,\n",
      "        bytes, or bytearray.  For version 1 (provided for reproducing random\n",
      "        sequences from older versions of Python), the algorithm for str and\n",
      "        bytes generates a narrower range of seeds.\n",
      "    \n",
      "    setstate(state) method of Random instance\n",
      "        Restore internal state from object returned by getstate().\n",
      "    \n",
      "    shuffle(x, random=None) method of Random instance\n",
      "        Shuffle list x in place, and return None.\n",
      "        \n",
      "        Optional argument random is a 0-argument function returning a\n",
      "        random float in [0.0, 1.0); if it is the default None, the\n",
      "        standard random.random will be used.\n",
      "    \n",
      "    triangular(low=0.0, high=1.0, mode=None) method of Random instance\n",
      "        Triangular distribution.\n",
      "        \n",
      "        Continuous distribution bounded by given lower and upper limits,\n",
      "        and having a given mode value in-between.\n",
      "        \n",
      "        http://en.wikipedia.org/wiki/Triangular_distribution\n",
      "    \n",
      "    uniform(a, b) method of Random instance\n",
      "        Get a random number in the range [a, b) or [a, b] depending on rounding.\n",
      "    \n",
      "    vonmisesvariate(mu, kappa) method of Random instance\n",
      "        Circular data distribution.\n",
      "        \n",
      "        mu is the mean angle, expressed in radians between 0 and 2*pi, and\n",
      "        kappa is the concentration parameter, which must be greater than or\n",
      "        equal to zero.  If kappa is equal to zero, this distribution reduces\n",
      "        to a uniform random angle over the range 0 to 2*pi.\n",
      "    \n",
      "    weibullvariate(alpha, beta) method of Random instance\n",
      "        Weibull distribution.\n",
      "        \n",
      "        alpha is the scale parameter and beta is the shape parameter.\n",
      "\n",
      "DATA\n",
      "    __all__ = ['Random', 'seed', 'random', 'uniform', 'randint', 'choice',...\n",
      "\n",
      "FILE\n",
      "    //anaconda3/lib/python3.7/random.py\n",
      "\n",
      "\n",
      "None\n"
     ]
    }
   ],
   "source": [
    "print(help(random))"
   ]
  },
  {
   "cell_type": "code",
   "execution_count": 9,
   "metadata": {},
   "outputs": [
    {
     "ename": "ModuleNotFoundError",
     "evalue": "No module named 'getstate'",
     "output_type": "error",
     "traceback": [
      "\u001b[0;31m---------------------------------------------------------------------------\u001b[0m",
      "\u001b[0;31mModuleNotFoundError\u001b[0m                       Traceback (most recent call last)",
      "\u001b[0;32m<ipython-input-9-2a714d6c7b2b>\u001b[0m in \u001b[0;36m<module>\u001b[0;34m\u001b[0m\n\u001b[0;32m----> 1\u001b[0;31m \u001b[0;32mimport\u001b[0m \u001b[0mgetstate\u001b[0m\u001b[0;34m\u001b[0m\u001b[0;34m\u001b[0m\u001b[0m\n\u001b[0m\u001b[1;32m      2\u001b[0m \u001b[0mprint\u001b[0m\u001b[0;34m(\u001b[0m\u001b[0mhelp\u001b[0m\u001b[0;34m(\u001b[0m\u001b[0mgetstate\u001b[0m\u001b[0;34m)\u001b[0m\u001b[0;34m)\u001b[0m\u001b[0;34m\u001b[0m\u001b[0;34m\u001b[0m\u001b[0m\n",
      "\u001b[0;31mModuleNotFoundError\u001b[0m: No module named 'getstate'"
     ]
    }
   ],
   "source": [
    "import getstate\n",
    "print(help(getstate))\n"
   ]
  },
  {
   "cell_type": "code",
   "execution_count": 10,
   "metadata": {},
   "outputs": [
    {
     "name": "stdout",
     "output_type": "stream",
     "text": [
      "Requirement already satisfied: pylint in /anaconda3/lib/python3.7/site-packages (2.3.1)\n",
      "Requirement already satisfied: astroid<3,>=2.2.0 in /anaconda3/lib/python3.7/site-packages (from pylint) (2.2.5)\n",
      "Requirement already satisfied: isort<5,>=4.2.5 in /anaconda3/lib/python3.7/site-packages (from pylint) (4.3.21)\n",
      "Requirement already satisfied: mccabe<0.7,>=0.6 in /anaconda3/lib/python3.7/site-packages (from pylint) (0.6.1)\n",
      "Requirement already satisfied: wrapt in /anaconda3/lib/python3.7/site-packages (from astroid<3,>=2.2.0->pylint) (1.11.2)\n",
      "Requirement already satisfied: six in /anaconda3/lib/python3.7/site-packages (from astroid<3,>=2.2.0->pylint) (1.12.0)\n",
      "Requirement already satisfied: lazy-object-proxy in /anaconda3/lib/python3.7/site-packages (from astroid<3,>=2.2.0->pylint) (1.4.1)\n",
      "Collecting typed-ast>=1.3.0; implementation_name == \"cpython\" (from astroid<3,>=2.2.0->pylint)\n",
      "\u001b[?25l  Downloading https://files.pythonhosted.org/packages/a0/03/266268b053ad81b8aea17bc3f5e6d3cf074bb4372d229336867a67e17076/typed_ast-1.4.0-cp37-cp37m-macosx_10_9_x86_64.whl (215kB)\n",
      "\u001b[K     |████████████████████████████████| 225kB 140kB/s eta 0:00:01\n",
      "\u001b[?25hInstalling collected packages: typed-ast\n",
      "Successfully installed typed-ast-1.4.0\n"
     ]
    }
   ],
   "source": [
    "! pip install pylint"
   ]
  },
  {
   "cell_type": "code",
   "execution_count": 12,
   "metadata": {},
   "outputs": [
    {
     "name": "stdout",
     "output_type": "stream",
     "text": [
      "Writing one.py\n"
     ]
    }
   ],
   "source": [
    "%%writefile one.py\n",
    "a=1\n",
    "b=2\n",
    "print(a)\n",
    "print(b)"
   ]
  },
  {
   "cell_type": "code",
   "execution_count": 27,
   "metadata": {},
   "outputs": [
    {
     "name": "stdout",
     "output_type": "stream",
     "text": [
      "************* Module one\n",
      "one.py:1:1: C0326: Exactly one space required around assignment\n",
      "a=1\n",
      " ^ (bad-whitespace)\n",
      "one.py:2:1: C0326: Exactly one space required around assignment\n",
      "b=2\n",
      " ^ (bad-whitespace)\n",
      "one.py:1:0: C0111: Missing module docstring (missing-docstring)\n",
      "one.py:1:0: C0103: Constant name \"a\" doesn't conform to UPPER_CASE naming style (invalid-name)\n",
      "one.py:2:0: C0103: Constant name \"b\" doesn't conform to UPPER_CASE naming style (invalid-name)\n",
      "\n",
      "------------------------------------\n",
      "Your code has been rated at -2.50/10\n",
      "\n"
     ]
    }
   ],
   "source": [
    "! pylint one.py"
   ]
  },
  {
   "cell_type": "code",
   "execution_count": 32,
   "metadata": {},
   "outputs": [
    {
     "data": {
      "text/plain": [
       "'i am going to insert 34 here'"
      ]
     },
     "execution_count": 32,
     "metadata": {},
     "output_type": "execute_result"
    }
   ],
   "source": [
    "\"i am going to insert %s here\" % '34'"
   ]
  },
  {
   "cell_type": "code",
   "execution_count": 35,
   "metadata": {},
   "outputs": [
    {
     "data": {
      "text/plain": [
       "\"i am tony! havrad stark's son\""
      ]
     },
     "execution_count": 35,
     "metadata": {},
     "output_type": "execute_result"
    }
   ],
   "source": [
    "\"i am tony! havrad stark's %s\"%'son'"
   ]
  },
  {
   "cell_type": "code",
   "execution_count": 36,
   "metadata": {},
   "outputs": [
    {
     "name": "stdout",
     "output_type": "stream",
     "text": [
      "i am ashu, and i am 18 year old\n"
     ]
    }
   ],
   "source": [
    "x=\"ashu\" ;y=18\n",
    "print(\"i am %s, and i am %s year old\" % (x,y))"
   ]
  },
  {
   "cell_type": "code",
   "execution_count": 37,
   "metadata": {},
   "outputs": [
    {
     "name": "stdout",
     "output_type": "stream",
     "text": [
      "he said his name was joe.\n",
      "he said  his name was 'jjoe' .\n"
     ]
    }
   ],
   "source": [
    "print(\"he said his name was %s.\"%'joe')\n",
    "print(\"he said  his name was %r .\"% 'jjoe')"
   ]
  },
  {
   "cell_type": "code",
   "execution_count": 56,
   "metadata": {},
   "outputs": [],
   "source": [
    "class Simple():\n",
    "    count=0\n",
    "    def __init__(self,name,visit):\n",
    "        self.name= name\n",
    "        self.visit= visit\n",
    "        Simple.count +=1\n",
    "        \n",
    "    def list(self):\n",
    "        print('total number of vivitors :%d' %(Simple.count))\n",
    "        \n",
    "    def display(self):\n",
    "        print('name:',self.name,'and ' 'visitng number:',self.visit)"
   ]
  },
  {
   "cell_type": "code",
   "execution_count": 57,
   "metadata": {},
   "outputs": [],
   "source": [
    "one=Simple('ashu',200)\n",
    "two=Simple(name='aru',visit=400)"
   ]
  },
  {
   "cell_type": "code",
   "execution_count": 61,
   "metadata": {},
   "outputs": [],
   "source": [
    "two.age=7\n",
    "one.age=58"
   ]
  },
  {
   "cell_type": "code",
   "execution_count": 62,
   "metadata": {},
   "outputs": [
    {
     "data": {
      "text/plain": [
       "7"
      ]
     },
     "execution_count": 62,
     "metadata": {},
     "output_type": "execute_result"
    }
   ],
   "source": [
    "two.age"
   ]
  },
  {
   "cell_type": "code",
   "execution_count": 64,
   "metadata": {},
   "outputs": [],
   "source": [
    "del two.age"
   ]
  },
  {
   "cell_type": "code",
   "execution_count": 68,
   "metadata": {},
   "outputs": [
    {
     "data": {
      "text/plain": [
       "False"
      ]
     },
     "execution_count": 68,
     "metadata": {},
     "output_type": "execute_result"
    }
   ],
   "source": [
    "hasattr(two,'age') # checkk if the attribute is present or not"
   ]
  },
  {
   "cell_type": "code",
   "execution_count": 70,
   "metadata": {},
   "outputs": [],
   "source": [
    "setattr(one,'destiny','los angiel') # sets a new attribtes to the exsiting class"
   ]
  },
  {
   "cell_type": "code",
   "execution_count": 72,
   "metadata": {},
   "outputs": [
    {
     "data": {
      "text/plain": [
       "'los angiel'"
      ]
     },
     "execution_count": 72,
     "metadata": {},
     "output_type": "execute_result"
    }
   ],
   "source": [
    "one.destiny"
   ]
  },
  {
   "cell_type": "code",
   "execution_count": 73,
   "metadata": {},
   "outputs": [],
   "source": [
    "setattr(two,'location','california')"
   ]
  },
  {
   "cell_type": "code",
   "execution_count": 74,
   "metadata": {},
   "outputs": [
    {
     "data": {
      "text/plain": [
       "[]"
      ]
     },
     "execution_count": 74,
     "metadata": {},
     "output_type": "execute_result"
    }
   ],
   "source": [
    "getattr(two,'goal',[])"
   ]
  },
  {
   "cell_type": "code",
   "execution_count": 77,
   "metadata": {},
   "outputs": [
    {
     "data": {
      "text/plain": [
       "'__main__'"
      ]
     },
     "execution_count": 77,
     "metadata": {},
     "output_type": "execute_result"
    }
   ],
   "source": [
    "simple.__dict__  #class built -in attributes\n",
    "simple.__doc__\n",
    "simple.__bases__\n",
    "simple.__module__"
   ]
  },
  {
   "cell_type": "code",
   "execution_count": 78,
   "metadata": {},
   "outputs": [
    {
     "data": {
      "text/plain": [
       "'simple'"
      ]
     },
     "execution_count": 78,
     "metadata": {},
     "output_type": "execute_result"
    }
   ],
   "source": [
    "simple.__name__"
   ]
  },
  {
   "cell_type": "code",
   "execution_count": 81,
   "metadata": {},
   "outputs": [
    {
     "data": {
      "text/plain": [
       "'__main__'"
      ]
     },
     "execution_count": 81,
     "metadata": {},
     "output_type": "execute_result"
    }
   ],
   "source": [
    "simple.__module__"
   ]
  },
  {
   "cell_type": "code",
   "execution_count": 82,
   "metadata": {},
   "outputs": [
    {
     "data": {
      "text/plain": [
       "(object,)"
      ]
     },
     "execution_count": 82,
     "metadata": {},
     "output_type": "execute_result"
    }
   ],
   "source": [
    "simple.__bases__"
   ]
  },
  {
   "cell_type": "code",
   "execution_count": 89,
   "metadata": {},
   "outputs": [],
   "source": [
    "class Point():\n",
    "    \n",
    "    def __init__(self,x=0, y=0):\n",
    "        self.x=x\n",
    "        self.y=y\n",
    "        \n",
    "    def __del__(self):\n",
    "        class_name=self.__class__.___name__\n",
    "        print(\"class point destroyed\")"
   ]
  },
  {
   "cell_type": "code",
   "execution_count": 90,
   "metadata": {},
   "outputs": [
    {
     "name": "stdout",
     "output_type": "stream",
     "text": [
      "4453020448 4453020448 4453020448\n"
     ]
    },
    {
     "name": "stderr",
     "output_type": "stream",
     "text": [
      "Exception ignored in: <function point.__del__ at 0x10969dd90>\n",
      "Traceback (most recent call last):\n",
      "  File \"<ipython-input-84-f983206b826f>\", line 8, in __del__\n",
      "AttributeError: type object 'point' has no attribute '___point__'\n"
     ]
    }
   ],
   "source": [
    "pt1=point(2,4)\n",
    "pt2=pt1\n",
    "pt3=pt2\n",
    "print( id(pt1), id(pt2), id(pt3))\n",
    "del pt1 \n",
    "del pt2\n",
    "del pt3"
   ]
  },
  {
   "cell_type": "code",
   "execution_count": 148,
   "metadata": {},
   "outputs": [],
   "source": [
    "class_num=0\n",
    "class Parent():\n",
    "    global class_num\n",
    "    \n",
    "    def __init__(self,name):\n",
    "        self.name=name\n",
    "        pass\n",
    "    \n",
    "    def method(self):\n",
    "        print(f\"this is the parent class {self.name}\")\n",
    "    \n",
    "    def count(self):\n",
    "        global class_num\n",
    "        class_num +=1\n",
    "        print(class_num)\n",
    "\n",
    "class Child(Parent):\n",
    "    global class_num\n",
    "    \n",
    "    def __init__(self):\n",
    "        pass\n",
    "    \n",
    "    def method(self):\n",
    "        print(\"this is the child . class\")\n",
    "    \n",
    "    \n",
    "class Grandchild(Child):\n",
    "    global class_num\n",
    "    \n",
    "    def __init__(self):\n",
    "        pass\n",
    "    \n",
    "    def method(self):\n",
    "        print(\"this is the grandchild class\")\n",
    "        \n",
    "        \n",
    "        \n",
    "    "
   ]
  },
  {
   "cell_type": "code",
   "execution_count": 153,
   "metadata": {},
   "outputs": [
    {
     "name": "stdout",
     "output_type": "stream",
     "text": [
      "this is the grandchild class\n",
      "10\n",
      "11\n",
      "12\n",
      "this is the child . class\n",
      "13\n"
     ]
    }
   ],
   "source": [
    "pt=Grandchild()\n",
    "pt2=Child()\n",
    "pt.method()\n",
    "pt.count()\n",
    "pt.count()\n",
    "pt.count()\n",
    "pt2.method()\n",
    "pt2.count()"
   ]
  },
  {
   "cell_type": "code",
   "execution_count": 147,
   "metadata": {},
   "outputs": [
    {
     "name": "stdout",
     "output_type": "stream",
     "text": [
      "this is the ashu\n"
     ]
    }
   ],
   "source": [
    "name='ashu'\n",
    "print(f\"this is the {name}\")"
   ]
  },
  {
   "cell_type": "code",
   "execution_count": 138,
   "metadata": {},
   "outputs": [
    {
     "ename": "NameError",
     "evalue": "name 'isglobal' is not defined",
     "output_type": "error",
     "traceback": [
      "\u001b[0;31m---------------------------------------------------------------------------\u001b[0m",
      "\u001b[0;31mNameError\u001b[0m                                 Traceback (most recent call last)",
      "\u001b[0;32m<ipython-input-138-5388a659e741>\u001b[0m in \u001b[0;36m<module>\u001b[0;34m\u001b[0m\n\u001b[0;32m----> 1\u001b[0;31m \u001b[0misglobal\u001b[0m\u001b[0;34m(\u001b[0m\u001b[0;34m\"class_num\"\u001b[0m\u001b[0;34m)\u001b[0m\u001b[0;34m\u001b[0m\u001b[0;34m\u001b[0m\u001b[0m\n\u001b[0m",
      "\u001b[0;31mNameError\u001b[0m: name 'isglobal' is not defined"
     ]
    }
   ],
   "source": [
    "isglobal(\"class_num\")"
   ]
  },
  {
   "cell_type": "code",
   "execution_count": 144,
   "metadata": {},
   "outputs": [
    {
     "data": {
      "text/plain": [
       "{'__name__': '__main__',\n",
       " '__doc__': 'Automatically created module for IPython interactive environment',\n",
       " '__package__': None,\n",
       " '__loader__': None,\n",
       " '__spec__': None,\n",
       " '__builtin__': <module 'builtins' (built-in)>,\n",
       " '__builtins__': <module 'builtins' (built-in)>,\n",
       " '_ih': ['',\n",
       "  'print(\"that\\'s me speaking english\")\\nprint(\"I can just be tested by someone who knows typing\")\\n\\n\\nclass Intro():\\n\\t\"\"\"intorodution to my\\n\\t   robot \"\"\"\\n\\tdef __init__(self,name,lang,creater):\\n           \\n\\t\\tself.name=name\\n\\t\\tself.lang=lang\\n\\t\\tself.creater=creater\\n\\n\\tdef name(self):\\n\\t     print(f\"{self.name} is my name!\")\\n\\t     print( \"would you like to share your name\")\\n\\t     Name = input()\\n\\t     return \"great name man!\" +Name\\n\\n\\tdef lang(self):\\n\\t\\treturn \"python\" + \"would you like me to add any\"\\n\\t           if add==\"yes\",\"yep\",\"yaa\":\\n\\t\\t              which=input()\\n\\t\\t               return which +\"is add !\"\\n                else:\\n\\t\\t   \\t        print(\"think your are looking tired\")\\n\\n\\tdef creater(self):\\n\\t\\tprint(self.creater)\\n\\nprint(\"ask me who is creater!\")',\n",
       "  'print(\"that\\'s me speaking english\")\\nprint(\"I can just be tested by someone who knows typing\")\\n\\n\\nclass Intro():\\n\\t\"\"\"intorodution to my\\n\\t   robot \"\"\"\\n\\tdef __init__(self,name,lang,creater):\\n           \\n\\t\\tself.name=name\\n\\t\\tself.lang=lang\\n\\t\\tself.creater=creater\\n\\n\\tdef name(self):\\n\\t     print(f\"{self.name} is my name!\")\\n\\t     print( \"would you like to share your name\")\\n\\t     Name = input()\\n\\t     return \"great name man!\" +Name\\n\\n\\tdef lang(self):\\n\\t\\treturn \"python\" + \"would you like me to add any\"\\n\\t           if add==\"yes\",\"yep\",\"yaa\":\\n\\t\\t              which=input()\\n\\t\\t               return which +\"is add !\"\\n                else:\\n\\t\\t   \\t        print(\"think your are looking tired\")\\n\\n\\tdef creater(self):\\n\\t\\tprint(self.creater)\\n\\nprint(\"ask me who is creater!\")',\n",
       "  'add= input()',\n",
       "  '###robot \\nprint( \\'hi myself robot and i want to have a good talk with you \\')\\nprint( \"want to have my name?\"\\\\n\"or you want to give it to me?\" )\\n\\nclass Intro_robot(self,name,creater)\\n ',\n",
       "  'class participant:\\n    \\n    number_of_participant=0\\n    \\n    def _init_(self,name,participant):\\n        self.name=name\\n        self.participant=participant\\n        number_of_participant +=1\\n        \\n    \\n    def participants(self):\\n        return number_of_participant\\n    def dispaly_list(self):\\n        return \"Name %s and number %d \"%(self.name,number_of_participant)',\n",
       "  'class participant:\\n    \\n    number_of_participant=0\\n    \\n    def _init_(self,name,participant):\\n        self.name=name\\n        self.participant=participant\\n        number_of_participant +=1\\n        \\n    \\n    def participants(self):\\n        return number_of_participant\\n    def dispaly_list(self):\\n        return \"Name %s and number %d \"%(self.name,number_of_participant)\\n\\nfirst=participant(\\'ashu\\',1)\\nsecond=participant(\\'vishnu\\',2)\\nprint(paricipant.display_list)',\n",
       "  'class participant:\\n    \\n    number_of_participant=0\\n    \\n    def _init_(self,name,participant):\\n        self.name=name\\n        self.participant=participant\\n        participant.number_of_participant +=1\\n        \\n    \\n    def participants(self):\\n        return number_of_participant\\n    def dispaly_list(self):\\n        return \"Name %s and number %d \"%(self.name,participant.number_of_participant)\\n\\nfirst=participant(\\'ashu\\',1)\\nsecond=participant(\\'vishnu\\',2)\\nprint(paricipant.display_list)',\n",
       "  'class participant:\\n    \\n    number_of_participant=0\\n    \\n    def _init_(self,name,member):\\n        self.name=name\\n        self.member=member\\n        participant.number_of_participant +=1\\n        \\n    \\n    def participants(self):\\n        return number_of_participant\\n    def dispaly_list(self):\\n        return \"Name %s and number %d \"%(self.name,participant.number_of_participant)\\n\\nfirst=participant(\\'ashu\\',1)\\nsecond=participant(\\'vishnu\\',2)\\nprint(paricipant.display_list)',\n",
       "  'class participant:\\n    \\n    number_of_participant=0\\n    \\n    def _init_(self,name,member):\\n        self.name=name\\n        self.member=member\\n        participant.number_of_participant +=1\\n        \\n    \\n    def participants(self):\\n        return number_of_participant\\n    def dispaly_list(self):\\n        return \"Name %s and number %d \"%(self.name,participant.number_of_participant)\\n\\nfirst=participant(\\'ashu\\',1)\\nsecond=participant(\\'vishnu\\',2)',\n",
       "  'class participant:\\n    \\n    number=0\\n    \\n    def _init_(self,name,member):\\n        self.name=name\\n        self.member=member\\n        participant.number +=1\\n        \\n    \\n    def participants(self):\\n        return number_of_participant\\n    def dispaly_list(self):\\n        return \"Name :\", self.name, \"and number : \", self.member\\n\\nfirst=participant(\\'ashu\\',1)\\nsecond=participant(\\'vishnu\\',2)',\n",
       "  'class participant:\\n    \\n    number=0\\n    \\n    def _init_(self,name,member):\\n        self.name=name\\n        self.member=member\\n        participant.number +=1\\n        \\n    \\n    def participants(self):\\n        return \"total members %d\" %participant.member\\n    def dispaly_list(self):\\n        return \"Name :\", self.name, \"and number : \", self.member\\n\\nmem1=participant()\\nmem2=participant()',\n",
       "  'class participant:\\n    \\n    number=0\\n    def _init_(self,name,member):\\n        self.name=name\\n        self.member=member\\n        participant.number +=1\\n        \\n    \\n    def participants(self):\\n        return \"total members %d\" %participant.member\\n    def dispaly_list(self):\\n        return \"Name :\", self.name, \"and number : \", self.member\\n\\nmem1=participant()\\nmem2=participant()',\n",
       "  'class participant:\\n    \\n    number=0\\n    def _init_(self,name,member):\\n        self.name=name\\n        self.member=member\\n        participant.number +=1\\n        \\n    \\n    def participants(self):\\n        return \"total members %d\" %participant.member\\n    def dispaly_list(self):\\n        return \"Name :\", self.name, \"and number : \", self.member\\n\\nmem1=participant(\\'tony\\',3000)\\nmem2=participant(\\'paper\\',4000)',\n",
       "  'class participant:\\n    \\n    number=0\\n    def _init_(self,name,member):\\n        self.name=name\\n        self.member=member\\n        participant.number +=1\\n        \\n    \\n    def participants(self):\\n        return \"total members %d\" %participant.member\\n    def dispaly_list(self):\\n        return \"Name :\", self.name, \"and number : \", self.member\\n\\nmem1=participant(\\'tony\\',3000)\\nmem2=participant(\\'paper\\',4000)\\nmem1.display_list',\n",
       "  'class participant:\\n    number=0\\n    \\n    def _init_(self,name,member):\\n        self.name=name\\n        self.member=member\\n        participant.number +=1\\n        \\n    \\n    def participants(self):\\n        return \"total members %d\" %participant.member\\n    def dispaly_list(self):\\n        return \"Name :\", self.name, \"and number : \", self.member\\n\\nmem1=participant(\\'tony\\',3000)\\nmem2=participant(\\'paper\\',4000)\\nmem1.display_list',\n",
       "  'class participant:\\n    number=0\\n    \\n    def _init_(self,name,member):\\n        self.name=name\\n        self.member=member\\n        participant.number +=1\\n        \\n    \\n    def participants(self):\\n        return \"total members %d\" %participant.member\\n    def dispaly_list(self):\\n        return \"Name :\", self.name, \"and number : \", self.member\\n\\nmem1=participant(\\'tony\\',3000)\\nmem2=participant(\\'paper\\',4000)\\nmem1.display_list',\n",
       "  'class simple:\\n    \\n    def _init_(self,name)',\n",
       "  'class simple:\\n    \\n    def _init_(self,name):\\n        self.name=name\\n        \\n    def list(self):\\n        return self.name',\n",
       "  'class participant:\\n    number=0\\n    \\n    def _init_(self,name,member):\\n        self.name=name\\n        self.member=member\\n        participant.number +=1\\n        \\n    \\n    def participants(self):\\n        return \"total members %d\" %participant.member\\n    def dispaly_list(self):\\n        return \"Name :\", self.name, \"and number : \", self.member\\n\\nmem1=participant(\\'tony\\',3000)\\nmem2=participant(\\'paper\\',4000)\\nmem1.display_list()',\n",
       "  'class simple:\\n    count=0\\n    def _init_(self,name,visit):\\n        self.name=name\\n        self.visit= visit\\n        \\n    def list(self):\\n        print()',\n",
       "  \"class simple:\\n    count=0\\n    def _init_(self,name,visit):\\n        self.name=name\\n        self.visit= visit\\n        simple.count +=1\\n        \\n    def list(self):\\n        print('total number of vivitors :%d' %(simple.count))\\n        \\n    def display(self):\\n        print('name:',self.name,'visitng number:',simple.count)\",\n",
       "  \"one=simple('ashu',200)\\ntwo=simple('aru',400)\",\n",
       "  \"class simple():\\n    count=0\\n    def _init_(self,name,visit):\\n        self.name=name\\n        self.visit= visit\\n        simple.count +=1\\n        \\n    def list(self):\\n        print('total number of vivitors :%d' %(simple.count))\\n        \\n    def display(self):\\n        print('name:',self.name,'visitng number:',simple.count)\",\n",
       "  \"one=simple('ashu',200)\\ntwo=simple('aru',400)\",\n",
       "  \"class simple()\\n    count=0\\n    def _init_(self,name,visit):\\n        self.name=name\\n        self.visit= visit\\n        simple.count +=1\\n        \\n    def list(self):\\n        print('total number of vivitors :%d' %(simple.count))\\n        \\n    def display(self):\\n        print('name:',self.name,'visitng number:',simple.count)\",\n",
       "  \"class simple():\\n    count=0\\n    def _init_(self,name,visit):\\n        self.name=name\\n        self.visit= visit\\n        simple.count +=1\\n        \\n    def list(self):\\n        print('total number of vivitors :%d' %(simple.count))\\n        \\n    def display(self):\\n        print('name:',self.name,'visitng number:',simple.count)\",\n",
       "  \"one=simple('ashu',200)\\ntwo=simple('aru',400)\",\n",
       "  'class participant():\\n    number=0\\n    \\n    def _init_(self, name, member):\\n        self.name=name\\n        self.member=member\\n        participant.number +=1\\n        \\n    \\n    def participants(self):\\n        return \"total members %d\" %participant.number\\n    \\n    def dispaly_list(self):\\n        return \"Name :\", self.name, \"and number : \", self.member\\n\\nmem1=participant(\\'tony\\',3000)\\nmem2=participant(\\'paper\\',4000)\\nmem1.display_list()',\n",
       "  \"class Simple():\\n    count=0\\n    def _init_(self,name,visit):\\n        self.name=name\\n        self.visit= visit\\n        simple.count +=1\\n        \\n    def list(self):\\n        print('total number of vivitors :%d' %(simple.count))\\n        \\n    def display(self):\\n        print('name:',self.name,'visitng number:',simple.count)\",\n",
       "  \"one=simple('ashu',200)\\ntwo=simple('aru',400)\",\n",
       "  \"class Simple():\\n    count=0\\n    def _init_(self,name,visit):\\n        self.name=name\\n        self.visit= visit\\n        Simple.count +=1\\n        \\n    def list(self):\\n        print('total number of vivitors :%d' %(Simple.count))\\n        \\n    def display(self):\\n        print('name:',self.name,'visitng number:',Simple.count)\",\n",
       "  \"one=Simple('ashu',200)\\ntwo=Simple('aru',400)\",\n",
       "  'class Participant():\\n    number=0\\n    \\n    def _init_(self, name, member):\\n        self.name=name\\n        self.member=member\\n        Participant.number +=1\\n        \\n    \\n    def participants(self):\\n        return \"total members %d\" %Participant.number\\n    \\n    def dispaly_list(self):\\n        return \"Name :\", self.name, \"and number : \", self.member\\n\\nmem1=Participant(\\'tony\\',3000)\\nmem2=Participant(\\'paper\\',4000)\\nmem1.display_list()',\n",
       "  \"one=Simple(name='ashu', visit=200)\\ntwo=Simple(name='aru',visit=400)\",\n",
       "  \"class Simple():\\n    count=0\\n    def __init__(self,name,visit):\\n        self.name=name\\n        self.visit= visit\\n        Simple.count +=1\\n        \\n    def list(self):\\n        print('total number of vivitors :%d' %(Simple.count))\\n        \\n    def display(self):\\n        print('name:',self.name,'visitng number:',Simple.count)\",\n",
       "  \"one=Simple(name='ashu', visit=200)\\ntwo=Simple(name='aru',visit=400)\",\n",
       "  \"one=Simple(name='ashu', visit=200)\\ntwo=Simple(name='aru',visit=400)\",\n",
       "  'one.display()\\n    ',\n",
       "  'two.display()\\n    ',\n",
       "  \"class Simple():\\n    count=0\\n    def __init__(self,name,visit):\\n        self.name=name\\n        self.visit= visit\\n        Simple.count +=1\\n        \\n    def list(self):\\n        print('total number of vivitors :%d' %(Simple.count))\\n        \\n    def display(self):\\n        print('name:',self.name,'visitng number:',self.visit)\",\n",
       "  \"one=Simple(name='ashu', visit=200)\\ntwo=Simple(name='aru',visit=400)\",\n",
       "  'two.display()\\n    ',\n",
       "  \"class Simple():\\n    count=0\\n    def __init__(self,name,visit):\\n        self.name=name\\n        self.visit= visit\\n        Simple.count +=1\\n        \\n    def list(self):\\n        print('total number of vivitors :%d' %(Simple.count))\\n        \\n    def display(self):\\n        print('name:',self.name,'and ' 'visitng number:',self.visit)\",\n",
       "  \"one=Simple(name='ashu', visit=200)\\ntwo=Simple(name='aru',visit=400)\",\n",
       "  'two.display()\\n    ',\n",
       "  'one.list()',\n",
       "  \"class Simple():\\n    count=0\\n    def __init__(self,*name,visit):\\n        self.*name= *name\\n        self.visit= visit\\n        Simple.count +=1\\n        \\n    def list(self):\\n        print('total number of vivitors :%d' %(Simple.count))\\n        \\n    def display(self):\\n        print('name:',self.name,'and ' 'visitng number:',self.visit)\",\n",
       "  \"class Simple():\\n    count=0\\n    def __init__(self,name,*varname,visit):\\n        self.name= name\\n        self.*variable=*variable\\n        self.visit= visit\\n        Simple.count +=1\\n        \\n    def list(self):\\n        print('total number of vivitors :%d' %(Simple.count))\\n        \\n    def display(self):\\n        print('name:',self.name,'and ' 'visitng number:',self.visit)\",\n",
       "  \"class Simple():\\n    count=0\\n    def __init__(self,name,*varname,visit):\\n        self.name= name\\n        self.variable=variable\\n        self.visit= visit\\n        Simple.count +=1\\n        \\n    def list(self):\\n        print('total number of vivitors :%d' %(Simple.count))\\n        \\n    def display(self):\\n        print('name:',self.name,'and ' 'visitng number:',self.visit)\",\n",
       "  \"one=Simple('ashu','bob','jack',200)\\ntwo=Simple(name='aru',visit=400)\",\n",
       "  \"class Simple():\\n    count=0\\n    def __init__(self,name,*varname,visit):\\n        self.name= name\\n        self.(*variable)=(*variable)\\n        self.visit= visit\\n        Simple.count +=1\\n        \\n    def list(self):\\n        print('total number of vivitors :%d' %(Simple.count))\\n        \\n    def display(self):\\n        print('name:',self.name,'and ' 'visitng number:',self.visit)\",\n",
       "  \"class Simple():\\n    count=0\\n    def __init__(self,name,[*varname],visit):\\n        self.name= name\\n        self.variable=variable\\n        self.visit= visit\\n        Simple.count +=1\\n        \\n    def list(self):\\n        print('total number of vivitors :%d' %(Simple.count))\\n        \\n    def display(self):\\n        print('name:',self.name,'and ' 'visitng number:',self.visit)\",\n",
       "  \"one=Simple('ashu',200)\\ntwo=Simple(name='aru',visit=400)\",\n",
       "  \"class Simple():\\n    count=0\\n    def __init__(self,name,visit):\\n        self.name= name\\n        self.variable=variable\\n        self.visit= visit\\n        Simple.count +=1\\n        \\n    def list(self):\\n        print('total number of vivitors :%d' %(Simple.count))\\n        \\n    def display(self):\\n        print('name:',self.name,'and ' 'visitng number:',self.visit)\",\n",
       "  \"one=Simple('ashu',200)\\ntwo=Simple(name='aru',visit=400)\",\n",
       "  \"class Simple():\\n    count=0\\n    def __init__(self,name,visit):\\n        self.name= name\\n        self.visit= visit\\n        Simple.count +=1\\n        \\n    def list(self):\\n        print('total number of vivitors :%d' %(Simple.count))\\n        \\n    def display(self):\\n        print('name:',self.name,'and ' 'visitng number:',self.visit)\",\n",
       "  \"one=Simple('ashu',200)\\ntwo=Simple(name='aru',visit=400)\",\n",
       "  'two.display()\\n    ',\n",
       "  'one.list()',\n",
       "  'two.age=7\\n    ',\n",
       "  'two.age=7\\none.age=58',\n",
       "  'two.age',\n",
       "  'del two.age=7',\n",
       "  'del two.age',\n",
       "  'two.age',\n",
       "  'hasattr(two,age,)',\n",
       "  'hasattr(two,age)',\n",
       "  \"hasattr(two,'age')\",\n",
       "  \"setattr(one,destiny,'los angiel')\",\n",
       "  \"setattr(one,'destiny','los angiel')\",\n",
       "  'one.destiney',\n",
       "  'one.destiny',\n",
       "  \"setattr(two,'location','california')\",\n",
       "  \"getattr(two,'goal',[])\",\n",
       "  'simple.__dic__',\n",
       "  'simple.__dict__',\n",
       "  'simple.__dict__  #class built -in attributes\\nsimple.__doc__\\nsimple.__bases__\\nsimple.__module__',\n",
       "  'simple.__name__',\n",
       "  'two.__name__',\n",
       "  'simple.__name__',\n",
       "  'simple.__module__',\n",
       "  'simple.__bases__',\n",
       "  'class point():\\n    \\n    def __init__(self,x=0, y=0):\\n        self.x=x\\n        self.y=y\\n        \\n    def __del__(self):\\n        point=self.__class__.___point__\\n        print \"class point destroyed\"',\n",
       "  'class point():\\n    \\n    def __init__(self,x=0, y=0):\\n        self.x=x\\n        self.y=y\\n        \\n    def __del__(self):\\n        point=self.__class__.___point__\\n        print(\"class point destroyed\")',\n",
       "  'pt1=point(2,4)\\npt2=pt1\\npt3=pt2\\nprint id(pt1), id(pt2), id(pt3)\\ndel pt1 \\ndel pt2\\ndel pt3',\n",
       "  'pt1=point(2,4)\\npt2=pt1\\npt3=pt2\\nprint( id(pt1), id(pt2), id(pt3))\\ndel pt1 \\ndel pt2\\ndel pt3',\n",
       "  'class Point():\\n    \\n    def __init__(self,x=0, y=0):\\n        self.x=x\\n        self.y=y\\n        \\n    def __del__(self):\\n        Point=self.__class__.___Point__\\n        print(\"class point destroyed\")',\n",
       "  'pt1=point(2,4)\\npt2=pt1\\npt3=pt2\\nprint( id(pt1), id(pt2), id(pt3))\\ndel pt1 \\ndel pt2\\ndel pt3',\n",
       "  'class Point():\\n    \\n    def __init__(self,x=0, y=0):\\n        self.x=x\\n        self.y=y\\n        \\n    def __del__(self):\\n        class_name=self.__class__.___name__\\n        print(\"class point destroyed\")',\n",
       "  'pt1=point(2,4)\\npt2=pt1\\npt3=pt2\\nprint( id(pt1), id(pt2), id(pt3))\\ndel pt1 \\ndel pt2\\ndel pt3',\n",
       "  'class Parent():\\n    class_num=0\\n    \\n    def method(self):\\n        print(\"this is the parent class\")\\n    \\n    def count(self):\\n        class_num +=1\\n        print(class_num)\\n\\nclass Child(Parent):\\n    \\n    def method(self):\\n        print(\"this is the child . class\")\\n    \\n    \\nclass Grandchild(Parent,Child):\\n    \\n    def method(self):\\n        print(\"this is the grandchild class\")\\n        \\n        \\n        \\n    ',\n",
       "  'class Parent():\\n    class_num=0\\n    \\n    def method(self):\\n        print(\"this is the parent class\")\\n    \\n    def count(self):\\n        class_num +=1\\n        print(class_num)\\n\\nclass Child(Parent):\\n    \\n    def method(self):\\n        print(\"this is the child . class\")\\n    \\n    \\nclass Grandchild(Child):\\n    \\n    def method(self):\\n        print(\"this is the grandchild class\")\\n        \\n        \\n        \\n    ',\n",
       "  'Grandchild.count()',\n",
       "  'Grandchild.count',\n",
       "  'Grandchild.count(5)',\n",
       "  'class Parent():\\n    class_num=0\\n    \\n    def method(self):\\n        print(\"this is the parent class\")\\n    \\n    def count(self):\\n        class_num +=1\\n        print(class_num)\\n\\nclass Child(Parent):\\n           global class_num\\n    \\n    def method(self):\\n        print(\"this is the child . class\")\\n    \\n    \\nclass Grandchild(Child):\\n    global class_num\\n    def method(self):\\n        print(\"this is the grandchild class\")\\n        \\n        \\n        \\n    ',\n",
       "  'class Parent():\\n    class_num=0\\n    \\n    def method(self):\\n        print(\"this is the parent class\")\\n    \\n    def count(self):\\n        class_num +=1\\n        print(class_num)\\n\\nclass Child(Parent):\\n           global class_num\\n    \\n    def method(self):\\n        print(\"this is the child . class\")\\n    \\n    \\nclass Grandchild(Child):\\n    global class_num\\n    \\n    def method(self):\\n        print(\"this is the grandchild class\")\\n        \\n        \\n        \\n    ',\n",
       "  'class Parent():\\n    class_num=0\\n    \\n    def method(self):\\n        print(\"this is the parent class\")\\n    \\n    def count(self):\\n        class_num +=1\\n        print(class_num)\\n\\nclass Child(Parent):\\n           global class_num\\n    \\n    def method(self):\\n        print(\"this is the child . class\")\\n    \\n    \\nclass Grandchild(Child):\\n        global class_num\\n    \\n    def method(self):\\n        print(\"this is the grandchild class\")\\n        \\n        \\n        \\n    ',\n",
       "  'class Parent():\\n    class_num=0\\n    \\n    def method(self):\\n        print(\"this is the parent class\")\\n    \\n    def count(self):\\n        class_num +=1\\n        print(class_num)\\n\\nclass Child(Parent):\\n           global class_num\\n    \\n    def method(self):\\n        print(\"this is the child . class\")\\n    \\n    \\nclass Grandchild(Child):\\n           global class_num\\n    \\n    def method(self):\\n        print(\"this is the grandchild class\")\\n        \\n        \\n        \\n    ',\n",
       "  'class Parent():\\n    class_num=0\\n    \\n    def method(self):\\n        print(\"this is the parent class\")\\n    \\n    def count(self):\\n        class_num +=1\\n        print(class_num)\\n\\nclass Child(Parent):\\n    global class_num\\n    \\n    def method(self):\\n        print(\"this is the child . class\")\\n    \\n    \\nclass Grandchild(Child):\\n           global class_num\\n    \\n    def method(self):\\n        print(\"this is the grandchild class\")\\n        \\n        \\n        \\n    ',\n",
       "  'class Parent():\\n    class_num=0\\n    \\n    def method(self):\\n        print(\"this is the parent class\")\\n    \\n    def count(self):\\n        class_num +=1\\n        print(class_num)\\n\\nclass Child(Parent):\\n    global class_num\\n    \\n    def method(self):\\n        print(\"this is the child . class\")\\n    \\n    \\nclass Grandchild(Child):\\n    global class_num\\n    \\n    def method(self):\\n        print(\"this is the grandchild class\")\\n        \\n        \\n        \\n    ',\n",
       "  'Grandchild.count(5)',\n",
       "  'Grandchild',\n",
       "  'Grandchild()',\n",
       "  'Grandchild.method()',\n",
       "  'class Parent():\\n    class_num=0\\n    \\n    def __init__(self):\\n        pass\\n    \\n    def method(self):\\n        print(\"this is the parent class\")\\n    \\n    def count(self):\\n        class_num +=1\\n        print(class_num)\\n\\nclass Child(Parent):\\n    global class_num\\n    \\n    def method(self):\\n        print(\"this is the child . class\")\\n    \\n    \\nclass Grandchild(Child):\\n    global class_num\\n    \\n    def method(self):\\n        print(\"this is the grandchild class\")\\n        \\n        \\n        \\n    ',\n",
       "  'pt=Grandchild.method()',\n",
       "  'class Parent():\\n    class_num=0\\n    \\n    def __init__(self):\\n        pass\\n    \\n    def method(self):\\n        print(\"this is the parent class\")\\n    \\n    def count(self):\\n        class_num +=1\\n        print(class_num)\\n\\nclass Child(Parent):\\n    global class_num\\n    \\n    def __init(self):\\n        pass\\n    \\n    def method(self):\\n        print(\"this is the child . class\")\\n    \\n    \\nclass Grandchild(Child):\\n    global class_num\\n    \\n    def __init__(self):\\n        pass\\n    \\n    def method(self):\\n        print(\"this is the grandchild class\")\\n        \\n        \\n        \\n    ',\n",
       "  'pt=Grandchild.method()',\n",
       "  'name=\\'ashu\\'\\nprint(f \"this is the {name}\")',\n",
       "  'name=\\'ashu\\'\\nprint(f \"this is the\" {name})',\n",
       "  'name=\\'ashu\\'\\nprint(f \"this is the\".(name))',\n",
       "  'name=\\'ashu\\'\\nprint(f \"this is the\"{name})',\n",
       "  'name=\\'ashu\\'\\nprint(f \"this is the\" {name})',\n",
       "  'name=\\'ashu\\'\\nprint(f \"this is the{name}\")',\n",
       "  'name=\\'ashu\\'\\nprint(f. \"this is the{name}\")',\n",
       "  'name=\\'ashu\\'\\nprint(f\"this is the{name}\")',\n",
       "  'name=\\'ashu\\'\\nprint(f\"this is the {name}\")',\n",
       "  'class Parent():\\n    class_num=0\\n    \\n    def __init__(self,name):\\n        self.name=name\\n        pass\\n    \\n    def method(self):\\n        print(f\"this is the parent class {self.name}\")\\n    \\n    def count(self):\\n        class_num +=1\\n        print(class_num)\\n\\nclass Child(Parent):\\n    global class_num\\n    \\n    def __init(self):\\n        pass\\n    \\n    def method(self):\\n        print(\"this is the child . class\")\\n    \\n    \\nclass Grandchild(Child):\\n    global class_num\\n    \\n    def __init__(self):\\n        pass\\n    \\n    def method(self):\\n        print(\"this is the grandchild class\")\\n        \\n        \\n        \\n    ',\n",
       "  'pt=Grandchild.method()',\n",
       "  'class Parent():\\n    class_num=0\\n    \\n    def __init__(self,name):\\n        self.name=name\\n        pass\\n    \\n    def method(self):\\n        print(f\"this is the parent class {self.name}\")\\n    \\n    def count(self):\\n        class_num +=1\\n        print(class_num)\\n\\nclass Child(Parent):\\n    global class_num\\n    \\n    def __init__(self):\\n        pass\\n    \\n    def method(self):\\n        print(\"this is the child . class\")\\n    \\n    \\nclass Grandchild(Child):\\n    global class_num\\n    \\n    def __init__(self):\\n        pass\\n    \\n    def method(self):\\n        print(\"this is the grandchild class\")\\n        \\n        \\n        \\n    ',\n",
       "  'pt=Grandchild',\n",
       "  \"pt=Grandchild('ashutosh')\",\n",
       "  'pt=Grandchild()',\n",
       "  'pt=Grandchild()\\npt.method()',\n",
       "  'pt=Grandchild()\\npt.method()\\npt.count()',\n",
       "  'class_num=0\\nclass Parent():\\n    global class_num\\n    \\n    def __init__(self,name):\\n        self.name=name\\n        pass\\n    \\n    def method(self):\\n        print(f\"this is the parent class {self.name}\")\\n    \\n    def count(self):\\n        class_num +=1\\n        print(class_num)\\n\\nclass Child(Parent):\\n    global class_num\\n    \\n    def __init__(self):\\n        pass\\n    \\n    def method(self):\\n        print(\"this is the child . class\")\\n    \\n    \\nclass Grandchild(Child):\\n    global class_num\\n    \\n    def __init__(self):\\n        pass\\n    \\n    def method(self):\\n        print(\"this is the grandchild class\")\\n        \\n        \\n        \\n    ',\n",
       "  'pt=Grandchild()\\npt.method()\\npt.count()',\n",
       "  'name=\\'ashu\\'\\nprint(f\"this is the {name}\")',\n",
       "  'isglobal(class_num)',\n",
       "  'global(class_num)',\n",
       "  'global(\"class_num\")',\n",
       "  'isglobal(\"class_num\")',\n",
       "  'pt=Grandchild()\\npt.method()\\npt.count\\nisglobal(class_num)',\n",
       "  'pt=Grandchild()\\npt.method()\\npt.count\\nglobals(class_num)',\n",
       "  'pt=Grandchild()\\npt.method()\\npt.count()',\n",
       "  'globals(count_num)',\n",
       "  'globals(class_num)',\n",
       "  'globals()'],\n",
       " '_oh': {62: 7,\n",
       "  68: False,\n",
       "  72: 'los angiel',\n",
       "  74: [],\n",
       "  76: mappingproxy({'__module__': '__main__',\n",
       "                'count': 0,\n",
       "                '_init_': <function __main__.simple._init_(self, name, visit)>,\n",
       "                'list': <function __main__.simple.list(self)>,\n",
       "                'display': <function __main__.simple.display(self)>,\n",
       "                '__dict__': <attribute '__dict__' of 'simple' objects>,\n",
       "                '__weakref__': <attribute '__weakref__' of 'simple' objects>,\n",
       "                '__doc__': None}),\n",
       "  77: '__main__',\n",
       "  78: 'simple',\n",
       "  80: 'simple',\n",
       "  81: '__main__',\n",
       "  82: (object,),\n",
       "  94: <function __main__.Parent.count(self)>,\n",
       "  108: __main__.Grandchild,\n",
       "  109: <__main__.Grandchild at 0x1095f2e48>},\n",
       " '_dh': ['/Users/ashutoshrudraksh'],\n",
       " 'In': ['',\n",
       "  'print(\"that\\'s me speaking english\")\\nprint(\"I can just be tested by someone who knows typing\")\\n\\n\\nclass Intro():\\n\\t\"\"\"intorodution to my\\n\\t   robot \"\"\"\\n\\tdef __init__(self,name,lang,creater):\\n           \\n\\t\\tself.name=name\\n\\t\\tself.lang=lang\\n\\t\\tself.creater=creater\\n\\n\\tdef name(self):\\n\\t     print(f\"{self.name} is my name!\")\\n\\t     print( \"would you like to share your name\")\\n\\t     Name = input()\\n\\t     return \"great name man!\" +Name\\n\\n\\tdef lang(self):\\n\\t\\treturn \"python\" + \"would you like me to add any\"\\n\\t           if add==\"yes\",\"yep\",\"yaa\":\\n\\t\\t              which=input()\\n\\t\\t               return which +\"is add !\"\\n                else:\\n\\t\\t   \\t        print(\"think your are looking tired\")\\n\\n\\tdef creater(self):\\n\\t\\tprint(self.creater)\\n\\nprint(\"ask me who is creater!\")',\n",
       "  'print(\"that\\'s me speaking english\")\\nprint(\"I can just be tested by someone who knows typing\")\\n\\n\\nclass Intro():\\n\\t\"\"\"intorodution to my\\n\\t   robot \"\"\"\\n\\tdef __init__(self,name,lang,creater):\\n           \\n\\t\\tself.name=name\\n\\t\\tself.lang=lang\\n\\t\\tself.creater=creater\\n\\n\\tdef name(self):\\n\\t     print(f\"{self.name} is my name!\")\\n\\t     print( \"would you like to share your name\")\\n\\t     Name = input()\\n\\t     return \"great name man!\" +Name\\n\\n\\tdef lang(self):\\n\\t\\treturn \"python\" + \"would you like me to add any\"\\n\\t           if add==\"yes\",\"yep\",\"yaa\":\\n\\t\\t              which=input()\\n\\t\\t               return which +\"is add !\"\\n                else:\\n\\t\\t   \\t        print(\"think your are looking tired\")\\n\\n\\tdef creater(self):\\n\\t\\tprint(self.creater)\\n\\nprint(\"ask me who is creater!\")',\n",
       "  'add= input()',\n",
       "  '###robot \\nprint( \\'hi myself robot and i want to have a good talk with you \\')\\nprint( \"want to have my name?\"\\\\n\"or you want to give it to me?\" )\\n\\nclass Intro_robot(self,name,creater)\\n ',\n",
       "  'class participant:\\n    \\n    number_of_participant=0\\n    \\n    def _init_(self,name,participant):\\n        self.name=name\\n        self.participant=participant\\n        number_of_participant +=1\\n        \\n    \\n    def participants(self):\\n        return number_of_participant\\n    def dispaly_list(self):\\n        return \"Name %s and number %d \"%(self.name,number_of_participant)',\n",
       "  'class participant:\\n    \\n    number_of_participant=0\\n    \\n    def _init_(self,name,participant):\\n        self.name=name\\n        self.participant=participant\\n        number_of_participant +=1\\n        \\n    \\n    def participants(self):\\n        return number_of_participant\\n    def dispaly_list(self):\\n        return \"Name %s and number %d \"%(self.name,number_of_participant)\\n\\nfirst=participant(\\'ashu\\',1)\\nsecond=participant(\\'vishnu\\',2)\\nprint(paricipant.display_list)',\n",
       "  'class participant:\\n    \\n    number_of_participant=0\\n    \\n    def _init_(self,name,participant):\\n        self.name=name\\n        self.participant=participant\\n        participant.number_of_participant +=1\\n        \\n    \\n    def participants(self):\\n        return number_of_participant\\n    def dispaly_list(self):\\n        return \"Name %s and number %d \"%(self.name,participant.number_of_participant)\\n\\nfirst=participant(\\'ashu\\',1)\\nsecond=participant(\\'vishnu\\',2)\\nprint(paricipant.display_list)',\n",
       "  'class participant:\\n    \\n    number_of_participant=0\\n    \\n    def _init_(self,name,member):\\n        self.name=name\\n        self.member=member\\n        participant.number_of_participant +=1\\n        \\n    \\n    def participants(self):\\n        return number_of_participant\\n    def dispaly_list(self):\\n        return \"Name %s and number %d \"%(self.name,participant.number_of_participant)\\n\\nfirst=participant(\\'ashu\\',1)\\nsecond=participant(\\'vishnu\\',2)\\nprint(paricipant.display_list)',\n",
       "  'class participant:\\n    \\n    number_of_participant=0\\n    \\n    def _init_(self,name,member):\\n        self.name=name\\n        self.member=member\\n        participant.number_of_participant +=1\\n        \\n    \\n    def participants(self):\\n        return number_of_participant\\n    def dispaly_list(self):\\n        return \"Name %s and number %d \"%(self.name,participant.number_of_participant)\\n\\nfirst=participant(\\'ashu\\',1)\\nsecond=participant(\\'vishnu\\',2)',\n",
       "  'class participant:\\n    \\n    number=0\\n    \\n    def _init_(self,name,member):\\n        self.name=name\\n        self.member=member\\n        participant.number +=1\\n        \\n    \\n    def participants(self):\\n        return number_of_participant\\n    def dispaly_list(self):\\n        return \"Name :\", self.name, \"and number : \", self.member\\n\\nfirst=participant(\\'ashu\\',1)\\nsecond=participant(\\'vishnu\\',2)',\n",
       "  'class participant:\\n    \\n    number=0\\n    \\n    def _init_(self,name,member):\\n        self.name=name\\n        self.member=member\\n        participant.number +=1\\n        \\n    \\n    def participants(self):\\n        return \"total members %d\" %participant.member\\n    def dispaly_list(self):\\n        return \"Name :\", self.name, \"and number : \", self.member\\n\\nmem1=participant()\\nmem2=participant()',\n",
       "  'class participant:\\n    \\n    number=0\\n    def _init_(self,name,member):\\n        self.name=name\\n        self.member=member\\n        participant.number +=1\\n        \\n    \\n    def participants(self):\\n        return \"total members %d\" %participant.member\\n    def dispaly_list(self):\\n        return \"Name :\", self.name, \"and number : \", self.member\\n\\nmem1=participant()\\nmem2=participant()',\n",
       "  'class participant:\\n    \\n    number=0\\n    def _init_(self,name,member):\\n        self.name=name\\n        self.member=member\\n        participant.number +=1\\n        \\n    \\n    def participants(self):\\n        return \"total members %d\" %participant.member\\n    def dispaly_list(self):\\n        return \"Name :\", self.name, \"and number : \", self.member\\n\\nmem1=participant(\\'tony\\',3000)\\nmem2=participant(\\'paper\\',4000)',\n",
       "  'class participant:\\n    \\n    number=0\\n    def _init_(self,name,member):\\n        self.name=name\\n        self.member=member\\n        participant.number +=1\\n        \\n    \\n    def participants(self):\\n        return \"total members %d\" %participant.member\\n    def dispaly_list(self):\\n        return \"Name :\", self.name, \"and number : \", self.member\\n\\nmem1=participant(\\'tony\\',3000)\\nmem2=participant(\\'paper\\',4000)\\nmem1.display_list',\n",
       "  'class participant:\\n    number=0\\n    \\n    def _init_(self,name,member):\\n        self.name=name\\n        self.member=member\\n        participant.number +=1\\n        \\n    \\n    def participants(self):\\n        return \"total members %d\" %participant.member\\n    def dispaly_list(self):\\n        return \"Name :\", self.name, \"and number : \", self.member\\n\\nmem1=participant(\\'tony\\',3000)\\nmem2=participant(\\'paper\\',4000)\\nmem1.display_list',\n",
       "  'class participant:\\n    number=0\\n    \\n    def _init_(self,name,member):\\n        self.name=name\\n        self.member=member\\n        participant.number +=1\\n        \\n    \\n    def participants(self):\\n        return \"total members %d\" %participant.member\\n    def dispaly_list(self):\\n        return \"Name :\", self.name, \"and number : \", self.member\\n\\nmem1=participant(\\'tony\\',3000)\\nmem2=participant(\\'paper\\',4000)\\nmem1.display_list',\n",
       "  'class simple:\\n    \\n    def _init_(self,name)',\n",
       "  'class simple:\\n    \\n    def _init_(self,name):\\n        self.name=name\\n        \\n    def list(self):\\n        return self.name',\n",
       "  'class participant:\\n    number=0\\n    \\n    def _init_(self,name,member):\\n        self.name=name\\n        self.member=member\\n        participant.number +=1\\n        \\n    \\n    def participants(self):\\n        return \"total members %d\" %participant.member\\n    def dispaly_list(self):\\n        return \"Name :\", self.name, \"and number : \", self.member\\n\\nmem1=participant(\\'tony\\',3000)\\nmem2=participant(\\'paper\\',4000)\\nmem1.display_list()',\n",
       "  'class simple:\\n    count=0\\n    def _init_(self,name,visit):\\n        self.name=name\\n        self.visit= visit\\n        \\n    def list(self):\\n        print()',\n",
       "  \"class simple:\\n    count=0\\n    def _init_(self,name,visit):\\n        self.name=name\\n        self.visit= visit\\n        simple.count +=1\\n        \\n    def list(self):\\n        print('total number of vivitors :%d' %(simple.count))\\n        \\n    def display(self):\\n        print('name:',self.name,'visitng number:',simple.count)\",\n",
       "  \"one=simple('ashu',200)\\ntwo=simple('aru',400)\",\n",
       "  \"class simple():\\n    count=0\\n    def _init_(self,name,visit):\\n        self.name=name\\n        self.visit= visit\\n        simple.count +=1\\n        \\n    def list(self):\\n        print('total number of vivitors :%d' %(simple.count))\\n        \\n    def display(self):\\n        print('name:',self.name,'visitng number:',simple.count)\",\n",
       "  \"one=simple('ashu',200)\\ntwo=simple('aru',400)\",\n",
       "  \"class simple()\\n    count=0\\n    def _init_(self,name,visit):\\n        self.name=name\\n        self.visit= visit\\n        simple.count +=1\\n        \\n    def list(self):\\n        print('total number of vivitors :%d' %(simple.count))\\n        \\n    def display(self):\\n        print('name:',self.name,'visitng number:',simple.count)\",\n",
       "  \"class simple():\\n    count=0\\n    def _init_(self,name,visit):\\n        self.name=name\\n        self.visit= visit\\n        simple.count +=1\\n        \\n    def list(self):\\n        print('total number of vivitors :%d' %(simple.count))\\n        \\n    def display(self):\\n        print('name:',self.name,'visitng number:',simple.count)\",\n",
       "  \"one=simple('ashu',200)\\ntwo=simple('aru',400)\",\n",
       "  'class participant():\\n    number=0\\n    \\n    def _init_(self, name, member):\\n        self.name=name\\n        self.member=member\\n        participant.number +=1\\n        \\n    \\n    def participants(self):\\n        return \"total members %d\" %participant.number\\n    \\n    def dispaly_list(self):\\n        return \"Name :\", self.name, \"and number : \", self.member\\n\\nmem1=participant(\\'tony\\',3000)\\nmem2=participant(\\'paper\\',4000)\\nmem1.display_list()',\n",
       "  \"class Simple():\\n    count=0\\n    def _init_(self,name,visit):\\n        self.name=name\\n        self.visit= visit\\n        simple.count +=1\\n        \\n    def list(self):\\n        print('total number of vivitors :%d' %(simple.count))\\n        \\n    def display(self):\\n        print('name:',self.name,'visitng number:',simple.count)\",\n",
       "  \"one=simple('ashu',200)\\ntwo=simple('aru',400)\",\n",
       "  \"class Simple():\\n    count=0\\n    def _init_(self,name,visit):\\n        self.name=name\\n        self.visit= visit\\n        Simple.count +=1\\n        \\n    def list(self):\\n        print('total number of vivitors :%d' %(Simple.count))\\n        \\n    def display(self):\\n        print('name:',self.name,'visitng number:',Simple.count)\",\n",
       "  \"one=Simple('ashu',200)\\ntwo=Simple('aru',400)\",\n",
       "  'class Participant():\\n    number=0\\n    \\n    def _init_(self, name, member):\\n        self.name=name\\n        self.member=member\\n        Participant.number +=1\\n        \\n    \\n    def participants(self):\\n        return \"total members %d\" %Participant.number\\n    \\n    def dispaly_list(self):\\n        return \"Name :\", self.name, \"and number : \", self.member\\n\\nmem1=Participant(\\'tony\\',3000)\\nmem2=Participant(\\'paper\\',4000)\\nmem1.display_list()',\n",
       "  \"one=Simple(name='ashu', visit=200)\\ntwo=Simple(name='aru',visit=400)\",\n",
       "  \"class Simple():\\n    count=0\\n    def __init__(self,name,visit):\\n        self.name=name\\n        self.visit= visit\\n        Simple.count +=1\\n        \\n    def list(self):\\n        print('total number of vivitors :%d' %(Simple.count))\\n        \\n    def display(self):\\n        print('name:',self.name,'visitng number:',Simple.count)\",\n",
       "  \"one=Simple(name='ashu', visit=200)\\ntwo=Simple(name='aru',visit=400)\",\n",
       "  \"one=Simple(name='ashu', visit=200)\\ntwo=Simple(name='aru',visit=400)\",\n",
       "  'one.display()\\n    ',\n",
       "  'two.display()\\n    ',\n",
       "  \"class Simple():\\n    count=0\\n    def __init__(self,name,visit):\\n        self.name=name\\n        self.visit= visit\\n        Simple.count +=1\\n        \\n    def list(self):\\n        print('total number of vivitors :%d' %(Simple.count))\\n        \\n    def display(self):\\n        print('name:',self.name,'visitng number:',self.visit)\",\n",
       "  \"one=Simple(name='ashu', visit=200)\\ntwo=Simple(name='aru',visit=400)\",\n",
       "  'two.display()\\n    ',\n",
       "  \"class Simple():\\n    count=0\\n    def __init__(self,name,visit):\\n        self.name=name\\n        self.visit= visit\\n        Simple.count +=1\\n        \\n    def list(self):\\n        print('total number of vivitors :%d' %(Simple.count))\\n        \\n    def display(self):\\n        print('name:',self.name,'and ' 'visitng number:',self.visit)\",\n",
       "  \"one=Simple(name='ashu', visit=200)\\ntwo=Simple(name='aru',visit=400)\",\n",
       "  'two.display()\\n    ',\n",
       "  'one.list()',\n",
       "  \"class Simple():\\n    count=0\\n    def __init__(self,*name,visit):\\n        self.*name= *name\\n        self.visit= visit\\n        Simple.count +=1\\n        \\n    def list(self):\\n        print('total number of vivitors :%d' %(Simple.count))\\n        \\n    def display(self):\\n        print('name:',self.name,'and ' 'visitng number:',self.visit)\",\n",
       "  \"class Simple():\\n    count=0\\n    def __init__(self,name,*varname,visit):\\n        self.name= name\\n        self.*variable=*variable\\n        self.visit= visit\\n        Simple.count +=1\\n        \\n    def list(self):\\n        print('total number of vivitors :%d' %(Simple.count))\\n        \\n    def display(self):\\n        print('name:',self.name,'and ' 'visitng number:',self.visit)\",\n",
       "  \"class Simple():\\n    count=0\\n    def __init__(self,name,*varname,visit):\\n        self.name= name\\n        self.variable=variable\\n        self.visit= visit\\n        Simple.count +=1\\n        \\n    def list(self):\\n        print('total number of vivitors :%d' %(Simple.count))\\n        \\n    def display(self):\\n        print('name:',self.name,'and ' 'visitng number:',self.visit)\",\n",
       "  \"one=Simple('ashu','bob','jack',200)\\ntwo=Simple(name='aru',visit=400)\",\n",
       "  \"class Simple():\\n    count=0\\n    def __init__(self,name,*varname,visit):\\n        self.name= name\\n        self.(*variable)=(*variable)\\n        self.visit= visit\\n        Simple.count +=1\\n        \\n    def list(self):\\n        print('total number of vivitors :%d' %(Simple.count))\\n        \\n    def display(self):\\n        print('name:',self.name,'and ' 'visitng number:',self.visit)\",\n",
       "  \"class Simple():\\n    count=0\\n    def __init__(self,name,[*varname],visit):\\n        self.name= name\\n        self.variable=variable\\n        self.visit= visit\\n        Simple.count +=1\\n        \\n    def list(self):\\n        print('total number of vivitors :%d' %(Simple.count))\\n        \\n    def display(self):\\n        print('name:',self.name,'and ' 'visitng number:',self.visit)\",\n",
       "  \"one=Simple('ashu',200)\\ntwo=Simple(name='aru',visit=400)\",\n",
       "  \"class Simple():\\n    count=0\\n    def __init__(self,name,visit):\\n        self.name= name\\n        self.variable=variable\\n        self.visit= visit\\n        Simple.count +=1\\n        \\n    def list(self):\\n        print('total number of vivitors :%d' %(Simple.count))\\n        \\n    def display(self):\\n        print('name:',self.name,'and ' 'visitng number:',self.visit)\",\n",
       "  \"one=Simple('ashu',200)\\ntwo=Simple(name='aru',visit=400)\",\n",
       "  \"class Simple():\\n    count=0\\n    def __init__(self,name,visit):\\n        self.name= name\\n        self.visit= visit\\n        Simple.count +=1\\n        \\n    def list(self):\\n        print('total number of vivitors :%d' %(Simple.count))\\n        \\n    def display(self):\\n        print('name:',self.name,'and ' 'visitng number:',self.visit)\",\n",
       "  \"one=Simple('ashu',200)\\ntwo=Simple(name='aru',visit=400)\",\n",
       "  'two.display()\\n    ',\n",
       "  'one.list()',\n",
       "  'two.age=7\\n    ',\n",
       "  'two.age=7\\none.age=58',\n",
       "  'two.age',\n",
       "  'del two.age=7',\n",
       "  'del two.age',\n",
       "  'two.age',\n",
       "  'hasattr(two,age,)',\n",
       "  'hasattr(two,age)',\n",
       "  \"hasattr(two,'age')\",\n",
       "  \"setattr(one,destiny,'los angiel')\",\n",
       "  \"setattr(one,'destiny','los angiel')\",\n",
       "  'one.destiney',\n",
       "  'one.destiny',\n",
       "  \"setattr(two,'location','california')\",\n",
       "  \"getattr(two,'goal',[])\",\n",
       "  'simple.__dic__',\n",
       "  'simple.__dict__',\n",
       "  'simple.__dict__  #class built -in attributes\\nsimple.__doc__\\nsimple.__bases__\\nsimple.__module__',\n",
       "  'simple.__name__',\n",
       "  'two.__name__',\n",
       "  'simple.__name__',\n",
       "  'simple.__module__',\n",
       "  'simple.__bases__',\n",
       "  'class point():\\n    \\n    def __init__(self,x=0, y=0):\\n        self.x=x\\n        self.y=y\\n        \\n    def __del__(self):\\n        point=self.__class__.___point__\\n        print \"class point destroyed\"',\n",
       "  'class point():\\n    \\n    def __init__(self,x=0, y=0):\\n        self.x=x\\n        self.y=y\\n        \\n    def __del__(self):\\n        point=self.__class__.___point__\\n        print(\"class point destroyed\")',\n",
       "  'pt1=point(2,4)\\npt2=pt1\\npt3=pt2\\nprint id(pt1), id(pt2), id(pt3)\\ndel pt1 \\ndel pt2\\ndel pt3',\n",
       "  'pt1=point(2,4)\\npt2=pt1\\npt3=pt2\\nprint( id(pt1), id(pt2), id(pt3))\\ndel pt1 \\ndel pt2\\ndel pt3',\n",
       "  'class Point():\\n    \\n    def __init__(self,x=0, y=0):\\n        self.x=x\\n        self.y=y\\n        \\n    def __del__(self):\\n        Point=self.__class__.___Point__\\n        print(\"class point destroyed\")',\n",
       "  'pt1=point(2,4)\\npt2=pt1\\npt3=pt2\\nprint( id(pt1), id(pt2), id(pt3))\\ndel pt1 \\ndel pt2\\ndel pt3',\n",
       "  'class Point():\\n    \\n    def __init__(self,x=0, y=0):\\n        self.x=x\\n        self.y=y\\n        \\n    def __del__(self):\\n        class_name=self.__class__.___name__\\n        print(\"class point destroyed\")',\n",
       "  'pt1=point(2,4)\\npt2=pt1\\npt3=pt2\\nprint( id(pt1), id(pt2), id(pt3))\\ndel pt1 \\ndel pt2\\ndel pt3',\n",
       "  'class Parent():\\n    class_num=0\\n    \\n    def method(self):\\n        print(\"this is the parent class\")\\n    \\n    def count(self):\\n        class_num +=1\\n        print(class_num)\\n\\nclass Child(Parent):\\n    \\n    def method(self):\\n        print(\"this is the child . class\")\\n    \\n    \\nclass Grandchild(Parent,Child):\\n    \\n    def method(self):\\n        print(\"this is the grandchild class\")\\n        \\n        \\n        \\n    ',\n",
       "  'class Parent():\\n    class_num=0\\n    \\n    def method(self):\\n        print(\"this is the parent class\")\\n    \\n    def count(self):\\n        class_num +=1\\n        print(class_num)\\n\\nclass Child(Parent):\\n    \\n    def method(self):\\n        print(\"this is the child . class\")\\n    \\n    \\nclass Grandchild(Child):\\n    \\n    def method(self):\\n        print(\"this is the grandchild class\")\\n        \\n        \\n        \\n    ',\n",
       "  'Grandchild.count()',\n",
       "  'Grandchild.count',\n",
       "  'Grandchild.count(5)',\n",
       "  'class Parent():\\n    class_num=0\\n    \\n    def method(self):\\n        print(\"this is the parent class\")\\n    \\n    def count(self):\\n        class_num +=1\\n        print(class_num)\\n\\nclass Child(Parent):\\n           global class_num\\n    \\n    def method(self):\\n        print(\"this is the child . class\")\\n    \\n    \\nclass Grandchild(Child):\\n    global class_num\\n    def method(self):\\n        print(\"this is the grandchild class\")\\n        \\n        \\n        \\n    ',\n",
       "  'class Parent():\\n    class_num=0\\n    \\n    def method(self):\\n        print(\"this is the parent class\")\\n    \\n    def count(self):\\n        class_num +=1\\n        print(class_num)\\n\\nclass Child(Parent):\\n           global class_num\\n    \\n    def method(self):\\n        print(\"this is the child . class\")\\n    \\n    \\nclass Grandchild(Child):\\n    global class_num\\n    \\n    def method(self):\\n        print(\"this is the grandchild class\")\\n        \\n        \\n        \\n    ',\n",
       "  'class Parent():\\n    class_num=0\\n    \\n    def method(self):\\n        print(\"this is the parent class\")\\n    \\n    def count(self):\\n        class_num +=1\\n        print(class_num)\\n\\nclass Child(Parent):\\n           global class_num\\n    \\n    def method(self):\\n        print(\"this is the child . class\")\\n    \\n    \\nclass Grandchild(Child):\\n        global class_num\\n    \\n    def method(self):\\n        print(\"this is the grandchild class\")\\n        \\n        \\n        \\n    ',\n",
       "  'class Parent():\\n    class_num=0\\n    \\n    def method(self):\\n        print(\"this is the parent class\")\\n    \\n    def count(self):\\n        class_num +=1\\n        print(class_num)\\n\\nclass Child(Parent):\\n           global class_num\\n    \\n    def method(self):\\n        print(\"this is the child . class\")\\n    \\n    \\nclass Grandchild(Child):\\n           global class_num\\n    \\n    def method(self):\\n        print(\"this is the grandchild class\")\\n        \\n        \\n        \\n    ',\n",
       "  'class Parent():\\n    class_num=0\\n    \\n    def method(self):\\n        print(\"this is the parent class\")\\n    \\n    def count(self):\\n        class_num +=1\\n        print(class_num)\\n\\nclass Child(Parent):\\n    global class_num\\n    \\n    def method(self):\\n        print(\"this is the child . class\")\\n    \\n    \\nclass Grandchild(Child):\\n           global class_num\\n    \\n    def method(self):\\n        print(\"this is the grandchild class\")\\n        \\n        \\n        \\n    ',\n",
       "  'class Parent():\\n    class_num=0\\n    \\n    def method(self):\\n        print(\"this is the parent class\")\\n    \\n    def count(self):\\n        class_num +=1\\n        print(class_num)\\n\\nclass Child(Parent):\\n    global class_num\\n    \\n    def method(self):\\n        print(\"this is the child . class\")\\n    \\n    \\nclass Grandchild(Child):\\n    global class_num\\n    \\n    def method(self):\\n        print(\"this is the grandchild class\")\\n        \\n        \\n        \\n    ',\n",
       "  'Grandchild.count(5)',\n",
       "  'Grandchild',\n",
       "  'Grandchild()',\n",
       "  'Grandchild.method()',\n",
       "  'class Parent():\\n    class_num=0\\n    \\n    def __init__(self):\\n        pass\\n    \\n    def method(self):\\n        print(\"this is the parent class\")\\n    \\n    def count(self):\\n        class_num +=1\\n        print(class_num)\\n\\nclass Child(Parent):\\n    global class_num\\n    \\n    def method(self):\\n        print(\"this is the child . class\")\\n    \\n    \\nclass Grandchild(Child):\\n    global class_num\\n    \\n    def method(self):\\n        print(\"this is the grandchild class\")\\n        \\n        \\n        \\n    ',\n",
       "  'pt=Grandchild.method()',\n",
       "  'class Parent():\\n    class_num=0\\n    \\n    def __init__(self):\\n        pass\\n    \\n    def method(self):\\n        print(\"this is the parent class\")\\n    \\n    def count(self):\\n        class_num +=1\\n        print(class_num)\\n\\nclass Child(Parent):\\n    global class_num\\n    \\n    def __init(self):\\n        pass\\n    \\n    def method(self):\\n        print(\"this is the child . class\")\\n    \\n    \\nclass Grandchild(Child):\\n    global class_num\\n    \\n    def __init__(self):\\n        pass\\n    \\n    def method(self):\\n        print(\"this is the grandchild class\")\\n        \\n        \\n        \\n    ',\n",
       "  'pt=Grandchild.method()',\n",
       "  'name=\\'ashu\\'\\nprint(f \"this is the {name}\")',\n",
       "  'name=\\'ashu\\'\\nprint(f \"this is the\" {name})',\n",
       "  'name=\\'ashu\\'\\nprint(f \"this is the\".(name))',\n",
       "  'name=\\'ashu\\'\\nprint(f \"this is the\"{name})',\n",
       "  'name=\\'ashu\\'\\nprint(f \"this is the\" {name})',\n",
       "  'name=\\'ashu\\'\\nprint(f \"this is the{name}\")',\n",
       "  'name=\\'ashu\\'\\nprint(f. \"this is the{name}\")',\n",
       "  'name=\\'ashu\\'\\nprint(f\"this is the{name}\")',\n",
       "  'name=\\'ashu\\'\\nprint(f\"this is the {name}\")',\n",
       "  'class Parent():\\n    class_num=0\\n    \\n    def __init__(self,name):\\n        self.name=name\\n        pass\\n    \\n    def method(self):\\n        print(f\"this is the parent class {self.name}\")\\n    \\n    def count(self):\\n        class_num +=1\\n        print(class_num)\\n\\nclass Child(Parent):\\n    global class_num\\n    \\n    def __init(self):\\n        pass\\n    \\n    def method(self):\\n        print(\"this is the child . class\")\\n    \\n    \\nclass Grandchild(Child):\\n    global class_num\\n    \\n    def __init__(self):\\n        pass\\n    \\n    def method(self):\\n        print(\"this is the grandchild class\")\\n        \\n        \\n        \\n    ',\n",
       "  'pt=Grandchild.method()',\n",
       "  'class Parent():\\n    class_num=0\\n    \\n    def __init__(self,name):\\n        self.name=name\\n        pass\\n    \\n    def method(self):\\n        print(f\"this is the parent class {self.name}\")\\n    \\n    def count(self):\\n        class_num +=1\\n        print(class_num)\\n\\nclass Child(Parent):\\n    global class_num\\n    \\n    def __init__(self):\\n        pass\\n    \\n    def method(self):\\n        print(\"this is the child . class\")\\n    \\n    \\nclass Grandchild(Child):\\n    global class_num\\n    \\n    def __init__(self):\\n        pass\\n    \\n    def method(self):\\n        print(\"this is the grandchild class\")\\n        \\n        \\n        \\n    ',\n",
       "  'pt=Grandchild',\n",
       "  \"pt=Grandchild('ashutosh')\",\n",
       "  'pt=Grandchild()',\n",
       "  'pt=Grandchild()\\npt.method()',\n",
       "  'pt=Grandchild()\\npt.method()\\npt.count()',\n",
       "  'class_num=0\\nclass Parent():\\n    global class_num\\n    \\n    def __init__(self,name):\\n        self.name=name\\n        pass\\n    \\n    def method(self):\\n        print(f\"this is the parent class {self.name}\")\\n    \\n    def count(self):\\n        class_num +=1\\n        print(class_num)\\n\\nclass Child(Parent):\\n    global class_num\\n    \\n    def __init__(self):\\n        pass\\n    \\n    def method(self):\\n        print(\"this is the child . class\")\\n    \\n    \\nclass Grandchild(Child):\\n    global class_num\\n    \\n    def __init__(self):\\n        pass\\n    \\n    def method(self):\\n        print(\"this is the grandchild class\")\\n        \\n        \\n        \\n    ',\n",
       "  'pt=Grandchild()\\npt.method()\\npt.count()',\n",
       "  'name=\\'ashu\\'\\nprint(f\"this is the {name}\")',\n",
       "  'isglobal(class_num)',\n",
       "  'global(class_num)',\n",
       "  'global(\"class_num\")',\n",
       "  'isglobal(\"class_num\")',\n",
       "  'pt=Grandchild()\\npt.method()\\npt.count\\nisglobal(class_num)',\n",
       "  'pt=Grandchild()\\npt.method()\\npt.count\\nglobals(class_num)',\n",
       "  'pt=Grandchild()\\npt.method()\\npt.count()',\n",
       "  'globals(count_num)',\n",
       "  'globals(class_num)',\n",
       "  'globals()'],\n",
       " 'Out': {62: 7,\n",
       "  68: False,\n",
       "  72: 'los angiel',\n",
       "  74: [],\n",
       "  76: mappingproxy({'__module__': '__main__',\n",
       "                'count': 0,\n",
       "                '_init_': <function __main__.simple._init_(self, name, visit)>,\n",
       "                'list': <function __main__.simple.list(self)>,\n",
       "                'display': <function __main__.simple.display(self)>,\n",
       "                '__dict__': <attribute '__dict__' of 'simple' objects>,\n",
       "                '__weakref__': <attribute '__weakref__' of 'simple' objects>,\n",
       "                '__doc__': None}),\n",
       "  77: '__main__',\n",
       "  78: 'simple',\n",
       "  80: 'simple',\n",
       "  81: '__main__',\n",
       "  82: (object,),\n",
       "  94: <function __main__.Parent.count(self)>,\n",
       "  108: __main__.Grandchild,\n",
       "  109: <__main__.Grandchild at 0x1095f2e48>},\n",
       " 'get_ipython': <bound method InteractiveShell.get_ipython of <ipykernel.zmqshell.ZMQInteractiveShell object at 0x109418eb8>>,\n",
       " 'exit': <IPython.core.autocall.ZMQExitAutocall at 0x10947d668>,\n",
       " 'quit': <IPython.core.autocall.ZMQExitAutocall at 0x10947d668>,\n",
       " '_': <__main__.Grandchild at 0x1095f2e48>,\n",
       " '__': __main__.Grandchild,\n",
       " '___': <function __main__.Parent.count(self)>,\n",
       " '_i': 'globals(class_num)',\n",
       " '_ii': 'globals(count_num)',\n",
       " '_iii': 'pt=Grandchild()\\npt.method()\\npt.count()',\n",
       " '_i1': 'print(\"that\\'s me speaking english\")\\nprint(\"I can just be tested by someone who knows typing\")\\n\\n\\nclass Intro():\\n\\t\"\"\"intorodution to my\\n\\t   robot \"\"\"\\n\\tdef __init__(self,name,lang,creater):\\n           \\n\\t\\tself.name=name\\n\\t\\tself.lang=lang\\n\\t\\tself.creater=creater\\n\\n\\tdef name(self):\\n\\t     print(f\"{self.name} is my name!\")\\n\\t     print( \"would you like to share your name\")\\n\\t     Name = input()\\n\\t     return \"great name man!\" +Name\\n\\n\\tdef lang(self):\\n\\t\\treturn \"python\" + \"would you like me to add any\"\\n\\t           if add==\"yes\",\"yep\",\"yaa\":\\n\\t\\t              which=input()\\n\\t\\t               return which +\"is add !\"\\n                else:\\n\\t\\t   \\t        print(\"think your are looking tired\")\\n\\n\\tdef creater(self):\\n\\t\\tprint(self.creater)\\n\\nprint(\"ask me who is creater!\")',\n",
       " '_i2': 'print(\"that\\'s me speaking english\")\\nprint(\"I can just be tested by someone who knows typing\")\\n\\n\\nclass Intro():\\n\\t\"\"\"intorodution to my\\n\\t   robot \"\"\"\\n\\tdef __init__(self,name,lang,creater):\\n           \\n\\t\\tself.name=name\\n\\t\\tself.lang=lang\\n\\t\\tself.creater=creater\\n\\n\\tdef name(self):\\n\\t     print(f\"{self.name} is my name!\")\\n\\t     print( \"would you like to share your name\")\\n\\t     Name = input()\\n\\t     return \"great name man!\" +Name\\n\\n\\tdef lang(self):\\n\\t\\treturn \"python\" + \"would you like me to add any\"\\n\\t           if add==\"yes\",\"yep\",\"yaa\":\\n\\t\\t              which=input()\\n\\t\\t               return which +\"is add !\"\\n                else:\\n\\t\\t   \\t        print(\"think your are looking tired\")\\n\\n\\tdef creater(self):\\n\\t\\tprint(self.creater)\\n\\nprint(\"ask me who is creater!\")',\n",
       " '_i3': 'add= input()',\n",
       " 'add': '45',\n",
       " '_i4': '###robot \\nprint( \\'hi myself robot and i want to have a good talk with you \\')\\nprint( \"want to have my name?\"\\\\n\"or you want to give it to me?\" )\\n\\nclass Intro_robot(self,name,creater)\\n ',\n",
       " '_i5': 'class participant:\\n    \\n    number_of_participant=0\\n    \\n    def _init_(self,name,participant):\\n        self.name=name\\n        self.participant=participant\\n        number_of_participant +=1\\n        \\n    \\n    def participants(self):\\n        return number_of_participant\\n    def dispaly_list(self):\\n        return \"Name %s and number %d \"%(self.name,number_of_participant)',\n",
       " 'participant': __main__.participant,\n",
       " '_i6': 'class participant:\\n    \\n    number_of_participant=0\\n    \\n    def _init_(self,name,participant):\\n        self.name=name\\n        self.participant=participant\\n        number_of_participant +=1\\n        \\n    \\n    def participants(self):\\n        return number_of_participant\\n    def dispaly_list(self):\\n        return \"Name %s and number %d \"%(self.name,number_of_participant)\\n\\nfirst=participant(\\'ashu\\',1)\\nsecond=participant(\\'vishnu\\',2)\\nprint(paricipant.display_list)',\n",
       " '_i7': 'class participant:\\n    \\n    number_of_participant=0\\n    \\n    def _init_(self,name,participant):\\n        self.name=name\\n        self.participant=participant\\n        participant.number_of_participant +=1\\n        \\n    \\n    def participants(self):\\n        return number_of_participant\\n    def dispaly_list(self):\\n        return \"Name %s and number %d \"%(self.name,participant.number_of_participant)\\n\\nfirst=participant(\\'ashu\\',1)\\nsecond=participant(\\'vishnu\\',2)\\nprint(paricipant.display_list)',\n",
       " '_i8': 'class participant:\\n    \\n    number_of_participant=0\\n    \\n    def _init_(self,name,member):\\n        self.name=name\\n        self.member=member\\n        participant.number_of_participant +=1\\n        \\n    \\n    def participants(self):\\n        return number_of_participant\\n    def dispaly_list(self):\\n        return \"Name %s and number %d \"%(self.name,participant.number_of_participant)\\n\\nfirst=participant(\\'ashu\\',1)\\nsecond=participant(\\'vishnu\\',2)\\nprint(paricipant.display_list)',\n",
       " '_i9': 'class participant:\\n    \\n    number_of_participant=0\\n    \\n    def _init_(self,name,member):\\n        self.name=name\\n        self.member=member\\n        participant.number_of_participant +=1\\n        \\n    \\n    def participants(self):\\n        return number_of_participant\\n    def dispaly_list(self):\\n        return \"Name %s and number %d \"%(self.name,participant.number_of_participant)\\n\\nfirst=participant(\\'ashu\\',1)\\nsecond=participant(\\'vishnu\\',2)',\n",
       " '_i10': 'class participant:\\n    \\n    number=0\\n    \\n    def _init_(self,name,member):\\n        self.name=name\\n        self.member=member\\n        participant.number +=1\\n        \\n    \\n    def participants(self):\\n        return number_of_participant\\n    def dispaly_list(self):\\n        return \"Name :\", self.name, \"and number : \", self.member\\n\\nfirst=participant(\\'ashu\\',1)\\nsecond=participant(\\'vishnu\\',2)',\n",
       " '_i11': 'class participant:\\n    \\n    number=0\\n    \\n    def _init_(self,name,member):\\n        self.name=name\\n        self.member=member\\n        participant.number +=1\\n        \\n    \\n    def participants(self):\\n        return \"total members %d\" %participant.member\\n    def dispaly_list(self):\\n        return \"Name :\", self.name, \"and number : \", self.member\\n\\nmem1=participant()\\nmem2=participant()',\n",
       " 'mem1': <__main__.participant at 0x1096bb518>,\n",
       " 'mem2': <__main__.participant at 0x1096bb550>,\n",
       " '_i12': 'class participant:\\n    \\n    number=0\\n    def _init_(self,name,member):\\n        self.name=name\\n        self.member=member\\n        participant.number +=1\\n        \\n    \\n    def participants(self):\\n        return \"total members %d\" %participant.member\\n    def dispaly_list(self):\\n        return \"Name :\", self.name, \"and number : \", self.member\\n\\nmem1=participant()\\nmem2=participant()',\n",
       " '_i13': 'class participant:\\n    \\n    number=0\\n    def _init_(self,name,member):\\n        self.name=name\\n        self.member=member\\n        participant.number +=1\\n        \\n    \\n    def participants(self):\\n        return \"total members %d\" %participant.member\\n    def dispaly_list(self):\\n        return \"Name :\", self.name, \"and number : \", self.member\\n\\nmem1=participant(\\'tony\\',3000)\\nmem2=participant(\\'paper\\',4000)',\n",
       " '_i14': 'class participant:\\n    \\n    number=0\\n    def _init_(self,name,member):\\n        self.name=name\\n        self.member=member\\n        participant.number +=1\\n        \\n    \\n    def participants(self):\\n        return \"total members %d\" %participant.member\\n    def dispaly_list(self):\\n        return \"Name :\", self.name, \"and number : \", self.member\\n\\nmem1=participant(\\'tony\\',3000)\\nmem2=participant(\\'paper\\',4000)\\nmem1.display_list',\n",
       " '_i15': 'class participant:\\n    number=0\\n    \\n    def _init_(self,name,member):\\n        self.name=name\\n        self.member=member\\n        participant.number +=1\\n        \\n    \\n    def participants(self):\\n        return \"total members %d\" %participant.member\\n    def dispaly_list(self):\\n        return \"Name :\", self.name, \"and number : \", self.member\\n\\nmem1=participant(\\'tony\\',3000)\\nmem2=participant(\\'paper\\',4000)\\nmem1.display_list',\n",
       " '_i16': 'class participant:\\n    number=0\\n    \\n    def _init_(self,name,member):\\n        self.name=name\\n        self.member=member\\n        participant.number +=1\\n        \\n    \\n    def participants(self):\\n        return \"total members %d\" %participant.member\\n    def dispaly_list(self):\\n        return \"Name :\", self.name, \"and number : \", self.member\\n\\nmem1=participant(\\'tony\\',3000)\\nmem2=participant(\\'paper\\',4000)\\nmem1.display_list',\n",
       " '_i17': 'class simple:\\n    \\n    def _init_(self,name)',\n",
       " '_i18': 'class simple:\\n    \\n    def _init_(self,name):\\n        self.name=name\\n        \\n    def list(self):\\n        return self.name',\n",
       " 'simple': __main__.simple,\n",
       " '_i19': 'class participant:\\n    number=0\\n    \\n    def _init_(self,name,member):\\n        self.name=name\\n        self.member=member\\n        participant.number +=1\\n        \\n    \\n    def participants(self):\\n        return \"total members %d\" %participant.member\\n    def dispaly_list(self):\\n        return \"Name :\", self.name, \"and number : \", self.member\\n\\nmem1=participant(\\'tony\\',3000)\\nmem2=participant(\\'paper\\',4000)\\nmem1.display_list()',\n",
       " '_i20': 'class simple:\\n    count=0\\n    def _init_(self,name,visit):\\n        self.name=name\\n        self.visit= visit\\n        \\n    def list(self):\\n        print()',\n",
       " '_i21': \"class simple:\\n    count=0\\n    def _init_(self,name,visit):\\n        self.name=name\\n        self.visit= visit\\n        simple.count +=1\\n        \\n    def list(self):\\n        print('total number of vivitors :%d' %(simple.count))\\n        \\n    def display(self):\\n        print('name:',self.name,'visitng number:',simple.count)\",\n",
       " '_i22': \"one=simple('ashu',200)\\ntwo=simple('aru',400)\",\n",
       " '_i23': \"class simple():\\n    count=0\\n    def _init_(self,name,visit):\\n        self.name=name\\n        self.visit= visit\\n        simple.count +=1\\n        \\n    def list(self):\\n        print('total number of vivitors :%d' %(simple.count))\\n        \\n    def display(self):\\n        print('name:',self.name,'visitng number:',simple.count)\",\n",
       " '_i24': \"one=simple('ashu',200)\\ntwo=simple('aru',400)\",\n",
       " '_i25': \"class simple()\\n    count=0\\n    def _init_(self,name,visit):\\n        self.name=name\\n        self.visit= visit\\n        simple.count +=1\\n        \\n    def list(self):\\n        print('total number of vivitors :%d' %(simple.count))\\n        \\n    def display(self):\\n        print('name:',self.name,'visitng number:',simple.count)\",\n",
       " '_i26': \"class simple():\\n    count=0\\n    def _init_(self,name,visit):\\n        self.name=name\\n        self.visit= visit\\n        simple.count +=1\\n        \\n    def list(self):\\n        print('total number of vivitors :%d' %(simple.count))\\n        \\n    def display(self):\\n        print('name:',self.name,'visitng number:',simple.count)\",\n",
       " '_i27': \"one=simple('ashu',200)\\ntwo=simple('aru',400)\",\n",
       " '_i28': 'class participant():\\n    number=0\\n    \\n    def _init_(self, name, member):\\n        self.name=name\\n        self.member=member\\n        participant.number +=1\\n        \\n    \\n    def participants(self):\\n        return \"total members %d\" %participant.number\\n    \\n    def dispaly_list(self):\\n        return \"Name :\", self.name, \"and number : \", self.member\\n\\nmem1=participant(\\'tony\\',3000)\\nmem2=participant(\\'paper\\',4000)\\nmem1.display_list()',\n",
       " '_i29': \"class Simple():\\n    count=0\\n    def _init_(self,name,visit):\\n        self.name=name\\n        self.visit= visit\\n        simple.count +=1\\n        \\n    def list(self):\\n        print('total number of vivitors :%d' %(simple.count))\\n        \\n    def display(self):\\n        print('name:',self.name,'visitng number:',simple.count)\",\n",
       " 'Simple': __main__.Simple,\n",
       " '_i30': \"one=simple('ashu',200)\\ntwo=simple('aru',400)\",\n",
       " '_i31': \"class Simple():\\n    count=0\\n    def _init_(self,name,visit):\\n        self.name=name\\n        self.visit= visit\\n        Simple.count +=1\\n        \\n    def list(self):\\n        print('total number of vivitors :%d' %(Simple.count))\\n        \\n    def display(self):\\n        print('name:',self.name,'visitng number:',Simple.count)\",\n",
       " '_i32': \"one=Simple('ashu',200)\\ntwo=Simple('aru',400)\",\n",
       " '_i33': 'class Participant():\\n    number=0\\n    \\n    def _init_(self, name, member):\\n        self.name=name\\n        self.member=member\\n        Participant.number +=1\\n        \\n    \\n    def participants(self):\\n        return \"total members %d\" %Participant.number\\n    \\n    def dispaly_list(self):\\n        return \"Name :\", self.name, \"and number : \", self.member\\n\\nmem1=Participant(\\'tony\\',3000)\\nmem2=Participant(\\'paper\\',4000)\\nmem1.display_list()',\n",
       " 'Participant': __main__.Participant,\n",
       " '_i34': \"one=Simple(name='ashu', visit=200)\\ntwo=Simple(name='aru',visit=400)\",\n",
       " '_i35': \"class Simple():\\n    count=0\\n    def __init__(self,name,visit):\\n        self.name=name\\n        self.visit= visit\\n        Simple.count +=1\\n        \\n    def list(self):\\n        print('total number of vivitors :%d' %(Simple.count))\\n        \\n    def display(self):\\n        print('name:',self.name,'visitng number:',Simple.count)\",\n",
       " '_i36': \"one=Simple(name='ashu', visit=200)\\ntwo=Simple(name='aru',visit=400)\",\n",
       " 'one': <__main__.Simple at 0x1096bbcf8>,\n",
       " 'two': <__main__.Simple at 0x1096bbfd0>,\n",
       " '_i37': \"one=Simple(name='ashu', visit=200)\\ntwo=Simple(name='aru',visit=400)\",\n",
       " '_i38': 'one.display()\\n    ',\n",
       " '_i39': 'two.display()\\n    ',\n",
       " '_i40': \"class Simple():\\n    count=0\\n    def __init__(self,name,visit):\\n        self.name=name\\n        self.visit= visit\\n        Simple.count +=1\\n        \\n    def list(self):\\n        print('total number of vivitors :%d' %(Simple.count))\\n        \\n    def display(self):\\n        print('name:',self.name,'visitng number:',self.visit)\",\n",
       " '_i41': \"one=Simple(name='ashu', visit=200)\\ntwo=Simple(name='aru',visit=400)\",\n",
       " '_i42': 'two.display()\\n    ',\n",
       " '_i43': \"class Simple():\\n    count=0\\n    def __init__(self,name,visit):\\n        self.name=name\\n        self.visit= visit\\n        Simple.count +=1\\n        \\n    def list(self):\\n        print('total number of vivitors :%d' %(Simple.count))\\n        \\n    def display(self):\\n        print('name:',self.name,'and ' 'visitng number:',self.visit)\",\n",
       " '_i44': \"one=Simple(name='ashu', visit=200)\\ntwo=Simple(name='aru',visit=400)\",\n",
       " '_i45': 'two.display()\\n    ',\n",
       " '_i46': 'one.list()',\n",
       " '_i47': \"class Simple():\\n    count=0\\n    def __init__(self,*name,visit):\\n        self.*name= *name\\n        self.visit= visit\\n        Simple.count +=1\\n        \\n    def list(self):\\n        print('total number of vivitors :%d' %(Simple.count))\\n        \\n    def display(self):\\n        print('name:',self.name,'and ' 'visitng number:',self.visit)\",\n",
       " '_i48': \"class Simple():\\n    count=0\\n    def __init__(self,name,*varname,visit):\\n        self.name= name\\n        self.*variable=*variable\\n        self.visit= visit\\n        Simple.count +=1\\n        \\n    def list(self):\\n        print('total number of vivitors :%d' %(Simple.count))\\n        \\n    def display(self):\\n        print('name:',self.name,'and ' 'visitng number:',self.visit)\",\n",
       " '_i49': \"class Simple():\\n    count=0\\n    def __init__(self,name,*varname,visit):\\n        self.name= name\\n        self.variable=variable\\n        self.visit= visit\\n        Simple.count +=1\\n        \\n    def list(self):\\n        print('total number of vivitors :%d' %(Simple.count))\\n        \\n    def display(self):\\n        print('name:',self.name,'and ' 'visitng number:',self.visit)\",\n",
       " '_i50': \"one=Simple('ashu','bob','jack',200)\\ntwo=Simple(name='aru',visit=400)\",\n",
       " '_i51': \"class Simple():\\n    count=0\\n    def __init__(self,name,*varname,visit):\\n        self.name= name\\n        self.(*variable)=(*variable)\\n        self.visit= visit\\n        Simple.count +=1\\n        \\n    def list(self):\\n        print('total number of vivitors :%d' %(Simple.count))\\n        \\n    def display(self):\\n        print('name:',self.name,'and ' 'visitng number:',self.visit)\",\n",
       " '_i52': \"class Simple():\\n    count=0\\n    def __init__(self,name,[*varname],visit):\\n        self.name= name\\n        self.variable=variable\\n        self.visit= visit\\n        Simple.count +=1\\n        \\n    def list(self):\\n        print('total number of vivitors :%d' %(Simple.count))\\n        \\n    def display(self):\\n        print('name:',self.name,'and ' 'visitng number:',self.visit)\",\n",
       " '_i53': \"one=Simple('ashu',200)\\ntwo=Simple(name='aru',visit=400)\",\n",
       " '_i54': \"class Simple():\\n    count=0\\n    def __init__(self,name,visit):\\n        self.name= name\\n        self.variable=variable\\n        self.visit= visit\\n        Simple.count +=1\\n        \\n    def list(self):\\n        print('total number of vivitors :%d' %(Simple.count))\\n        \\n    def display(self):\\n        print('name:',self.name,'and ' 'visitng number:',self.visit)\",\n",
       " '_i55': \"one=Simple('ashu',200)\\ntwo=Simple(name='aru',visit=400)\",\n",
       " '_i56': \"class Simple():\\n    count=0\\n    def __init__(self,name,visit):\\n        self.name= name\\n        self.visit= visit\\n        Simple.count +=1\\n        \\n    def list(self):\\n        print('total number of vivitors :%d' %(Simple.count))\\n        \\n    def display(self):\\n        print('name:',self.name,'and ' 'visitng number:',self.visit)\",\n",
       " '_i57': \"one=Simple('ashu',200)\\ntwo=Simple(name='aru',visit=400)\",\n",
       " '_i58': 'two.display()\\n    ',\n",
       " '_i59': 'one.list()',\n",
       " '_i60': 'two.age=7\\n    ',\n",
       " '_i61': 'two.age=7\\none.age=58',\n",
       " '_i62': 'two.age',\n",
       " '_62': 7,\n",
       " '_i63': 'del two.age=7',\n",
       " '_i64': 'del two.age',\n",
       " '_i65': 'two.age',\n",
       " '_i66': 'hasattr(two,age,)',\n",
       " '_i67': 'hasattr(two,age)',\n",
       " '_i68': \"hasattr(two,'age')\",\n",
       " '_68': False,\n",
       " '_i69': \"setattr(one,destiny,'los angiel')\",\n",
       " '_i70': \"setattr(one,'destiny','los angiel')\",\n",
       " '_i71': 'one.destiney',\n",
       " '_i72': 'one.destiny',\n",
       " '_72': 'los angiel',\n",
       " '_i73': \"setattr(two,'location','california')\",\n",
       " '_i74': \"getattr(two,'goal',[])\",\n",
       " '_74': [],\n",
       " '_i75': 'simple.__dic__',\n",
       " '_i76': 'simple.__dict__',\n",
       " '_76': mappingproxy({'__module__': '__main__',\n",
       "               'count': 0,\n",
       "               '_init_': <function __main__.simple._init_(self, name, visit)>,\n",
       "               'list': <function __main__.simple.list(self)>,\n",
       "               'display': <function __main__.simple.display(self)>,\n",
       "               '__dict__': <attribute '__dict__' of 'simple' objects>,\n",
       "               '__weakref__': <attribute '__weakref__' of 'simple' objects>,\n",
       "               '__doc__': None}),\n",
       " '_i77': 'simple.__dict__  #class built -in attributes\\nsimple.__doc__\\nsimple.__bases__\\nsimple.__module__',\n",
       " '_77': '__main__',\n",
       " '_i78': 'simple.__name__',\n",
       " '_78': 'simple',\n",
       " '_i79': 'two.__name__',\n",
       " '_i80': 'simple.__name__',\n",
       " '_80': 'simple',\n",
       " '_i81': 'simple.__module__',\n",
       " '_81': '__main__',\n",
       " '_i82': 'simple.__bases__',\n",
       " '_82': (object,),\n",
       " '_i83': 'class point():\\n    \\n    def __init__(self,x=0, y=0):\\n        self.x=x\\n        self.y=y\\n        \\n    def __del__(self):\\n        point=self.__class__.___point__\\n        print \"class point destroyed\"',\n",
       " '_i84': 'class point():\\n    \\n    def __init__(self,x=0, y=0):\\n        self.x=x\\n        self.y=y\\n        \\n    def __del__(self):\\n        point=self.__class__.___point__\\n        print(\"class point destroyed\")',\n",
       " 'point': __main__.point,\n",
       " '_i85': 'pt1=point(2,4)\\npt2=pt1\\npt3=pt2\\nprint id(pt1), id(pt2), id(pt3)\\ndel pt1 \\ndel pt2\\ndel pt3',\n",
       " '_i86': 'pt1=point(2,4)\\npt2=pt1\\npt3=pt2\\nprint( id(pt1), id(pt2), id(pt3))\\ndel pt1 \\ndel pt2\\ndel pt3',\n",
       " '_i87': 'class Point():\\n    \\n    def __init__(self,x=0, y=0):\\n        self.x=x\\n        self.y=y\\n        \\n    def __del__(self):\\n        Point=self.__class__.___Point__\\n        print(\"class point destroyed\")',\n",
       " 'Point': __main__.Point,\n",
       " '_i88': 'pt1=point(2,4)\\npt2=pt1\\npt3=pt2\\nprint( id(pt1), id(pt2), id(pt3))\\ndel pt1 \\ndel pt2\\ndel pt3',\n",
       " '_i89': 'class Point():\\n    \\n    def __init__(self,x=0, y=0):\\n        self.x=x\\n        self.y=y\\n        \\n    def __del__(self):\\n        class_name=self.__class__.___name__\\n        print(\"class point destroyed\")',\n",
       " '_i90': 'pt1=point(2,4)\\npt2=pt1\\npt3=pt2\\nprint( id(pt1), id(pt2), id(pt3))\\ndel pt1 \\ndel pt2\\ndel pt3',\n",
       " '_i91': 'class Parent():\\n    class_num=0\\n    \\n    def method(self):\\n        print(\"this is the parent class\")\\n    \\n    def count(self):\\n        class_num +=1\\n        print(class_num)\\n\\nclass Child(Parent):\\n    \\n    def method(self):\\n        print(\"this is the child . class\")\\n    \\n    \\nclass Grandchild(Parent,Child):\\n    \\n    def method(self):\\n        print(\"this is the grandchild class\")\\n        \\n        \\n        \\n    ',\n",
       " 'Parent': __main__.Parent,\n",
       " 'Child': __main__.Child,\n",
       " '_i92': 'class Parent():\\n    class_num=0\\n    \\n    def method(self):\\n        print(\"this is the parent class\")\\n    \\n    def count(self):\\n        class_num +=1\\n        print(class_num)\\n\\nclass Child(Parent):\\n    \\n    def method(self):\\n        print(\"this is the child . class\")\\n    \\n    \\nclass Grandchild(Child):\\n    \\n    def method(self):\\n        print(\"this is the grandchild class\")\\n        \\n        \\n        \\n    ',\n",
       " 'Grandchild': __main__.Grandchild,\n",
       " '_i93': 'Grandchild.count()',\n",
       " '_i94': 'Grandchild.count',\n",
       " '_94': <function __main__.Parent.count(self)>,\n",
       " '_i95': 'Grandchild.count(5)',\n",
       " '_i96': 'class Parent():\\n    class_num=0\\n    \\n    def method(self):\\n        print(\"this is the parent class\")\\n    \\n    def count(self):\\n        class_num +=1\\n        print(class_num)\\n\\nclass Child(Parent):\\n           global class_num\\n    \\n    def method(self):\\n        print(\"this is the child . class\")\\n    \\n    \\nclass Grandchild(Child):\\n    global class_num\\n    def method(self):\\n        print(\"this is the grandchild class\")\\n        \\n        \\n        \\n    ',\n",
       " '_i98': 'class Parent():\\n    class_num=0\\n    \\n    def method(self):\\n        print(\"this is the parent class\")\\n    \\n    def count(self):\\n        class_num +=1\\n        print(class_num)\\n\\nclass Child(Parent):\\n           global class_num\\n    \\n    def method(self):\\n        print(\"this is the child . class\")\\n    \\n    \\nclass Grandchild(Child):\\n    global class_num\\n    \\n    def method(self):\\n        print(\"this is the grandchild class\")\\n        \\n        \\n        \\n    ',\n",
       " '_i100': 'class Parent():\\n    class_num=0\\n    \\n    def method(self):\\n        print(\"this is the parent class\")\\n    \\n    def count(self):\\n        class_num +=1\\n        print(class_num)\\n\\nclass Child(Parent):\\n           global class_num\\n    \\n    def method(self):\\n        print(\"this is the child . class\")\\n    \\n    \\nclass Grandchild(Child):\\n        global class_num\\n    \\n    def method(self):\\n        print(\"this is the grandchild class\")\\n        \\n        \\n        \\n    ',\n",
       " '_i102': 'class Parent():\\n    class_num=0\\n    \\n    def method(self):\\n        print(\"this is the parent class\")\\n    \\n    def count(self):\\n        class_num +=1\\n        print(class_num)\\n\\nclass Child(Parent):\\n           global class_num\\n    \\n    def method(self):\\n        print(\"this is the child . class\")\\n    \\n    \\nclass Grandchild(Child):\\n           global class_num\\n    \\n    def method(self):\\n        print(\"this is the grandchild class\")\\n        \\n        \\n        \\n    ',\n",
       " '_i104': 'class Parent():\\n    class_num=0\\n    \\n    def method(self):\\n        print(\"this is the parent class\")\\n    \\n    def count(self):\\n        class_num +=1\\n        print(class_num)\\n\\nclass Child(Parent):\\n    global class_num\\n    \\n    def method(self):\\n        print(\"this is the child . class\")\\n    \\n    \\nclass Grandchild(Child):\\n           global class_num\\n    \\n    def method(self):\\n        print(\"this is the grandchild class\")\\n        \\n        \\n        \\n    ',\n",
       " '_i106': 'class Parent():\\n    class_num=0\\n    \\n    def method(self):\\n        print(\"this is the parent class\")\\n    \\n    def count(self):\\n        class_num +=1\\n        print(class_num)\\n\\nclass Child(Parent):\\n    global class_num\\n    \\n    def method(self):\\n        print(\"this is the child . class\")\\n    \\n    \\nclass Grandchild(Child):\\n    global class_num\\n    \\n    def method(self):\\n        print(\"this is the grandchild class\")\\n        \\n        \\n        \\n    ',\n",
       " '_i107': 'Grandchild.count(5)',\n",
       " '_i108': 'Grandchild',\n",
       " '_108': __main__.Grandchild,\n",
       " '_i109': 'Grandchild()',\n",
       " '_109': <__main__.Grandchild at 0x1095f2e48>,\n",
       " '_i110': 'Grandchild.method()',\n",
       " '_i111': 'class Parent():\\n    class_num=0\\n    \\n    def __init__(self):\\n        pass\\n    \\n    def method(self):\\n        print(\"this is the parent class\")\\n    \\n    def count(self):\\n        class_num +=1\\n        print(class_num)\\n\\nclass Child(Parent):\\n    global class_num\\n    \\n    def method(self):\\n        print(\"this is the child . class\")\\n    \\n    \\nclass Grandchild(Child):\\n    global class_num\\n    \\n    def method(self):\\n        print(\"this is the grandchild class\")\\n        \\n        \\n        \\n    ',\n",
       " '_i112': 'pt=Grandchild.method()',\n",
       " '_i113': 'class Parent():\\n    class_num=0\\n    \\n    def __init__(self):\\n        pass\\n    \\n    def method(self):\\n        print(\"this is the parent class\")\\n    \\n    def count(self):\\n        class_num +=1\\n        print(class_num)\\n\\nclass Child(Parent):\\n    global class_num\\n    \\n    def __init(self):\\n        pass\\n    \\n    def method(self):\\n        print(\"this is the child . class\")\\n    \\n    \\nclass Grandchild(Child):\\n    global class_num\\n    \\n    def __init__(self):\\n        pass\\n    \\n    def method(self):\\n        print(\"this is the grandchild class\")\\n        \\n        \\n        \\n    ',\n",
       " '_i114': 'pt=Grandchild.method()',\n",
       " '_i115': 'name=\\'ashu\\'\\nprint(f \"this is the {name}\")',\n",
       " '_i116': 'name=\\'ashu\\'\\nprint(f \"this is the\" {name})',\n",
       " '_i117': 'name=\\'ashu\\'\\nprint(f \"this is the\".(name))',\n",
       " '_i118': 'name=\\'ashu\\'\\nprint(f \"this is the\"{name})',\n",
       " '_i119': 'name=\\'ashu\\'\\nprint(f \"this is the\" {name})',\n",
       " '_i120': 'name=\\'ashu\\'\\nprint(f \"this is the{name}\")',\n",
       " '_i121': 'name=\\'ashu\\'\\nprint(f. \"this is the{name}\")',\n",
       " '_i122': 'name=\\'ashu\\'\\nprint(f\"this is the{name}\")',\n",
       " 'name': 'ashu',\n",
       " '_i123': 'name=\\'ashu\\'\\nprint(f\"this is the {name}\")',\n",
       " '_i124': 'class Parent():\\n    class_num=0\\n    \\n    def __init__(self,name):\\n        self.name=name\\n        pass\\n    \\n    def method(self):\\n        print(f\"this is the parent class {self.name}\")\\n    \\n    def count(self):\\n        class_num +=1\\n        print(class_num)\\n\\nclass Child(Parent):\\n    global class_num\\n    \\n    def __init(self):\\n        pass\\n    \\n    def method(self):\\n        print(\"this is the child . class\")\\n    \\n    \\nclass Grandchild(Child):\\n    global class_num\\n    \\n    def __init__(self):\\n        pass\\n    \\n    def method(self):\\n        print(\"this is the grandchild class\")\\n        \\n        \\n        \\n    ',\n",
       " '_i125': 'pt=Grandchild.method()',\n",
       " '_i126': 'class Parent():\\n    class_num=0\\n    \\n    def __init__(self,name):\\n        self.name=name\\n        pass\\n    \\n    def method(self):\\n        print(f\"this is the parent class {self.name}\")\\n    \\n    def count(self):\\n        class_num +=1\\n        print(class_num)\\n\\nclass Child(Parent):\\n    global class_num\\n    \\n    def __init__(self):\\n        pass\\n    \\n    def method(self):\\n        print(\"this is the child . class\")\\n    \\n    \\nclass Grandchild(Child):\\n    global class_num\\n    \\n    def __init__(self):\\n        pass\\n    \\n    def method(self):\\n        print(\"this is the grandchild class\")\\n        \\n        \\n        \\n    ',\n",
       " '_i127': 'pt=Grandchild',\n",
       " 'pt': <__main__.Grandchild at 0x1096d2438>,\n",
       " '_i128': \"pt=Grandchild('ashutosh')\",\n",
       " '_i129': 'pt=Grandchild()',\n",
       " '_i130': 'pt=Grandchild()\\npt.method()',\n",
       " '_i131': 'pt=Grandchild()\\npt.method()\\npt.count()',\n",
       " '_i132': 'class_num=0\\nclass Parent():\\n    global class_num\\n    \\n    def __init__(self,name):\\n        self.name=name\\n        pass\\n    \\n    def method(self):\\n        print(f\"this is the parent class {self.name}\")\\n    \\n    def count(self):\\n        class_num +=1\\n        print(class_num)\\n\\nclass Child(Parent):\\n    global class_num\\n    \\n    def __init__(self):\\n        pass\\n    \\n    def method(self):\\n        print(\"this is the child . class\")\\n    \\n    \\nclass Grandchild(Child):\\n    global class_num\\n    \\n    def __init__(self):\\n        pass\\n    \\n    def method(self):\\n        print(\"this is the grandchild class\")\\n        \\n        \\n        \\n    ',\n",
       " 'class_num': 0,\n",
       " '_i133': 'pt=Grandchild()\\npt.method()\\npt.count()',\n",
       " '_i134': 'name=\\'ashu\\'\\nprint(f\"this is the {name}\")',\n",
       " '_i135': 'isglobal(class_num)',\n",
       " '_i136': 'global(class_num)',\n",
       " '_i137': 'global(\"class_num\")',\n",
       " '_i138': 'isglobal(\"class_num\")',\n",
       " '_i139': 'pt=Grandchild()\\npt.method()\\npt.count\\nisglobal(class_num)',\n",
       " '_i140': 'pt=Grandchild()\\npt.method()\\npt.count\\nglobals(class_num)',\n",
       " '_i141': 'pt=Grandchild()\\npt.method()\\npt.count()',\n",
       " '_i142': 'globals(count_num)',\n",
       " '_i143': 'globals(class_num)',\n",
       " '_i144': 'globals()'}"
      ]
     },
     "execution_count": 144,
     "metadata": {},
     "output_type": "execute_result"
    }
   ],
   "source": [
    "globals()"
   ]
  },
  {
   "cell_type": "code",
   "execution_count": 167,
   "metadata": {},
   "outputs": [],
   "source": [
    "class Cutter():\n",
    "    __counter=0\n",
    "\n",
    "   \n",
    "    def count(self):\n",
    "        self.__counter +=1\n",
    "        print(self.__counter)\n",
    "        \n",
    "      "
   ]
  },
  {
   "cell_type": "code",
   "execution_count": 169,
   "metadata": {},
   "outputs": [
    {
     "name": "stdout",
     "output_type": "stream",
     "text": [
      "1\n",
      "<__main__.Cutter object at 0x1097252b0>\n"
     ]
    }
   ],
   "source": [
    "countr=Cutter()\n",
    "countr.count()\n",
    "print(countr)"
   ]
  },
  {
   "cell_type": "code",
   "execution_count": 6,
   "metadata": {},
   "outputs": [],
   "source": [
    "def count(args1,args2,*args,**kwargs):\n",
    "    print(args)\n",
    "    print(kwargs)"
   ]
  },
  {
   "cell_type": "code",
   "execution_count": null,
   "metadata": {},
   "outputs": [],
   "source": []
  },
  {
   "cell_type": "code",
   "execution_count": 18,
   "metadata": {},
   "outputs": [
    {
     "ename": "SyntaxError",
     "evalue": "positional argument follows keyword argument (<ipython-input-18-324ed599b6e7>, line 1)",
     "output_type": "error",
     "traceback": [
      "\u001b[0;36m  File \u001b[0;32m\"<ipython-input-18-324ed599b6e7>\"\u001b[0;36m, line \u001b[0;32m1\u001b[0m\n\u001b[0;31m    count(args1='asd',args2='98','asfy')\u001b[0m\n\u001b[0m                                ^\u001b[0m\n\u001b[0;31mSyntaxError\u001b[0m\u001b[0;31m:\u001b[0m positional argument follows keyword argument\n"
     ]
    }
   ],
   "source": [
    "count(args1='asd',args2='98','asfy')"
   ]
  },
  {
   "cell_type": "code",
   "execution_count": 19,
   "metadata": {},
   "outputs": [
    {
     "name": "stdout",
     "output_type": "stream",
     "text": [
      "Collecting sys\n",
      "\u001b[31m  ERROR: Could not find a version that satisfies the requirement sys (from versions: none)\u001b[0m\n",
      "\u001b[31mERROR: No matching distribution found for sys\u001b[0m\n"
     ]
    }
   ],
   "source": [
    "! pip install sys\n"
   ]
  },
  {
   "cell_type": "code",
   "execution_count": 20,
   "metadata": {},
   "outputs": [
    {
     "name": "stdout",
     "output_type": "stream",
     "text": [
      "Collecting Tar.file\n",
      "\u001b[31m  ERROR: Could not find a version that satisfies the requirement Tar.file (from versions: none)\u001b[0m\n",
      "\u001b[31mERROR: No matching distribution found for Tar.file\u001b[0m\n"
     ]
    }
   ],
   "source": [
    "!pip install Tar.file"
   ]
  },
  {
   "cell_type": "code",
   "execution_count": 21,
   "metadata": {},
   "outputs": [
    {
     "name": "stdout",
     "output_type": "stream",
     "text": [
      "Requirement already satisfied: pylint in /anaconda3/lib/python3.7/site-packages (2.3.1)\n",
      "Requirement already satisfied: astroid<3,>=2.2.0 in /anaconda3/lib/python3.7/site-packages (from pylint) (2.2.5)\n",
      "Requirement already satisfied: isort<5,>=4.2.5 in /anaconda3/lib/python3.7/site-packages (from pylint) (4.3.21)\n",
      "Requirement already satisfied: mccabe<0.7,>=0.6 in /anaconda3/lib/python3.7/site-packages (from pylint) (0.6.1)\n",
      "Requirement already satisfied: typed-ast>=1.3.0; implementation_name == \"cpython\" in /anaconda3/lib/python3.7/site-packages (from astroid<3,>=2.2.0->pylint) (1.4.0)\n",
      "Requirement already satisfied: lazy-object-proxy in /anaconda3/lib/python3.7/site-packages (from astroid<3,>=2.2.0->pylint) (1.4.1)\n",
      "Requirement already satisfied: wrapt in /anaconda3/lib/python3.7/site-packages (from astroid<3,>=2.2.0->pylint) (1.11.2)\n",
      "Requirement already satisfied: six in /anaconda3/lib/python3.7/site-packages (from astroid<3,>=2.2.0->pylint) (1.12.0)\n"
     ]
    }
   ],
   "source": [
    "! pip install pylint"
   ]
  },
  {
   "cell_type": "code",
   "execution_count": 22,
   "metadata": {},
   "outputs": [
    {
     "name": "stdout",
     "output_type": "stream",
     "text": [
      "Writing simple.py\n"
     ]
    }
   ],
   "source": [
    "%%writefile simple.py\n",
    "def func():\n",
    "    a=1\n",
    "    b=2\n",
    "    print(a)\n",
    "    print(B)"
   ]
  },
  {
   "cell_type": "code",
   "execution_count": 23,
   "metadata": {},
   "outputs": [
    {
     "name": "stdout",
     "output_type": "stream",
     "text": [
      "************* Module simple\n",
      "simple.py:2:5: C0326: Exactly one space required around assignment\n",
      "    a=1\n",
      "     ^ (bad-whitespace)\n",
      "simple.py:3:5: C0326: Exactly one space required around assignment\n",
      "    b=2\n",
      "     ^ (bad-whitespace)\n",
      "simple.py:1:0: C0111: Missing module docstring (missing-docstring)\n",
      "simple.py:1:0: C0111: Missing function docstring (missing-docstring)\n",
      "simple.py:2:4: C0103: Variable name \"a\" doesn't conform to snake_case naming style (invalid-name)\n",
      "simple.py:3:4: C0103: Variable name \"b\" doesn't conform to snake_case naming style (invalid-name)\n",
      "simple.py:5:10: E0602: Undefined variable 'B' (undefined-variable)\n",
      "simple.py:3:4: W0612: Unused variable 'b' (unused-variable)\n",
      "\n",
      "-------------------------------------\n",
      "Your code has been rated at -14.00/10\n",
      "\n"
     ]
    }
   ],
   "source": [
    "! pylint simple.py"
   ]
  },
  {
   "cell_type": "code",
   "execution_count": 1,
   "metadata": {},
   "outputs": [],
   "source": [
    "class Simple():\n",
    "    \n",
    "    def __init__(self,name):\n",
    "        self.name=name\n",
    "        \n",
    "    def __str__(self):\n",
    "        print(\"I am str in simple \\n\")\n",
    "        return \"and my name is\" +self.name\n",
    "        \n",
    "    "
   ]
  },
  {
   "cell_type": "code",
   "execution_count": 3,
   "metadata": {},
   "outputs": [],
   "source": [
    "obj=Simple(\"ashu\")"
   ]
  },
  {
   "cell_type": "code",
   "execution_count": 4,
   "metadata": {},
   "outputs": [
    {
     "name": "stdout",
     "output_type": "stream",
     "text": [
      "I am str in simple \n",
      "\n",
      "and my name isashu\n"
     ]
    }
   ],
   "source": [
    "print(obj)"
   ]
  },
  {
   "cell_type": "code",
   "execution_count": 3,
   "metadata": {},
   "outputs": [
    {
     "name": "stdout",
     "output_type": "stream",
     "text": [
      "\t\t the death of the Alien\n",
      "The player blasts an enemy.\n",
      "\n",
      "The alien gasps and says, 'Oh, this is it. This is the big one. \n",
      " Yes, it's getting dark now. Tell my 1.6 million larvae that I loved them... \n",
      "Good-bye, cruel universe.'\n"
     ]
    }
   ],
   "source": [
    "class Player():\n",
    "    \"\"\"the player in the shooter game\n",
    "    \"\"\"\n",
    "    def blast(self,enemy):\n",
    "        print(\"The player blasts an enemy.\\n\")\n",
    "        enemy.die()\n",
    "        \n",
    "class Alien():\n",
    "    \"\"\"Alien in the shooter game\n",
    "    \"\"\"\n",
    "    def die(self):\n",
    "        print(\"The alien gasps and says, 'Oh, this is it. This is the big one. \\n Yes, it's getting dark now. Tell my 1.6 million larvae that I loved them... \\n\" \n",
    "              \"Good-bye, cruel universe.'\")\n",
    "        \n",
    "#main program\n",
    "print(\"\\t\\t the death of the Alien\")\n",
    "\n",
    "hero=Player()\n",
    "invader=Alien()\n",
    "hero.blast(invader)"
   ]
  },
  {
   "cell_type": "code",
   "execution_count": 5,
   "metadata": {},
   "outputs": [
    {
     "ename": "ImportError",
     "evalue": "cannot import name 'counter' from 'collections' (//anaconda3/lib/python3.7/collections/__init__.py)",
     "output_type": "error",
     "traceback": [
      "\u001b[0;31m---------------------------------------------------------------------------\u001b[0m",
      "\u001b[0;31mImportError\u001b[0m                               Traceback (most recent call last)",
      "\u001b[0;32m<ipython-input-5-b165e3e1ba30>\u001b[0m in \u001b[0;36m<module>\u001b[0;34m\u001b[0m\n\u001b[0;32m----> 1\u001b[0;31m \u001b[0;32mfrom\u001b[0m \u001b[0mcollections\u001b[0m \u001b[0;32mimport\u001b[0m \u001b[0mcounter\u001b[0m\u001b[0;34m\u001b[0m\u001b[0;34m\u001b[0m\u001b[0m\n\u001b[0m",
      "\u001b[0;31mImportError\u001b[0m: cannot import name 'counter' from 'collections' (//anaconda3/lib/python3.7/collections/__init__.py)"
     ]
    }
   ],
   "source": [
    "from collections import counter"
   ]
  },
  {
   "cell_type": "code",
   "execution_count": 6,
   "metadata": {},
   "outputs": [
    {
     "name": "stdout",
     "output_type": "stream",
     "text": [
      "Collecting collections\n",
      "\u001b[31m  ERROR: Could not find a version that satisfies the requirement collections (from versions: none)\u001b[0m\n",
      "\u001b[31mERROR: No matching distribution found for collections\u001b[0m\n"
     ]
    }
   ],
   "source": [
    "!pip install collections\n"
   ]
  },
  {
   "cell_type": "code",
   "execution_count": 7,
   "metadata": {},
   "outputs": [],
   "source": [
    "import collections\n"
   ]
  },
  {
   "cell_type": "code",
   "execution_count": 8,
   "metadata": {},
   "outputs": [
    {
     "ename": "ImportError",
     "evalue": "cannot import name 'counter' from 'collections' (//anaconda3/lib/python3.7/collections/__init__.py)",
     "output_type": "error",
     "traceback": [
      "\u001b[0;31m---------------------------------------------------------------------------\u001b[0m",
      "\u001b[0;31mImportError\u001b[0m                               Traceback (most recent call last)",
      "\u001b[0;32m<ipython-input-8-b165e3e1ba30>\u001b[0m in \u001b[0;36m<module>\u001b[0;34m\u001b[0m\n\u001b[0;32m----> 1\u001b[0;31m \u001b[0;32mfrom\u001b[0m \u001b[0mcollections\u001b[0m \u001b[0;32mimport\u001b[0m \u001b[0mcounter\u001b[0m\u001b[0;34m\u001b[0m\u001b[0;34m\u001b[0m\u001b[0m\n\u001b[0m",
      "\u001b[0;31mImportError\u001b[0m: cannot import name 'counter' from 'collections' (//anaconda3/lib/python3.7/collections/__init__.py)"
     ]
    }
   ],
   "source": [
    "from collections import counter"
   ]
  },
  {
   "cell_type": "code",
   "execution_count": 14,
   "metadata": {},
   "outputs": [
    {
     "ename": "AttributeError",
     "evalue": "module 'collections' has no attribute 'counter'",
     "output_type": "error",
     "traceback": [
      "\u001b[0;31m---------------------------------------------------------------------------\u001b[0m",
      "\u001b[0;31mAttributeError\u001b[0m                            Traceback (most recent call last)",
      "\u001b[0;32m<ipython-input-14-23a105677941>\u001b[0m in \u001b[0;36m<module>\u001b[0;34m\u001b[0m\n\u001b[0;32m----> 1\u001b[0;31m \u001b[0mprint\u001b[0m\u001b[0;34m(\u001b[0m\u001b[0mtype\u001b[0m\u001b[0;34m(\u001b[0m\u001b[0mcollections\u001b[0m\u001b[0;34m.\u001b[0m\u001b[0mcounter\u001b[0m\u001b[0;34m(\u001b[0m\u001b[0;34m)\u001b[0m\u001b[0;34m)\u001b[0m\u001b[0;34m)\u001b[0m\u001b[0;34m\u001b[0m\u001b[0;34m\u001b[0m\u001b[0m\n\u001b[0m",
      "\u001b[0;32m//anaconda3/lib/python3.7/collections/__init__.py\u001b[0m in \u001b[0;36m__getattr__\u001b[0;34m(name)\u001b[0m\n\u001b[1;32m     53\u001b[0m         \u001b[0mglobals\u001b[0m\u001b[0;34m(\u001b[0m\u001b[0;34m)\u001b[0m\u001b[0;34m[\u001b[0m\u001b[0mname\u001b[0m\u001b[0;34m]\u001b[0m \u001b[0;34m=\u001b[0m \u001b[0mobj\u001b[0m\u001b[0;34m\u001b[0m\u001b[0;34m\u001b[0m\u001b[0m\n\u001b[1;32m     54\u001b[0m         \u001b[0;32mreturn\u001b[0m \u001b[0mobj\u001b[0m\u001b[0;34m\u001b[0m\u001b[0;34m\u001b[0m\u001b[0m\n\u001b[0;32m---> 55\u001b[0;31m     \u001b[0;32mraise\u001b[0m \u001b[0mAttributeError\u001b[0m\u001b[0;34m(\u001b[0m\u001b[0;34mf'module {__name__!r} has no attribute {name!r}'\u001b[0m\u001b[0;34m)\u001b[0m\u001b[0;34m\u001b[0m\u001b[0;34m\u001b[0m\u001b[0m\n\u001b[0m\u001b[1;32m     56\u001b[0m \u001b[0;34m\u001b[0m\u001b[0m\n\u001b[1;32m     57\u001b[0m \u001b[0;31m################################################################################\u001b[0m\u001b[0;34m\u001b[0m\u001b[0;34m\u001b[0m\u001b[0;34m\u001b[0m\u001b[0m\n",
      "\u001b[0;31mAttributeError\u001b[0m: module 'collections' has no attribute 'counter'"
     ]
    }
   ],
   "source": [
    "print(type(collections.counter()))"
   ]
  },
  {
   "cell_type": "code",
   "execution_count": 4,
   "metadata": {},
   "outputs": [],
   "source": [
    "l=[1,112,3,3,4,445,5,5,5,5,5,6,7,7,]"
   ]
  },
  {
   "cell_type": "code",
   "execution_count": 5,
   "metadata": {},
   "outputs": [
    {
     "ename": "NameError",
     "evalue": "name 'counter' is not defined",
     "output_type": "error",
     "traceback": [
      "\u001b[0;31m---------------------------------------------------------------------------\u001b[0m",
      "\u001b[0;31mNameError\u001b[0m                                 Traceback (most recent call last)",
      "\u001b[0;32m<ipython-input-5-6fcf4d2b0900>\u001b[0m in \u001b[0;36m<module>\u001b[0;34m\u001b[0m\n\u001b[0;32m----> 1\u001b[0;31m \u001b[0mcounter\u001b[0m\u001b[0;34m(\u001b[0m\u001b[0ml\u001b[0m\u001b[0;34m)\u001b[0m\u001b[0;34m\u001b[0m\u001b[0;34m\u001b[0m\u001b[0m\n\u001b[0m",
      "\u001b[0;31mNameError\u001b[0m: name 'counter' is not defined"
     ]
    }
   ],
   "source": [
    "counter(l)"
   ]
  },
  {
   "cell_type": "code",
   "execution_count": 23,
   "metadata": {},
   "outputs": [],
   "source": [
    "from collections import Counter\n",
    "d=Counter(l)"
   ]
  },
  {
   "cell_type": "code",
   "execution_count": 24,
   "metadata": {},
   "outputs": [
    {
     "data": {
      "text/plain": [
       "[(5, 5), (3, 2)]"
      ]
     },
     "execution_count": 24,
     "metadata": {},
     "output_type": "execute_result"
    }
   ],
   "source": [
    "d.most_common(2)"
   ]
  },
  {
   "cell_type": "code",
   "execution_count": 25,
   "metadata": {},
   "outputs": [
    {
     "data": {
      "text/plain": [
       "dict_items([(1, 1), (112, 1), (3, 2), (4, 1), (445, 1), (5, 5), (6, 1), (7, 2)])"
      ]
     },
     "execution_count": 25,
     "metadata": {},
     "output_type": "execute_result"
    }
   ],
   "source": [
    "d.items()"
   ]
  },
  {
   "cell_type": "code",
   "execution_count": 26,
   "metadata": {},
   "outputs": [],
   "source": [
    "d+=Counter()"
   ]
  },
  {
   "cell_type": "code",
   "execution_count": 27,
   "metadata": {},
   "outputs": [
    {
     "data": {
      "text/plain": [
       "Counter({1: 1, 112: 1, 3: 2, 4: 1, 445: 1, 5: 5, 6: 1, 7: 2})"
      ]
     },
     "execution_count": 27,
     "metadata": {},
     "output_type": "execute_result"
    }
   ],
   "source": [
    "d"
   ]
  },
  {
   "cell_type": "code",
   "execution_count": 30,
   "metadata": {},
   "outputs": [],
   "source": [
    "del d[112]"
   ]
  },
  {
   "cell_type": "code",
   "execution_count": 32,
   "metadata": {},
   "outputs": [],
   "source": [
    "del d[7]"
   ]
  },
  {
   "cell_type": "code",
   "execution_count": 33,
   "metadata": {},
   "outputs": [
    {
     "data": {
      "text/plain": [
       "Counter({1: 1, 3: 2, 4: 1, 445: 1, 5: 5, 6: 1})"
      ]
     },
     "execution_count": 33,
     "metadata": {},
     "output_type": "execute_result"
    }
   ],
   "source": [
    "d"
   ]
  },
  {
   "cell_type": "code",
   "execution_count": 35,
   "metadata": {},
   "outputs": [
    {
     "data": {
      "text/plain": [
       "11"
      ]
     },
     "execution_count": 35,
     "metadata": {},
     "output_type": "execute_result"
    }
   ],
   "source": [
    "sum(d.values())"
   ]
  },
  {
   "cell_type": "code",
   "execution_count": 36,
   "metadata": {},
   "outputs": [
    {
     "data": {
      "text/plain": [
       "[1, 3, 4, 445, 5, 6]"
      ]
     },
     "execution_count": 36,
     "metadata": {},
     "output_type": "execute_result"
    }
   ],
   "source": [
    "list(d)"
   ]
  },
  {
   "cell_type": "code",
   "execution_count": 37,
   "metadata": {},
   "outputs": [
    {
     "data": {
      "text/plain": [
       "{1, 3, 4, 5, 6, 445}"
      ]
     },
     "execution_count": 37,
     "metadata": {},
     "output_type": "execute_result"
    }
   ],
   "source": [
    "set(d)"
   ]
  },
  {
   "cell_type": "code",
   "execution_count": 41,
   "metadata": {},
   "outputs": [
    {
     "data": {
      "text/plain": [
       "{1: 1, 3: 2, 4: 1, 445: 1, 5: 5, 6: 1}"
      ]
     },
     "execution_count": 41,
     "metadata": {},
     "output_type": "execute_result"
    }
   ],
   "source": [
    "dict(d)"
   ]
  },
  {
   "cell_type": "code",
   "execution_count": 47,
   "metadata": {
    "scrolled": true
   },
   "outputs": [
    {
     "data": {
      "text/plain": [
       "[7, 7, 6, 5, 5, 5, 5, 5, 445, 4, 3, 3, 112, 1]"
      ]
     },
     "execution_count": 47,
     "metadata": {},
     "output_type": "execute_result"
    }
   ],
   "source": [
    "list(reversed(l))"
   ]
  },
  {
   "cell_type": "code",
   "execution_count": 48,
   "metadata": {},
   "outputs": [],
   "source": [
    "from collections import deque"
   ]
  },
  {
   "cell_type": "code",
   "execution_count": 49,
   "metadata": {},
   "outputs": [],
   "source": [
    "d = deque('acjnkasf')"
   ]
  },
  {
   "cell_type": "code",
   "execution_count": 51,
   "metadata": {},
   "outputs": [
    {
     "data": {
      "text/plain": [
       "'a'"
      ]
     },
     "execution_count": 51,
     "metadata": {},
     "output_type": "execute_result"
    }
   ],
   "source": [
    "d.popleft()"
   ]
  },
  {
   "cell_type": "code",
   "execution_count": 53,
   "metadata": {},
   "outputs": [],
   "source": [
    "d.append(d.popleft())"
   ]
  },
  {
   "cell_type": "code",
   "execution_count": 65,
   "metadata": {},
   "outputs": [],
   "source": [
    "d.rotate(-4)"
   ]
  },
  {
   "cell_type": "code",
   "execution_count": 67,
   "metadata": {},
   "outputs": [
    {
     "ename": "AttributeError",
     "evalue": "'collections.deque' object has no attribute 'reversed'",
     "output_type": "error",
     "traceback": [
      "\u001b[0;31m---------------------------------------------------------------------------\u001b[0m",
      "\u001b[0;31mAttributeError\u001b[0m                            Traceback (most recent call last)",
      "\u001b[0;32m<ipython-input-67-e467aa4ee7e7>\u001b[0m in \u001b[0;36m<module>\u001b[0;34m\u001b[0m\n\u001b[0;32m----> 1\u001b[0;31m \u001b[0mdeque\u001b[0m\u001b[0;34m(\u001b[0m\u001b[0md\u001b[0m\u001b[0;34m.\u001b[0m\u001b[0mreversed\u001b[0m\u001b[0;34m(\u001b[0m\u001b[0;34m)\u001b[0m\u001b[0;34m)\u001b[0m\u001b[0;34m\u001b[0m\u001b[0;34m\u001b[0m\u001b[0m\n\u001b[0m",
      "\u001b[0;31mAttributeError\u001b[0m: 'collections.deque' object has no attribute 'reversed'"
     ]
    }
   ],
   "source": [
    "deque(d.reversed())"
   ]
  },
  {
   "cell_type": "code",
   "execution_count": 69,
   "metadata": {},
   "outputs": [],
   "source": [
    "from collections import defaultdict"
   ]
  },
  {
   "cell_type": "code",
   "execution_count": 73,
   "metadata": {},
   "outputs": [],
   "source": [
    "d=defaultdict(object)"
   ]
  },
  {
   "cell_type": "code",
   "execution_count": 75,
   "metadata": {},
   "outputs": [
    {
     "data": {
      "text/plain": [
       "<object at 0x103eaeff0>"
      ]
     },
     "execution_count": 75,
     "metadata": {},
     "output_type": "execute_result"
    }
   ],
   "source": [
    "d['ashu']"
   ]
  },
  {
   "cell_type": "code",
   "execution_count": 77,
   "metadata": {},
   "outputs": [],
   "source": [
    "d[0]=1"
   ]
  },
  {
   "cell_type": "code",
   "execution_count": 81,
   "metadata": {},
   "outputs": [
    {
     "data": {
      "text/plain": [
       "<object at 0x105b5f030>"
      ]
     },
     "execution_count": 81,
     "metadata": {},
     "output_type": "execute_result"
    }
   ],
   "source": [
    "d.__missing__('ashu')"
   ]
  },
  {
   "cell_type": "code",
   "execution_count": 87,
   "metadata": {},
   "outputs": [
    {
     "data": {
      "text/plain": [
       "dict_values([<object object at 0x105b5f030>, 1])"
      ]
     },
     "execution_count": 87,
     "metadata": {},
     "output_type": "execute_result"
    }
   ],
   "source": [
    "d.values()"
   ]
  },
  {
   "cell_type": "code",
   "execution_count": 133,
   "metadata": {},
   "outputs": [],
   "source": [
    "d1={}\n",
    "d1['a']=1\n",
    "d1['b']=2\n",
    "d1['c']=3\n",
    "d1['d']=4\n",
    "\n",
    "d2={}\n",
    "d2['c']=3\n",
    "d2['b']=2\n",
    "d2['a']=1\n",
    "d2['d']=4\n",
    " \n"
   ]
  },
  {
   "cell_type": "code",
   "execution_count": 134,
   "metadata": {},
   "outputs": [
    {
     "data": {
      "text/plain": [
       "True"
      ]
     },
     "execution_count": 134,
     "metadata": {},
     "output_type": "execute_result"
    }
   ],
   "source": [
    "d1==d2\n"
   ]
  },
  {
   "cell_type": "code",
   "execution_count": 117,
   "metadata": {},
   "outputs": [],
   "source": [
    "from collections import OrderedDict"
   ]
  },
  {
   "cell_type": "code",
   "execution_count": 118,
   "metadata": {},
   "outputs": [],
   "source": [
    "d1=OrderedDict()\n",
    "d2=OrderedDict()"
   ]
  },
  {
   "cell_type": "code",
   "execution_count": 119,
   "metadata": {},
   "outputs": [
    {
     "data": {
      "text/plain": [
       "True"
      ]
     },
     "execution_count": 119,
     "metadata": {},
     "output_type": "execute_result"
    }
   ],
   "source": [
    "d1==d2"
   ]
  },
  {
   "cell_type": "code",
   "execution_count": 131,
   "metadata": {},
   "outputs": [],
   "source": [
    "dict1=OrderedDict({'A':'a','B':'b'})\n",
    "dict2=OrderedDict({'A':'a','B':'b'})"
   ]
  },
  {
   "cell_type": "code",
   "execution_count": 132,
   "metadata": {},
   "outputs": [
    {
     "data": {
      "text/plain": [
       "True"
      ]
     },
     "execution_count": 132,
     "metadata": {},
     "output_type": "execute_result"
    }
   ],
   "source": [
    "dict1==dict2"
   ]
  },
  {
   "cell_type": "code",
   "execution_count": 135,
   "metadata": {},
   "outputs": [],
   "source": [
    "s = 'mississippi'\n",
    ">>> d = defaultdict(int)\n",
    ">>> for k in s:\n",
    "...     d[k] += 1"
   ]
  },
  {
   "cell_type": "code",
   "execution_count": 136,
   "metadata": {},
   "outputs": [
    {
     "data": {
      "text/plain": [
       "dict_items([('m', 1), ('i', 4), ('s', 4), ('p', 2)])"
      ]
     },
     "execution_count": 136,
     "metadata": {},
     "output_type": "execute_result"
    }
   ],
   "source": [
    "d.items()"
   ]
  },
  {
   "cell_type": "code",
   "execution_count": 137,
   "metadata": {},
   "outputs": [
    {
     "name": "stdout",
     "output_type": "stream",
     "text": [
      "Current Time = 22:02:50\n"
     ]
    }
   ],
   "source": [
    "from datetime import datetime\n",
    "now = datetime.now()\n",
    "current_time = now.strftime(\"%H:%M:%S\")\n",
    "print(\"Current Time =\", current_time)"
   ]
  },
  {
   "cell_type": "code",
   "execution_count": 138,
   "metadata": {},
   "outputs": [
    {
     "name": "stdout",
     "output_type": "stream",
     "text": [
      "current_time : 22:05:31\n"
     ]
    }
   ],
   "source": [
    "from datetime import datetime\n",
    "now =datetime.now()\n",
    "current_time=now.strftime(\"%H:%M:%S\")\n",
    "print(\"current_time :\",current_time)"
   ]
  },
  {
   "cell_type": "code",
   "execution_count": 147,
   "metadata": {},
   "outputs": [
    {
     "ename": "AttributeError",
     "evalue": "'function' object has no attribute 'strftime'",
     "output_type": "error",
     "traceback": [
      "\u001b[0;31m---------------------------------------------------------------------------\u001b[0m",
      "\u001b[0;31mAttributeError\u001b[0m                            Traceback (most recent call last)",
      "\u001b[0;32m<ipython-input-147-04b31b61e96e>\u001b[0m in \u001b[0;36m<module>\u001b[0;34m\u001b[0m\n\u001b[1;32m      1\u001b[0m \u001b[0;32mimport\u001b[0m \u001b[0mdatetime\u001b[0m\u001b[0;34m\u001b[0m\u001b[0;34m\u001b[0m\u001b[0m\n\u001b[0;32m----> 2\u001b[0;31m \u001b[0mnow\u001b[0m\u001b[0;34m=\u001b[0m\u001b[0;34m(\u001b[0m\u001b[0;32mlambda\u001b[0m \u001b[0mcurrent_time\u001b[0m\u001b[0;34m=\u001b[0m\u001b[0mnow\u001b[0m\u001b[0;34m.\u001b[0m\u001b[0mstrftime\u001b[0m\u001b[0;34m(\u001b[0m\u001b[0;34m\"%H:%M:%S\"\u001b[0m\u001b[0;34m)\u001b[0m\u001b[0;34m:\u001b[0m \u001b[0mprint\u001b[0m\u001b[0;34m(\u001b[0m\u001b[0mcurrent_time\u001b[0m\u001b[0;34m)\u001b[0m\u001b[0;34m)\u001b[0m\u001b[0;34m\u001b[0m\u001b[0;34m\u001b[0m\u001b[0m\n\u001b[0m",
      "\u001b[0;31mAttributeError\u001b[0m: 'function' object has no attribute 'strftime'"
     ]
    }
   ],
   "source": [
    "import datetime\n",
    "now=(lambda current_time=now.strftime(\"%H:%M:%S\"): print(current_time))"
   ]
  },
  {
   "cell_type": "code",
   "execution_count": 144,
   "metadata": {},
   "outputs": [
    {
     "name": "stdout",
     "output_type": "stream",
     "text": [
      "22:05:31\n",
      "None\n"
     ]
    }
   ],
   "source": [
    "print(t())"
   ]
  },
  {
   "cell_type": "code",
   "execution_count": 148,
   "metadata": {},
   "outputs": [
    {
     "ename": "AttributeError",
     "evalue": "'function' object has no attribute 'strftime'",
     "output_type": "error",
     "traceback": [
      "\u001b[0;31m---------------------------------------------------------------------------\u001b[0m",
      "\u001b[0;31mAttributeError\u001b[0m                            Traceback (most recent call last)",
      "\u001b[0;32m<ipython-input-148-380c994997b4>\u001b[0m in \u001b[0;36m<module>\u001b[0;34m\u001b[0m\n\u001b[1;32m      1\u001b[0m \u001b[0;32mimport\u001b[0m \u001b[0mdatetime\u001b[0m\u001b[0;34m\u001b[0m\u001b[0;34m\u001b[0m\u001b[0m\n\u001b[0;32m----> 2\u001b[0;31m \u001b[0mnow\u001b[0m\u001b[0;34m=\u001b[0m\u001b[0;34m(\u001b[0m\u001b[0;32mlambda\u001b[0m \u001b[0mpresent_time\u001b[0m\u001b[0;34m=\u001b[0m\u001b[0mnow\u001b[0m\u001b[0;34m.\u001b[0m\u001b[0mstrftime\u001b[0m\u001b[0;34m(\u001b[0m\u001b[0;34m\"%H:%M:%S\"\u001b[0m\u001b[0;34m)\u001b[0m\u001b[0;34m:\u001b[0m\u001b[0mprint\u001b[0m\u001b[0;34m(\u001b[0m\u001b[0mpresent_time\u001b[0m\u001b[0;34m)\u001b[0m\u001b[0;34m)\u001b[0m\u001b[0;34m\u001b[0m\u001b[0;34m\u001b[0m\u001b[0m\n\u001b[0m",
      "\u001b[0;31mAttributeError\u001b[0m: 'function' object has no attribute 'strftime'"
     ]
    }
   ],
   "source": [
    "import datetime\n",
    "now=(lambda present_time=now.strftime(\"%H:%M:%S\"):print(present_time))"
   ]
  },
  {
   "cell_type": "code",
   "execution_count": 149,
   "metadata": {},
   "outputs": [
    {
     "name": "stdout",
     "output_type": "stream",
     "text": [
      "now = 22:13:28.629292\n",
      "type(now) = <class 'datetime.time'>\n"
     ]
    }
   ],
   "source": [
    "from datetime import datetime\n",
    "now = datetime.now().time() # time object\n",
    "print(\"now =\", now)\n",
    "print(\"type(now) =\", type(now))"
   ]
  },
  {
   "cell_type": "code",
   "execution_count": 152,
   "metadata": {},
   "outputs": [
    {
     "name": "stdout",
     "output_type": "stream",
     "text": [
      "Collecting namedtuples\n",
      "\u001b[31m  ERROR: Could not find a version that satisfies the requirement namedtuples (from versions: none)\u001b[0m\n",
      "\u001b[31mERROR: No matching distribution found for namedtuples\u001b[0m\n"
     ]
    }
   ],
   "source": [
    "!pip install namedtuples\n"
   ]
  },
  {
   "cell_type": "code",
   "execution_count": 153,
   "metadata": {},
   "outputs": [],
   "source": [
    "from collections import namedtuple"
   ]
  },
  {
   "cell_type": "code",
   "execution_count": 154,
   "metadata": {},
   "outputs": [],
   "source": [
    "dog=namedtuple(\"Dog\",\"age name colour\")"
   ]
  },
  {
   "cell_type": "code",
   "execution_count": 156,
   "metadata": {},
   "outputs": [],
   "source": [
    "sam=dog(age=5,name='rocky',colour=\"reddishbrown\")"
   ]
  },
  {
   "cell_type": "code",
   "execution_count": 159,
   "metadata": {},
   "outputs": [
    {
     "data": {
      "text/plain": [
       "'rocky'"
      ]
     },
     "execution_count": 159,
     "metadata": {},
     "output_type": "execute_result"
    }
   ],
   "source": [
    "sam.age\n",
    "sam.colour\n",
    "sam.name\n"
   ]
  },
  {
   "cell_type": "code",
   "execution_count": 160,
   "metadata": {},
   "outputs": [
    {
     "data": {
      "text/plain": [
       "'reddishbrown'"
      ]
     },
     "execution_count": 160,
     "metadata": {},
     "output_type": "execute_result"
    }
   ],
   "source": [
    "sam.colour\n"
   ]
  },
  {
   "cell_type": "code",
   "execution_count": 181,
   "metadata": {},
   "outputs": [
    {
     "ename": "AttributeError",
     "evalue": "'Dog' object has no attribute 'hair'",
     "output_type": "error",
     "traceback": [
      "\u001b[0;31m---------------------------------------------------------------------------\u001b[0m",
      "\u001b[0;31mAttributeError\u001b[0m                            Traceback (most recent call last)",
      "\u001b[0;32m<ipython-input-181-2e9de8736c92>\u001b[0m in \u001b[0;36m<module>\u001b[0;34m\u001b[0m\n\u001b[0;32m----> 1\u001b[0;31m \u001b[0msetattr\u001b[0m\u001b[0;34m(\u001b[0m\u001b[0mdog\u001b[0m\u001b[0;34m,\u001b[0m\u001b[0msam\u001b[0m\u001b[0;34m.\u001b[0m\u001b[0mhair\u001b[0m\u001b[0;34m,\u001b[0m\u001b[0;34m\"boosy\"\u001b[0m\u001b[0;34m)\u001b[0m\u001b[0;34m\u001b[0m\u001b[0;34m\u001b[0m\u001b[0m\n\u001b[0m",
      "\u001b[0;31mAttributeError\u001b[0m: 'Dog' object has no attribute 'hair'"
     ]
    }
   ],
   "source": [
    "setattr(dog,sam.hair,\"boosy\")\n"
   ]
  },
  {
   "cell_type": "code",
   "execution_count": 180,
   "metadata": {},
   "outputs": [
    {
     "data": {
      "text/plain": [
       "'rocky'"
      ]
     },
     "execution_count": 180,
     "metadata": {},
     "output_type": "execute_result"
    }
   ],
   "source": [
    "sam.name\n"
   ]
  },
  {
   "cell_type": "code",
   "execution_count": 191,
   "metadata": {},
   "outputs": [
    {
     "name": "stdout",
     "output_type": "stream",
     "text": [
      "Japan time: 02:21:49\n",
      "London time: 17:21:49\n"
     ]
    }
   ],
   "source": [
    "from datetime import datetime\n",
    "import pytz\n",
    "tz_Japan = pytz.timezone('Japan') \n",
    "datetime_Japan = datetime.now(tz_Japan)\n",
    "print(\"Japan time:\", datetime_Japan.strftime(\"%H:%M:%S\"))\n",
    "tz_London = pytz.timezone('Europe/London')\n",
    "datetime_London = datetime.now(tz_London)\n",
    "print(\"London time:\", datetime_London.strftime(\"%H:%M:%S\"))"
   ]
  },
  {
   "cell_type": "code",
   "execution_count": 185,
   "metadata": {},
   "outputs": [],
   "source": [
    "import pytz"
   ]
  },
  {
   "cell_type": "code",
   "execution_count": 190,
   "metadata": {},
   "outputs": [
    {
     "ename": "NameError",
     "evalue": "name 'tz_Japan' is not defined",
     "output_type": "error",
     "traceback": [
      "\u001b[0;31m---------------------------------------------------------------------------\u001b[0m",
      "\u001b[0;31mNameError\u001b[0m                                 Traceback (most recent call last)",
      "\u001b[0;32m<ipython-input-190-5fe6c2e715a5>\u001b[0m in \u001b[0;36m<module>\u001b[0;34m\u001b[0m\n\u001b[1;32m      1\u001b[0m \u001b[0;32mfrom\u001b[0m \u001b[0mdatetime\u001b[0m \u001b[0;32mimport\u001b[0m \u001b[0mdatetime\u001b[0m\u001b[0;34m\u001b[0m\u001b[0;34m\u001b[0m\u001b[0m\n\u001b[1;32m      2\u001b[0m \u001b[0mty_Japan\u001b[0m\u001b[0;34m=\u001b[0m\u001b[0mpytz\u001b[0m\u001b[0;34m.\u001b[0m\u001b[0mtimezone\u001b[0m\u001b[0;34m(\u001b[0m\u001b[0;34m'Japan'\u001b[0m\u001b[0;34m)\u001b[0m\u001b[0;34m\u001b[0m\u001b[0;34m\u001b[0m\u001b[0m\n\u001b[0;32m----> 3\u001b[0;31m \u001b[0mdatetime_Japan\u001b[0m\u001b[0;34m=\u001b[0m\u001b[0mdatetime\u001b[0m\u001b[0;34m.\u001b[0m\u001b[0mnow\u001b[0m\u001b[0;34m(\u001b[0m\u001b[0mtz_Japan\u001b[0m\u001b[0;34m)\u001b[0m\u001b[0;34m\u001b[0m\u001b[0;34m\u001b[0m\u001b[0m\n\u001b[0m\u001b[1;32m      4\u001b[0m \u001b[0mprint\u001b[0m\u001b[0;34m(\u001b[0m\u001b[0;34m\"timezone_Japan:\"\u001b[0m\u001b[0;34m,\u001b[0m\u001b[0mdatetime_Japan\u001b[0m\u001b[0;34m.\u001b[0m\u001b[0mstrftime\u001b[0m\u001b[0;34m(\u001b[0m\u001b[0;34m\"%H:%M:S\"\u001b[0m\u001b[0;34m)\u001b[0m\u001b[0;34m)\u001b[0m\u001b[0;34m\u001b[0m\u001b[0;34m\u001b[0m\u001b[0m\n",
      "\u001b[0;31mNameError\u001b[0m: name 'tz_Japan' is not defined"
     ]
    }
   ],
   "source": [
    "from datetime import datetime\n",
    "ty_Japan=pytz.timezone('Japan')\n",
    "datetime_Japan=datetime.now(tz_Japan)\n",
    "print(\"timezone_Japan:\",datetime_Japan.strftime(\"%H:%M:S\"))"
   ]
  },
  {
   "cell_type": "code",
   "execution_count": 193,
   "metadata": {},
   "outputs": [],
   "source": [
    "import pdb"
   ]
  },
  {
   "cell_type": "code",
   "execution_count": 198,
   "metadata": {},
   "outputs": [
    {
     "name": "stdout",
     "output_type": "stream",
     "text": [
      "13\n"
     ]
    },
    {
     "ename": "TypeError",
     "evalue": "runcall() missing 1 required positional argument: 'func'",
     "output_type": "error",
     "traceback": [
      "\u001b[0;31m---------------------------------------------------------------------------\u001b[0m",
      "\u001b[0;31mTypeError\u001b[0m                                 Traceback (most recent call last)",
      "\u001b[0;32m<ipython-input-198-f43897156087>\u001b[0m in \u001b[0;36m<module>\u001b[0;34m\u001b[0m\n\u001b[1;32m      6\u001b[0m \u001b[0mprint\u001b[0m\u001b[0;34m(\u001b[0m\u001b[0mresult1\u001b[0m\u001b[0;34m)\u001b[0m\u001b[0;34m\u001b[0m\u001b[0;34m\u001b[0m\u001b[0m\n\u001b[1;32m      7\u001b[0m \u001b[0;34m\u001b[0m\u001b[0m\n\u001b[0;32m----> 8\u001b[0;31m \u001b[0mpdb\u001b[0m\u001b[0;34m.\u001b[0m\u001b[0mruncall\u001b[0m\u001b[0;34m(\u001b[0m\u001b[0;34m)\u001b[0m\u001b[0;34m\u001b[0m\u001b[0;34m\u001b[0m\u001b[0m\n\u001b[0m\u001b[1;32m      9\u001b[0m \u001b[0mresult2\u001b[0m\u001b[0;34m=\u001b[0m\u001b[0mx\u001b[0m\u001b[0;34m+\u001b[0m\u001b[0mz\u001b[0m\u001b[0;34m\u001b[0m\u001b[0;34m\u001b[0m\u001b[0m\n\u001b[1;32m     10\u001b[0m \u001b[0mprint\u001b[0m\u001b[0;34m(\u001b[0m\u001b[0mresult2\u001b[0m\u001b[0;34m)\u001b[0m\u001b[0;34m\u001b[0m\u001b[0;34m\u001b[0m\u001b[0m\n",
      "\u001b[0;32m//anaconda3/lib/python3.7/pdb.py\u001b[0m in \u001b[0;36mruncall\u001b[0;34m(*args, **kwds)\u001b[0m\n\u001b[1;32m   1602\u001b[0m \u001b[0;34m\u001b[0m\u001b[0m\n\u001b[1;32m   1603\u001b[0m \u001b[0;32mdef\u001b[0m \u001b[0mruncall\u001b[0m\u001b[0;34m(\u001b[0m\u001b[0;34m*\u001b[0m\u001b[0margs\u001b[0m\u001b[0;34m,\u001b[0m \u001b[0;34m**\u001b[0m\u001b[0mkwds\u001b[0m\u001b[0;34m)\u001b[0m\u001b[0;34m:\u001b[0m\u001b[0;34m\u001b[0m\u001b[0;34m\u001b[0m\u001b[0m\n\u001b[0;32m-> 1604\u001b[0;31m     \u001b[0;32mreturn\u001b[0m \u001b[0mPdb\u001b[0m\u001b[0;34m(\u001b[0m\u001b[0;34m)\u001b[0m\u001b[0;34m.\u001b[0m\u001b[0mruncall\u001b[0m\u001b[0;34m(\u001b[0m\u001b[0;34m*\u001b[0m\u001b[0margs\u001b[0m\u001b[0;34m,\u001b[0m \u001b[0;34m**\u001b[0m\u001b[0mkwds\u001b[0m\u001b[0;34m)\u001b[0m\u001b[0;34m\u001b[0m\u001b[0;34m\u001b[0m\u001b[0m\n\u001b[0m\u001b[1;32m   1605\u001b[0m \u001b[0;34m\u001b[0m\u001b[0m\n\u001b[1;32m   1606\u001b[0m \u001b[0;32mdef\u001b[0m \u001b[0mset_trace\u001b[0m\u001b[0;34m(\u001b[0m\u001b[0;34m*\u001b[0m\u001b[0;34m,\u001b[0m \u001b[0mheader\u001b[0m\u001b[0;34m=\u001b[0m\u001b[0;32mNone\u001b[0m\u001b[0;34m)\u001b[0m\u001b[0;34m:\u001b[0m\u001b[0;34m\u001b[0m\u001b[0;34m\u001b[0m\u001b[0m\n",
      "\u001b[0;31mTypeError\u001b[0m: runcall() missing 1 required positional argument: 'func'"
     ]
    }
   ],
   "source": [
    "x=[1,3,5,6]\n",
    "y=9\n",
    "z=4\n",
    "\n",
    "result1=z+y\n",
    "print(result1)\n",
    "\n",
    "pdb.runcall()\n",
    "result2=x+z\n",
    "print(result2)\n"
   ]
  },
  {
   "cell_type": "markdown",
   "metadata": {},
   "source": [
    "# regular expression opertion\n"
   ]
  },
  {
   "cell_type": "code",
   "execution_count": 200,
   "metadata": {},
   "outputs": [],
   "source": [
    "import re\n",
    "text=\"hey hello what is your name\"\n",
    "match=re.search('hello',text)"
   ]
  },
  {
   "cell_type": "code",
   "execution_count": 208,
   "metadata": {},
   "outputs": [
    {
     "data": {
      "text/plain": [
       "'hey hello what is your name'"
      ]
     },
     "execution_count": 208,
     "metadata": {},
     "output_type": "execute_result"
    }
   ],
   "source": [
    "match.string"
   ]
  },
  {
   "cell_type": "code",
   "execution_count": 8,
   "metadata": {},
   "outputs": [
    {
     "name": "stdout",
     "output_type": "stream",
     "text": [
      "searching for \"term1\" \n",
      " in \"This is a string with term1, but it does not have the other term\" \n",
      "\n",
      "Match was found. \n",
      "\n",
      "searching for \"term2\" \n",
      " in \"This is a string with term1, but it does not have the other term\" \n",
      "\n",
      "No Match was found.\n",
      "\n"
     ]
    }
   ],
   "source": [
    "import re\n",
    "patterns=['term1','term2']\n",
    "phrase= 'This is a string with term1, but it does not have the other term'\n",
    "\n",
    "for pattern in patterns:\n",
    "    print('searching for \"%s\" \\n in \"%s\" \\n' %(pattern,phrase))\n",
    "    \n",
    "    if re.search(pattern,phrase):\n",
    "          print('Match was found. \\n')\n",
    "    else:\n",
    "        print('No Match was found.\\n')"
   ]
  },
  {
   "cell_type": "markdown",
   "metadata": {},
   "source": [
    "# spilt with regular expression"
   ]
  },
  {
   "cell_type": "code",
   "execution_count": 10,
   "metadata": {},
   "outputs": [
    {
     "data": {
      "text/plain": [
       "['hey what is your mail is it email', 'gmail.com']"
      ]
     },
     "execution_count": 10,
     "metadata": {},
     "output_type": "execute_result"
    }
   ],
   "source": [
    "split_term=\"@\"\n",
    "\n",
    "phrase=\"hey what is your mail is it email@gmail.com\"\n",
    "\n",
    "re.split(split_term,phrase)"
   ]
  },
  {
   "cell_type": "code",
   "execution_count": 11,
   "metadata": {},
   "outputs": [
    {
     "data": {
      "text/plain": [
       "['hey we all are the buddy of daniel and ', \" are'nt we?\"]"
      ]
     },
     "execution_count": 11,
     "metadata": {},
     "output_type": "execute_result"
    }
   ],
   "source": [
    "erase=\"jack_dack\"\n",
    "\n",
    "phrase=\"hey we all are the buddy of daniel and jack_dack are'nt we?\"\n",
    "\n",
    "re.split(erase,phrase)"
   ]
  },
  {
   "cell_type": "markdown",
   "metadata": {},
   "source": [
    "Note how re.split() returns a list with the term to split on removed and the terms in the list are a split up version of the string. \n",
    "#Create a couple of more examples for yourself to make sure you understand!"
   ]
  },
  {
   "cell_type": "markdown",
   "metadata": {},
   "source": [
    "# Finding all instances of a pattern\n",
    "You can use re.findall() to find all the instances of a pattern in a string. For example:"
   ]
  },
  {
   "cell_type": "code",
   "execution_count": 16,
   "metadata": {},
   "outputs": [
    {
     "data": {
      "text/plain": [
       "['we']"
      ]
     },
     "execution_count": 16,
     "metadata": {},
     "output_type": "execute_result"
    }
   ],
   "source": [
    "re.findall('we',\"let's say sammy as we all his friends\")"
   ]
  },
  {
   "cell_type": "markdown",
   "metadata": {},
   "source": [
    "# Repetition Syntax\n",
    "There are five ways to express repetition in a pattern:\n",
    "\n",
    "1.A pattern followed by the meta-character * is repeated zero or more times.\n",
    "2.Replace the * with + and the pattern must appear at least once.\n",
    "3.Using ? means the pattern appears zero or one time.\n",
    "4.For a specific number of occurrences, use {m} after the pattern, where m is replaced with 5.the number of times the pattern should repeat.\n",
    "6.Use {m,n} where m is the minimum number of repetitions and n is the maximum. Leaving out n     {m,} means the value appears at least m times, with no maximum.\n",
    "\n",
    "Now we will see an example of each of these using our multi_re_find function:\n"
   ]
  },
  {
   "cell_type": "code",
   "execution_count": 39,
   "metadata": {},
   "outputs": [
    {
     "name": "stdout",
     "output_type": "stream",
     "text": [
      "Searching the phrase using the re check: 'sd*'\n",
      "['sd', 'sd', 's', 's', 'sddd', 'sddd', 'sddd', 'sd', 's', 's', 's', 's', 's', 's', 'sdddd']\n",
      "\n",
      "\n",
      "Searching the phrase using the re check: 'sd+'\n",
      "['sd', 'sd', 'sddd', 'sddd', 'sddd', 'sd', 'sdddd']\n",
      "\n",
      "\n",
      "Searching the phrase using the re check: 'sd?'\n",
      "['sd', 'sd', 's', 's', 'sd', 'sd', 'sd', 'sd', 's', 's', 's', 's', 's', 's', 'sd']\n",
      "\n",
      "\n",
      "Searching the phrase using the re check: 'sd{3}'\n",
      "['sddd', 'sddd', 'sddd', 'sddd']\n",
      "\n",
      "\n",
      "Searching the phrase using the re check: 'sd{2,3}'\n",
      "['sddd', 'sddd', 'sddd', 'sddd']\n",
      "\n",
      "\n"
     ]
    }
   ],
   "source": [
    "def multi_re_find(patterns,phrase):\n",
    "    '''\n",
    "    Takes in a list of regex patterns\n",
    "    Prints a list of all matches\n",
    "    '''\n",
    "    for pattern in patterns:\n",
    "        print('Searching the phrase using the re check: %r' %(pattern))\n",
    "        print(re.findall(pattern,phrase))\n",
    "        print('\\n')\n",
    "\n",
    "\n",
    "\n",
    "\n",
    "\n",
    "\n",
    "test_phrase = 'sdsd..sssddd...sdddsddd...dsds...dsssss...sdddd'\n",
    "\n",
    "test_patterns = [ 'sd*',     # s followed by zero or more d's\n",
    "                'sd+',          # s followed by one or more d's\n",
    "                'sd?',          # s followed by zero or one d's\n",
    "                'sd{3}',        # s followed by three d's\n",
    "                'sd{2,3}',      # s followed by two to three d's\n",
    "                ]\n",
    "\n",
    "multi_re_find(test_patterns,test_phrase)"
   ]
  },
  {
   "cell_type": "code",
   "execution_count": 40,
   "metadata": {},
   "outputs": [
    {
     "name": "stdout",
     "output_type": "stream",
     "text": [
      "Searching the phrase using the re check: '[sd]+'\n",
      "['ssdd', 'sd', 'ds', 'd', 's', 'd', 'ddddsss', 'sssssdd', 'ssdds', 'dddssdd']\n",
      "\n",
      "\n",
      "Searching the phrase using the re check: 's[sd]+'\n",
      "['ssdd', 'sd', 'sss', 'sssssdd', 'ssdds', 'ssdd']\n",
      "\n",
      "\n"
     ]
    }
   ],
   "source": [
    "test_phrase ='ssdd...sd...ds.d.s.d.ddddsss....sssssdd...ssdds...dddssdd'\n",
    "\n",
    "test_pattern=('[sd]+',\n",
    "             's[sd]+'\n",
    "                  )\n",
    "multi_re_find(test_pattern,test_phrase)"
   ]
  },
  {
   "cell_type": "code",
   "execution_count": 41,
   "metadata": {},
   "outputs": [],
   "source": [
    "test_phrase2='This is a string! But it has punctuation. How can we remove it?'\n",
    "\n",
    "test_pattern=('[^.!,?]',test_phrase2)"
   ]
  },
  {
   "cell_type": "code",
   "execution_count": 42,
   "metadata": {},
   "outputs": [
    {
     "name": "stdout",
     "output_type": "stream",
     "text": [
      "Searching the phrase using the re check: '[^.!,?]'\n",
      "['T', 'h', 'i', 's', ' ', 'i', 's', ' ', 'a', ' ', 's', 't', 'r', 'i', 'n', 'g', ' ', 'B', 'u', 't', ' ', 'i', 't', ' ', 'h', 'a', 's', ' ', 'p', 'u', 'n', 'c', 't', 'u', 'a', 't', 'i', 'o', 'n', ' ', 'H', 'o', 'w', ' ', 'c', 'a', 'n', ' ', 'w', 'e', ' ', 'r', 'e', 'm', 'o', 'v', 'e', ' ', 'i', 't']\n",
      "\n",
      "\n",
      "Searching the phrase using the re check: 'This is a string! But it has punctuation. How can we remove it?'\n",
      "['This is a string! But it has punctuation. How can we remove it']\n",
      "\n",
      "\n"
     ]
    }
   ],
   "source": [
    "multi_re_find(test_pattern,test_phrase2)"
   ]
  },
  {
   "cell_type": "code",
   "execution_count": 43,
   "metadata": {},
   "outputs": [
    {
     "name": "stdout",
     "output_type": "stream",
     "text": [
      "01/21/2020, 11:59:26\n"
     ]
    }
   ],
   "source": [
    "import time\n",
    " # get struct_time\n",
    "time_string = time.strftime(\"%m/%d/%Y, %H:%M:%S\")\n",
    "print(time_string)"
   ]
  },
  {
   "cell_type": "code",
   "execution_count": 55,
   "metadata": {},
   "outputs": [
    {
     "name": "stdout",
     "output_type": "stream",
     "text": [
      "Searching the phrase using the re check: 's(?=d)'\n",
      "['s', 's', 's', 's', 's']\n",
      "\n",
      "\n",
      "Searching the phrase using the re check: 'ssdd...sd...ds.d.s.d.ddddsss....sssssdd...ssdds...dddssdd'\n",
      "['ssdd...sd...ds.d.s.d.ddddsss....sssssdd...ssdds...dddssdd']\n",
      "\n",
      "\n"
     ]
    }
   ],
   "source": [
    "test_pattern=['s(?=d)',test_phrase]#lookahead asserstion\n",
    "multi_re_find(test_pattern,test_phrase)"
   ]
  },
  {
   "cell_type": "code",
   "execution_count": 56,
   "metadata": {},
   "outputs": [
    {
     "name": "stdout",
     "output_type": "stream",
     "text": [
      "Searching the phrase using the re check: 's(?!d)'\n",
      "['s', 's', 's', 's', 's', 's', 's', 's', 's', 's', 's', 's', 's']\n",
      "\n",
      "\n",
      "Searching the phrase using the re check: 'ssdd...sd...ds.d.s.d.ddddsss....sssssdd...ssdds...dddssdd'\n",
      "['ssdd...sd...ds.d.s.d.ddddsss....sssssdd...ssdds...dddssdd']\n",
      "\n",
      "\n"
     ]
    }
   ],
   "source": [
    "test_pattern=['s(?!d)',test_phrase]#not lookahead asserestion\n",
    "multi_re_find(test_pattern,test_phrase)"
   ]
  },
  {
   "cell_type": "code",
   "execution_count": 57,
   "metadata": {},
   "outputs": [
    {
     "data": {
      "text/plain": [
       "<re.Match object; span=(0, 1), match='a'>"
      ]
     },
     "execution_count": 57,
     "metadata": {},
     "output_type": "execute_result"
    }
   ],
   "source": [
    "re.match(\"c\", \"abcdef\")    # No match\n",
    ">>> re.search(\"^c\", \"abcdef\")  # No match\n",
    ">>> re.search(\"^a\", \"abcdef\")  # Match\n"
   ]
  },
  {
   "cell_type": "code",
   "execution_count": 58,
   "metadata": {},
   "outputs": [],
   "source": [
    "text = \"\"\"Ross McFluff: 834.345.1254 155 Elm Street\n",
    "...\n",
    "... Ronald Heathmore: 892.345.3428 436 Finley Avenue\n",
    "... Frank Burger: 925.541.7625 662 South Dogwood Way\n",
    "...\n",
    "...\n",
    "... Heather Albrecht: 548.326.4584 919 Park Place\"\"\""
   ]
  },
  {
   "cell_type": "code",
   "execution_count": 62,
   "metadata": {},
   "outputs": [
    {
     "data": {
      "text/plain": [
       "['Ross McFluff: 834.345.1254 155 Elm Street',\n",
       " 'Ronald Heathmore: 892.345.3428 436 Finley Avenue',\n",
       " 'Frank Burger: 925.541.7625 662 South Dogwood Way',\n",
       " 'Heather Albrecht: 548.326.4584 919 Park Place']"
      ]
     },
     "execution_count": 62,
     "metadata": {},
     "output_type": "execute_result"
    }
   ],
   "source": [
    "re.split(\"\\n+\",text) #creating a phonebook"
   ]
  },
  {
   "cell_type": "code",
   "execution_count": null,
   "metadata": {},
   "outputs": [],
   "source": []
  }
 ],
 "metadata": {
  "kernelspec": {
   "display_name": "Python 3",
   "language": "python",
   "name": "python3"
  },
  "language_info": {
   "codemirror_mode": {
    "name": "ipython",
    "version": 3
   },
   "file_extension": ".py",
   "mimetype": "text/x-python",
   "name": "python",
   "nbconvert_exporter": "python",
   "pygments_lexer": "ipython3",
   "version": "3.7.3"
  }
 },
 "nbformat": 4,
 "nbformat_minor": 2
}
