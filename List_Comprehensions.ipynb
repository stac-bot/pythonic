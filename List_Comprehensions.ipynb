{
  "nbformat": 4,
  "nbformat_minor": 0,
  "metadata": {
    "colab": {
      "name": "List_Comprehensions.ipynb",
      "provenance": [],
      "collapsed_sections": [],
      "authorship_tag": "ABX9TyM7GBWPMAak8LZr4IWpPZDa",
      "include_colab_link": true
    },
    "kernelspec": {
      "name": "python3",
      "display_name": "Python 3"
    },
    "language_info": {
      "name": "python"
    }
  },
  "cells": [
    {
      "cell_type": "markdown",
      "metadata": {
        "id": "view-in-github",
        "colab_type": "text"
      },
      "source": [
        "<a href=\"https://colab.research.google.com/github/stac-bot/pythonic/blob/main/List_Comprehensions.ipynb\" target=\"_parent\"><img src=\"https://colab.research.google.com/assets/colab-badge.svg\" alt=\"Open In Colab\"/></a>"
      ]
    },
    {
      "cell_type": "markdown",
      "source": [
        "## Using Comprehension insteaded of map and filters"
      ],
      "metadata": {
        "id": "jeiHDvnCDFfK"
      }
    },
    {
      "cell_type": "markdown",
      "source": [
        "**what is comprehension?** <br>\n",
        "\n",
        "python provides a special syntax, called *comprehension*, for succinctly iterating through these types and creating derivative data structures. In more simple way to put this is, it is an expression that helps to derivate new list from another sequence or iterable. This expression are called list comprehensions<br>\n",
        "**what does comprehension do?**<br>\n",
        "Comprehension can significantly increase the readability of the code and comes with other several benefits."
      ],
      "metadata": {
        "id": "dNj3dK6eDUJQ"
      }
    },
    {
      "cell_type": "code",
      "execution_count": null,
      "metadata": {
        "colab": {
          "base_uri": "https://localhost:8080/"
        },
        "id": "IgG8KWwyC9Hg",
        "outputId": "d2a70cc1-f59d-4084-f2cb-dfea9d60d304"
      },
      "outputs": [
        {
          "output_type": "execute_result",
          "data": {
            "text/plain": [
              "[1, 4, 9, 16, 25, 36]"
            ]
          },
          "metadata": {},
          "execution_count": 2
        }
      ],
      "source": [
        "# Example\n",
        "li = [1,2,3,4,5,6]\n",
        "# if i want the list of square for items in list a\n",
        "# using list comprehension\n",
        "result = [x**2 for x in li]\n",
        "result"
      ]
    },
    {
      "cell_type": "markdown",
      "source": [
        "Unless you're applying a single-argument function, list comprehensions are also cleaner than the map built-in fucntion for simple cases.\n",
        "*map* requires the creation of lambda function for the computation, which is messy or noisy:"
      ],
      "metadata": {
        "id": "kYjWR9iFFloz"
      }
    },
    {
      "cell_type": "code",
      "source": [
        "alt = map(lambda x: x**2, li)\n",
        "list(alt)"
      ],
      "metadata": {
        "colab": {
          "base_uri": "https://localhost:8080/"
        },
        "id": "prTqnpf5FlK5",
        "outputId": "b0ade96b-2ab2-4a1a-b248-2a19966c2a49"
      },
      "execution_count": null,
      "outputs": [
        {
          "output_type": "execute_result",
          "data": {
            "text/plain": [
              "[1, 4, 9, 16, 25, 36]"
            ]
          },
          "metadata": {},
          "execution_count": 4
        }
      ]
    },
    {
      "cell_type": "markdown",
      "source": [
        "Unlike *map*, list *comprehensio* let you easily apply conditions over the iteration or sequence being applied to:"
      ],
      "metadata": {
        "id": "VkTZVIRiGcWm"
      }
    },
    {
      "cell_type": "code",
      "source": [
        "even_square = [x**2 for x in li if x%2==0]\n",
        "even_square"
      ],
      "metadata": {
        "colab": {
          "base_uri": "https://localhost:8080/"
        },
        "id": "1WzF033kFaED",
        "outputId": "dd92ee22-45fb-41c2-ed8e-cc5441f30725"
      },
      "execution_count": null,
      "outputs": [
        {
          "output_type": "execute_result",
          "data": {
            "text/plain": [
              "[4, 16, 36]"
            ]
          },
          "metadata": {},
          "execution_count": 5
        }
      ]
    },
    {
      "cell_type": "markdown",
      "source": [
        "the *filter* built-in function can be used along with *map* to achieve the same outcome, but it is much harder to read as compare to *list comprehension*:"
      ],
      "metadata": {
        "id": "1UpSVPpcG3fu"
      }
    },
    {
      "cell_type": "code",
      "source": [
        "# map(fun,list)\n",
        "# list = filter(func,iterable)\n",
        "alt = map(lambda x:x**2,filter(lambda x: x%2==0, li))\n",
        "list(alt)\n"
      ],
      "metadata": {
        "colab": {
          "base_uri": "https://localhost:8080/"
        },
        "id": "vgCzGrLnG0_k",
        "outputId": "82e4d297-d0a0-40a6-8d39-b76def959a4a"
      },
      "execution_count": null,
      "outputs": [
        {
          "output_type": "execute_result",
          "data": {
            "text/plain": [
              "[4, 16, 36]"
            ]
          },
          "metadata": {},
          "execution_count": 6
        }
      ]
    },
    {
      "cell_type": "markdown",
      "source": [
        "Dictionaries and sets have their own list comprehension which is in many way similar to list comprehension except enclosed in {} braces instead of [] braces:\n",
        "These makes it easy to create other types of derivative data Structure when writing algorithms:"
      ],
      "metadata": {
        "id": "PFhpnx_aHtlR"
      }
    },
    {
      "cell_type": "code",
      "source": [
        "# {k:v for k,v in dict if condn}\n",
        "even_square_dict = {x:x**2 for x in li if x%2==0}\n",
        "# {exp(var) for var in li}\n",
        "cube_set = {x**3 for x in li if x%3==0}\n",
        "print(even_square_dict)\n",
        "print(cube_set)\n"
      ],
      "metadata": {
        "colab": {
          "base_uri": "https://localhost:8080/"
        },
        "id": "sUAj9PvuHrMq",
        "outputId": "733d205c-4d8d-4a4e-b873-a6b396b64778"
      },
      "execution_count": null,
      "outputs": [
        {
          "output_type": "stream",
          "name": "stdout",
          "text": [
            "{2: 4, 4: 16, 6: 36}\n",
            "{216, 27}\n"
          ]
        }
      ]
    },
    {
      "cell_type": "markdown",
      "source": [
        "Using *map* and *filter* for sets and dictionary makes things bit more complicated indeed breaking them up across multiple lines, which is even noisier, and should be avoided:\n"
      ],
      "metadata": {
        "id": "TYpf9EzzJUwV"
      }
    },
    {
      "cell_type": "code",
      "source": [
        "comp_dict = dict(map(lambda x: (x,x**2),\n",
        "                     filter(lambda x: x%2==0, li)))\n",
        "comp_set = set(map(lambda x: x**3, \n",
        "                   filter(lambda x: x%3==0, li)))\n",
        "print(comp_dict)\n",
        "print(comp_set\n",
        "      )"
      ],
      "metadata": {
        "colab": {
          "base_uri": "https://localhost:8080/"
        },
        "id": "Wb0BhGeWIsXI",
        "outputId": "2dc6ab01-2a21-4377-fb5a-b300e7cda1d2"
      },
      "execution_count": null,
      "outputs": [
        {
          "output_type": "stream",
          "name": "stdout",
          "text": [
            "{2: 4, 4: 16, 6: 36}\n",
            "{216, 27}\n"
          ]
        }
      ]
    },
    {
      "cell_type": "markdown",
      "source": [
        "**things to remember**\n",
        "\n",
        "\n",
        "*   List comprehension are cleaner and simpler than *map* and *filter* built-in func because they don't require *lambda* expression\n",
        "*   List comprehension allow you to easily skip items from the input list, a behavior that *map* doesn't support without *filter*.\n",
        "*     Dictionaries and sets may also be created using comprehensions.\n",
        "*     Avoid more than two control subexpression in comprehensions\n",
        "\n"
      ],
      "metadata": {
        "id": "oFJbiMK4Kg7S"
      }
    },
    {
      "cell_type": "markdown",
      "source": [
        "Let's explore the last point!\n",
        "\n",
        "Beyond the basic usage you can use comprehension for multiple levels of looping:"
      ],
      "metadata": {
        "id": "Z5l5URjAM9IT"
      }
    },
    {
      "cell_type": "code",
      "source": [
        "matrix = [[1,2,3],[4,5,6],[7,8,9]]\n",
        "result = [item for row in matrix for item in row]\n",
        "result\n"
      ],
      "metadata": {
        "colab": {
          "base_uri": "https://localhost:8080/"
        },
        "id": "mtuZSxt7KYiw",
        "outputId": "77d4b381-a16c-416c-b2a0-a5b3e56c0347"
      },
      "execution_count": null,
      "outputs": [
        {
          "output_type": "execute_result",
          "data": {
            "text/plain": [
              "[1, 2, 3, 4, 5, 6, 7, 8, 9]"
            ]
          },
          "metadata": {},
          "execution_count": 10
        }
      ]
    },
    {
      "cell_type": "markdown",
      "source": [
        "this is simple and reasonable usage of multiple loops in a comprehesion.\n",
        "Another thing we can do is replicating the two-level-deep layout:"
      ],
      "metadata": {
        "id": "wGGSFakbOEm8"
      }
    },
    {
      "cell_type": "code",
      "source": [
        "squared = [[x**2 for x in row] for row in matrix ]\n",
        "squared"
      ],
      "metadata": {
        "colab": {
          "base_uri": "https://localhost:8080/"
        },
        "id": "qnFRIE2lN9cr",
        "outputId": "3c70923d-8520-46b0-b4e2-066ea3d0ff53"
      },
      "execution_count": null,
      "outputs": [
        {
          "output_type": "execute_result",
          "data": {
            "text/plain": [
              "[[1, 4, 9], [16, 25, 36], [49, 64, 81]]"
            ]
          },
          "metadata": {},
          "execution_count": 11
        }
      ]
    },
    {
      "cell_type": "markdown",
      "source": [
        "If above computation included another loop it would get so long that i've to split into multiple lines:"
      ],
      "metadata": {
        "id": "QFZmKPmHOo7k"
      }
    },
    {
      "cell_type": "code",
      "source": [
        "import numpy as np\n",
        "matrix = np.arange(12).reshape((3,2,2))\n",
        "result = [x for row1 in matrix\n",
        "          for row2 in row1\n",
        "          for x in row2]\n",
        "print(matrix)          \n",
        "result"
      ],
      "metadata": {
        "colab": {
          "base_uri": "https://localhost:8080/"
        },
        "id": "f8cEckpzOlL3",
        "outputId": "76ba0b0d-6a67-45d5-97cd-c7ba474cb82c"
      },
      "execution_count": null,
      "outputs": [
        {
          "output_type": "stream",
          "name": "stdout",
          "text": [
            "[[[ 0  1]\n",
            "  [ 2  3]]\n",
            "\n",
            " [[ 4  5]\n",
            "  [ 6  7]]\n",
            "\n",
            " [[ 8  9]\n",
            "  [10 11]]]\n"
          ]
        },
        {
          "output_type": "execute_result",
          "data": {
            "text/plain": [
              "[0, 1, 2, 3, 4, 5, 6, 7, 8, 9, 10, 11]"
            ]
          },
          "metadata": {},
          "execution_count": 14
        }
      ]
    },
    {
      "cell_type": "markdown",
      "source": [
        "As we can see above, the multiline compreshension isn't much shorter than the alternative. Instead using the normal version of loops makes it clean and simple to understand:"
      ],
      "metadata": {
        "id": "WweBY8UcPurW"
      }
    },
    {
      "cell_type": "code",
      "source": [
        "simple =[]\n",
        "for i in matrix:\n",
        "  for j in i:\n",
        "    simple.extend(j)\n",
        "\n",
        "simple"
      ],
      "metadata": {
        "colab": {
          "base_uri": "https://localhost:8080/"
        },
        "id": "qb2sr8IYPZiM",
        "outputId": "65875c45-a2a2-4451-87ed-476a3a28eb01"
      },
      "execution_count": null,
      "outputs": [
        {
          "output_type": "execute_result",
          "data": {
            "text/plain": [
              "[0, 1, 2, 3, 4, 5, 6, 7, 8, 9, 10, 11]"
            ]
          },
          "metadata": {},
          "execution_count": 16
        }
      ]
    },
    {
      "cell_type": "markdown",
      "source": [
        "Comprehesion also support multiple *if conditons* . Multiple condition at same loop level makes it implicit and expression:"
      ],
      "metadata": {
        "id": "o4C7YsJ_QYbe"
      }
    },
    {
      "cell_type": "code",
      "source": [
        "a = np.arange(10)\n",
        "b = [x for x in a if x>2 if x %2==0]\n",
        "b"
      ],
      "metadata": {
        "colab": {
          "base_uri": "https://localhost:8080/"
        },
        "id": "swYji_owQUYM",
        "outputId": "db0f754b-8dfc-4881-e08f-812b5cb43505"
      },
      "execution_count": null,
      "outputs": [
        {
          "output_type": "execute_result",
          "data": {
            "text/plain": [
              "[4, 6, 8]"
            ]
          },
          "metadata": {},
          "execution_count": 17
        }
      ]
    },
    {
      "cell_type": "markdown",
      "source": [
        "if condition can also be applied to all levels of loop \n",
        "\n"
      ],
      "metadata": {
        "id": "rq7PFOHoRID5"
      }
    },
    {
      "cell_type": "code",
      "source": [
        "matrix = np.arange(12).reshape((3,4))\n",
        "result2 = [[x for x in row if x%3==0] \n",
        "           for row in matrix if sum(row)>10]\n",
        "result2"
      ],
      "metadata": {
        "colab": {
          "base_uri": "https://localhost:8080/"
        },
        "id": "0PAkTqzWQ9iF",
        "outputId": "ca51b4d9-4672-4bda-a548-6179e857fe4c"
      },
      "execution_count": null,
      "outputs": [
        {
          "output_type": "execute_result",
          "data": {
            "text/plain": [
              "[[6], [9]]"
            ]
          },
          "metadata": {},
          "execution_count": 27
        }
      ]
    },
    {
      "cell_type": "markdown",
      "source": [
        "**Things to remember**\n",
        "*   Comprehension support multiple levels of loops and multiple conditions per loop level\n",
        "*   Comprehesions with more than two control expressions are very difficult to read and should be avoided."
      ],
      "metadata": {
        "id": "0Ct4NQ0jScwY"
      }
    },
    {
      "cell_type": "markdown",
      "source": [
        "**It it not the end, there are many ways to use list comprehension. I will try bring some more as I'm curious to dive deep, let me know any pythonic way you would think is better.**"
      ],
      "metadata": {
        "id": "O4cdg4jNVVTn"
      }
    },
    {
      "cell_type": "code",
      "source": [
        ""
      ],
      "metadata": {
        "id": "rWh-v1ImRjgA"
      },
      "execution_count": null,
      "outputs": []
    }
  ]
}